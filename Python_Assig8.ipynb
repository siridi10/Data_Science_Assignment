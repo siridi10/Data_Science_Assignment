{
  "nbformat": 4,
  "nbformat_minor": 0,
  "metadata": {
    "colab": {
      "name": "Python_Assig8.ipynb",
      "provenance": []
    },
    "kernelspec": {
      "name": "python3",
      "display_name": "Python 3"
    },
    "language_info": {
      "name": "python"
    }
  },
  "cells": [
    {
      "cell_type": "code",
      "execution_count": null,
      "metadata": {
        "id": "o5dFwMwLr0Gn"
      },
      "outputs": [],
      "source": [
        "1. Is the Python Standard Library included with PyInputPlus?\n",
        "PyInputPlus is not a part of the Python Standard Library"
      ]
    },
    {
      "cell_type": "code",
      "source": [
        "2. Why is PyInputPlus commonly imported with import pyinputplus as pypi?\n",
        "We can import the module with import pyinputplus as pyip so that you can enter a shorter name when calling the module's functions. \n",
        "PyInputPlus has functions for entering a variety of input, including strings, numbers, dates, yes/no, True/False, emails, and files."
      ],
      "metadata": {
        "id": "ZJsMuVLcsnsU"
      },
      "execution_count": null,
      "outputs": []
    },
    {
      "cell_type": "code",
      "source": [
        "3. How do you distinguish between inputInt() and inputFloat()?\n",
        "inputInt() : Accepts an integer value. This also takes additional parameters 'min', 'max', 'greaterThan' and 'lessThan' for bounds. Returns an int. \n",
        "inputFloat() : Accepts a floating-point numeric value"
      ],
      "metadata": {
        "id": "cQdFncK4snub"
      },
      "execution_count": null,
      "outputs": []
    },
    {
      "cell_type": "code",
      "source": [
        "4. Using PyInputPlus, how do you ensure that the user enters a whole number between 0 and 99?\n",
        "import pyinputplus as pyip\n",
        "inp = pyip.inputInt(prompt = \"Enter an Integer... \",\n",
        "\t\t\t\t\tmin = 0, lessThan = 99)\n",
        "print(inp)\n"
      ],
      "metadata": {
        "id": "tZocwhHCsnxf"
      },
      "execution_count": null,
      "outputs": []
    },
    {
      "cell_type": "code",
      "source": [
        "5. What is transferred to the keyword arguments allowRegexes and blockRegexes?\n",
        "\n",
        "The allowRegexes and blockRegexes keyword arguments take a list of regular expression strings to determine what the PyInputPlus function will accept or reject as valid input. "
      ],
      "metadata": {
        "id": "nWOUMDa49gDK"
      },
      "execution_count": null,
      "outputs": []
    },
    {
      "cell_type": "code",
      "source": [
        "6. If a blank input is entered three times, what does inputStr(limit=3) do?\n",
        " raises a TimeoutException exception. If the user answers incorrectly more than 3 times, it raises a RetryLimitException exception."
      ],
      "metadata": {
        "id": "42NA3Cg79gE5"
      },
      "execution_count": null,
      "outputs": []
    },
    {
      "cell_type": "code",
      "source": [
        "7. If blank input is entered three times, what does inputStr(limit=3, default='hello') do?\n",
        "It returns a None value."
      ],
      "metadata": {
        "id": "50KMV3kl96sO"
      },
      "execution_count": null,
      "outputs": []
    }
  ]
}