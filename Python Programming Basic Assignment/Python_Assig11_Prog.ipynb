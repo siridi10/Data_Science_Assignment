{
  "nbformat": 4,
  "nbformat_minor": 0,
  "metadata": {
    "colab": {
      "name": "Python_Assig11_Prog.ipynb",
      "provenance": [],
      "collapsed_sections": []
    },
    "kernelspec": {
      "name": "python3",
      "display_name": "Python 3"
    },
    "language_info": {
      "name": "python"
    }
  },
  "cells": [
    {
      "cell_type": "code",
      "execution_count": 1,
      "metadata": {
        "id": "D5sadO-CiOAx",
        "colab": {
          "base_uri": "https://localhost:8080/"
        },
        "outputId": "671822be-bb39-4aa3-bc9b-7271a1fb0856"
      },
      "outputs": [
        {
          "output_type": "stream",
          "name": "stdout",
          "text": [
            "['Siridi', 'nath']\n"
          ]
        }
      ],
      "source": [
        "# 1. Write a Python program to find words which are greater than given length k?\n",
        "\n",
        "def string_k(k, str):\n",
        "\tstring = []\n",
        "\ttext = str.split(\" \")\n",
        "\tfor x in text:\n",
        "\t\tif len(x) > k:\n",
        "\t\t\tstring.append(x)\n",
        "\treturn string\n",
        "\n",
        "k = 3\n",
        "str =\"Siridi nath\"\n",
        "print(string_k(k, str))\n"
      ]
    },
    {
      "cell_type": "code",
      "source": [
        "# 2. Write a Python program for removing i-th character from a string?\n",
        "def remove(s,j):\n",
        "  for i in range(len(s)):\n",
        "    if i==j:\n",
        "      s=s.replace(s[i],\"\",1)\n",
        "  return s\n",
        "remove(\"siridi\",3)"
      ],
      "metadata": {
        "id": "3YNpMEvlp5l7",
        "colab": {
          "base_uri": "https://localhost:8080/",
          "height": 35
        },
        "outputId": "b6b1c0d7-e8d3-451c-87bf-710fd9f57d6c"
      },
      "execution_count": 16,
      "outputs": [
        {
          "output_type": "execute_result",
          "data": {
            "application/vnd.google.colaboratory.intrinsic+json": {
              "type": "string"
            },
            "text/plain": [
              "'sridi'"
            ]
          },
          "metadata": {},
          "execution_count": 16
        }
      ]
    },
    {
      "cell_type": "code",
      "source": [
        "# 3. Write a Python program to split and join a string?\n",
        "\n",
        "def split_string(string):\n",
        "\tlist_string = string.split(' ')\n",
        "\treturn list_string\n",
        "\n",
        "def join_string(list_string):\n",
        "\tstring = '-'.join(list_string)\n",
        "\treturn string\n",
        "\n",
        "print(split_string(\"siridi\"))\n",
        "\n",
        "print(join_string(\"siridi\"))"
      ],
      "metadata": {
        "id": "u7O6EKlhrMW_",
        "colab": {
          "base_uri": "https://localhost:8080/"
        },
        "outputId": "b000629c-cfac-42e2-8e49-bf6c7d36a75e"
      },
      "execution_count": 22,
      "outputs": [
        {
          "output_type": "stream",
          "name": "stdout",
          "text": [
            "['siridi']\n",
            "s-i-r-i-d-i\n"
          ]
        }
      ]
    },
    {
      "cell_type": "code",
      "source": [
        "# 4. Write a Python to check if a given string is binary string or not?\n",
        "def check(string) :\n",
        "    b = set(string)\n",
        "    s = {'0', '1'}\n",
        "    if s == b or b == {'0'} or b == {'1'}:\n",
        "        return (\"Binary String\")\n",
        "    else :\n",
        "        return (\"Non Binary String\")\n",
        "check(\"1010100200111\")"
      ],
      "metadata": {
        "id": "jMVooa_dqkia",
        "colab": {
          "base_uri": "https://localhost:8080/",
          "height": 35
        },
        "outputId": "e11a1fd2-52f8-474e-be9d-c9b38fd332b3"
      },
      "execution_count": 18,
      "outputs": [
        {
          "output_type": "execute_result",
          "data": {
            "application/vnd.google.colaboratory.intrinsic+json": {
              "type": "string"
            },
            "text/plain": [
              "'Non Binary String'"
            ]
          },
          "metadata": {},
          "execution_count": 18
        }
      ]
    },
    {
      "cell_type": "code",
      "source": [
        "# 5. Write a Python program to find uncommon words from two Strings?\n",
        "def uncommon(a,b):\n",
        "\tlist_a = a.split()\n",
        "\tlist_b = b.split()\n",
        "\tuc = ''\n",
        "\tfor i in list_a:\n",
        "\t\tif i not in list_b:\n",
        "\t\t\tuc = uc+\" \"+i\n",
        "\tfor j in list_b:\n",
        "\t\tif j not in list_a:\n",
        "\t\t\tuc = uc+\" \"+j\n",
        "\treturn uc\n",
        "\n",
        "uncommon(\"apple banana mango\",\"banana fruits mango\")"
      ],
      "metadata": {
        "id": "0ioohkbAt2bY",
        "colab": {
          "base_uri": "https://localhost:8080/",
          "height": 35
        },
        "outputId": "3a6add9e-bc00-45cf-82a1-8ccd7df38dcd"
      },
      "execution_count": 23,
      "outputs": [
        {
          "output_type": "execute_result",
          "data": {
            "application/vnd.google.colaboratory.intrinsic+json": {
              "type": "string"
            },
            "text/plain": [
              "' apple fruits'"
            ]
          },
          "metadata": {},
          "execution_count": 23
        }
      ]
    },
    {
      "cell_type": "code",
      "source": [
        "# 6. Write a Python to find all duplicate characters in string?\n",
        "string = \"Siridi\";  \n",
        "\n",
        "for i in range(0, len(string)):\n",
        "    count = 1;\n",
        "    for j in range(i+1, len(string)):\n",
        "        if(string[i] == string[j] and string[i] != ' '):\n",
        "            count = count + 1;\n",
        "            string = string[:j] + '0' + string[j+1:];  \n",
        "    if(count > 1 and string[i] != '0'):  \n",
        "        print(string[i],end=\" \"); "
      ],
      "metadata": {
        "id": "ARjVPYFpLhNi",
        "colab": {
          "base_uri": "https://localhost:8080/"
        },
        "outputId": "66be72d1-c7d3-41cf-cf57-8d8dfc21b8cf"
      },
      "execution_count": 26,
      "outputs": [
        {
          "output_type": "stream",
          "name": "stdout",
          "text": [
            "i "
          ]
        }
      ]
    },
    {
      "cell_type": "code",
      "source": [
        "# 7. Write a Python Program to check if a string contains any special character?\n",
        "\n",
        "import re\n",
        "def run(string):\n",
        "\tregex = re.compile('[@_!#$%^&*()<>?/\\|}{~:]')\n",
        "\tif(regex.search(string) == None):\n",
        "\t\tprint(\"string doesn't contains any special character\")\n",
        "\telse:\n",
        "\t\tprint(\"string contains special character\")\n",
        "\n",
        "run(\"Siridi***\")"
      ],
      "metadata": {
        "id": "h9UwC5gjhfKQ",
        "colab": {
          "base_uri": "https://localhost:8080/"
        },
        "outputId": "5b17d402-2b6c-491c-88fb-f68ae4cc2ea8"
      },
      "execution_count": 29,
      "outputs": [
        {
          "output_type": "stream",
          "name": "stdout",
          "text": [
            "string contains special character\n"
          ]
        }
      ]
    }
  ]
}