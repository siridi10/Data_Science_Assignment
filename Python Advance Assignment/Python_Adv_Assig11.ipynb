{
  "nbformat": 4,
  "nbformat_minor": 0,
  "metadata": {
    "colab": {
      "name": "Python_Adv_Assig11.ipynb",
      "provenance": []
    },
    "kernelspec": {
      "name": "python3",
      "display_name": "Python 3"
    },
    "language_info": {
      "name": "python"
    }
  },
  "cells": [
    {
      "cell_type": "code",
      "execution_count": null,
      "metadata": {
        "id": "OUuNxFb4sssz"
      },
      "outputs": [],
      "source": [
        "Q1. What is the concept of a metaclass?\n",
        "\n",
        "A metaclass in Python is a class of a class that defines how a class behaves. A class is itself an instance of a metaclass. A class in Python defines how the instance of the class will behave. In order to understand metaclasses well, one needs to have prior experience working with Python classes.\n"
      ]
    },
    {
      "cell_type": "code",
      "source": [
        "Q2. What is the best way to declare a class's metaclass?\n",
        "\n",
        "The metaclass is then called with the name, bases and attributes of the class to instantiate it. However, metaclasses actually define the type of a class, not just a factory for it, so you can do much more with them. You can, for instance, define normal methods on the metaclass.\n",
        "\n",
        "class MyMeta(type):\n",
        "    pass\n",
        "\n",
        "class MyClass(metaclass=MyMeta):\n",
        "    pass\n",
        "\n",
        "class MySubclass(MyClass):\n",
        "    pass\n",
        "print(type(MyMeta))\n",
        "print(type(MyClass))\n",
        "print(type(MySubclass))\n",
        "<class 'type'>\n",
        "<class '__main__.MyMeta'>\n",
        "<class '__main__.MyMeta'>\n"
      ],
      "metadata": {
        "id": "Yb7yWcmbtIF0"
      },
      "execution_count": null,
      "outputs": []
    },
    {
      "cell_type": "code",
      "source": [
        "Q3. How do class decorators overlap with metaclasses for handling classes?\n",
        "Anything you can do with a class decorator, you can of course do with a custom metaclasses (just apply the functionality of the \"decorator function\", i.e., the one that takes a class object and modifies it, in the course of the metaclass's __new__ or __init__ that make the class object!).\n"
      ],
      "metadata": {
        "id": "6LcMFaldtIIt"
      },
      "execution_count": null,
      "outputs": []
    },
    {
      "cell_type": "code",
      "source": [
        "Q4. How do class decorators overlap with metaclasses for handling instances?\n",
        "Anything you can do with a class decorator, you can of course do with a custom metaclasses (just apply the functionality of the \"decorator function\", i.e., the one that takes a class object and modifies it, in the course of the metaclass's __new__ or __init__ that make the class object!)."
      ],
      "metadata": {
        "id": "HiQpvgtWbM2x"
      },
      "execution_count": null,
      "outputs": []
    }
  ]
}