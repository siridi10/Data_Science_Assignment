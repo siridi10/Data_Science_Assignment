{
  "nbformat": 4,
  "nbformat_minor": 0,
  "metadata": {
    "colab": {
      "name": "Python_Adv_Assig20.ipynb",
      "provenance": []
    },
    "kernelspec": {
      "name": "python3",
      "display_name": "Python 3"
    },
    "language_info": {
      "name": "python"
    }
  },
  "cells": [
    {
      "cell_type": "code",
      "execution_count": null,
      "metadata": {
        "id": "OUuNxFb4sssz"
      },
      "outputs": [],
      "source": [
        "\n",
        "Q1. Compare and contrast the float and Decimal classes' benefits and drawbacks ?\n",
        "Both the float and decimal types store numerical values in Python.\n",
        "Use floats when convenience and speed matter. A float gives you an approximation of the number you declare.\n",
        "Use decimals when precision matters. Decimals can suffer from their own precision issues, but generally, decimals are more precise than floats. The performance difference between float and decimal, with Python 3, is not outlandish, and in my experience, the precision benefits of a decimal outweigh the performance benefits of a float.\n",
        "\n",
        "Q2. Decimal('1.200') and Decimal('1.2') are two objects to consider. In what sense are these the same object? Are these just two ways of representing the exact same value, or do they correspond to different internal states ?\n",
        "Both values are same but internal representation at storage Is different. Precsion differs, Decimal('1.200') gives internally 1.200 and Decimal('1.2') gives 1.2.\n",
        "\n",
        "Q3. What happens if the equality of Decimal('1.200') and Decimal('1.2') is checked ?\n",
        "Both values are checked to be equal , they only differ in precision.\n",
        "\n",
        "Q4. Why is it preferable to start a Decimal object with a string rather than a floating-point value ?\n",
        "Floating-point value is converted to Decimal format. Decimal can store float value with absolute precision. But when float value is given as Decimal object,it first has to be converted from floating point value which might already have rounding error.\n",
        "Hence it is preferable to start a Decimal object with a string.\n",
        "\n",
        "Q5. In an arithmetic phrase, how simple is it to combine Decimal objects with integers ?\n",
        "We can do it with use of Decimal().\n",
        "\n",
        "Q6. Can Decimal objects and floating-point values be combined easily ?\n",
        "Arithmetic operations like Adding,subtracting or multiplying a Decimal object by a floating-point value is generates an error.\n",
        "To do these operations, the floating point has to be converted to a Decimal.\n",
        "\n",
        "Q7. Using the Fraction class but not the Decimal class, give an example of a quantity that can be expressed with absolute precision ?\n",
        "Value of 0.5 will be represented as ½.\n",
        "\n",
        "Q8.Consider the following two fraction objects: Fraction(1, 2) and Fraction(1, 2). (5, 10). Is the internal state of these two objects the same? Why do you think that is ?\n",
        "Both will be reduced to 1/2\n",
        "\n",
        "Q9. How do the Fraction class and the integer type (int) relate to each other? Containment or inheritance ?\n",
        "Fraction class and integer type(int) are related in form of a container.It contains two ints, one the numerator and the other the denominator"
      ]
    }
  ]
}