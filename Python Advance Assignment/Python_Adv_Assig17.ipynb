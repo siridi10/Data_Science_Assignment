{
  "nbformat": 4,
  "nbformat_minor": 0,
  "metadata": {
    "colab": {
      "name": "Python_Adv_Assig17.ipynb",
      "provenance": []
    },
    "kernelspec": {
      "name": "python3",
      "display_name": "Python 3"
    },
    "language_info": {
      "name": "python"
    }
  },
  "cells": [
    {
      "cell_type": "code",
      "execution_count": null,
      "metadata": {
        "id": "OUuNxFb4sssz"
      },
      "outputs": [],
      "source": [
        "Q1. Explain the difference between greedy and non-greedy syntax with visual terms in as few words as possible. What is the bare minimum effort required to transform a greedy pattern into a non-greedy one? What characters or characters can you introduce or change?\n",
        "\n",
        "The Main difference between Greedy and Non Greedy Match Syntax is The Greedy Match will try to match as many repetitions of the quantified pattern as possible Whereas The Non Greedy Match will try to match as few repetitions of the quantified pattern as possible\n",
        "\n",
        "import re\n",
        "print(re.findall(\"v*\", \"vvvvvv\")) # Greedy Match Synatx\n",
        "print(re.findall(\"v*?\", \"vvvvvv\")) # Non Greddy Syntax\n"
      ]
    },
    {
      "cell_type": "code",
      "source": [
        "Q2. When exactly does greedy versus non-greedy make a difference? What if you're looking for a non-greedy match but the only one available is greedy?\n",
        "\n",
        "The Greedy Match will try to match as many repetitions of the quantified pattern as possible. The Non Greedy Match will try to match as few repetitions of the quantified pattern as possible. If only Non Greedy Match is available, we can use other filtering or pattern matching methods of regex and further identify the required pattern.\n",
        "\n"
      ],
      "metadata": {
        "id": "Yb7yWcmbtIF0"
      },
      "execution_count": null,
      "outputs": []
    },
    {
      "cell_type": "code",
      "source": [
        "Q3. In a simple match of a string, which looks only for one match and does not do any replacement, is the use of a nontagged group likely to make any practical difference?\n",
        "\n",
        "This Case The Non Tagged Group will not make any diffrence in this case.\n",
        "\n",
        "import re\n",
        "phoneNumRegex = re.compile(r'\\d\\d\\d')\n",
        "num = phoneNumRegex.search('My number is 234-567-8901.')\n",
        "print(f'Phone number found -> {num.group()}') # Non Tagged group\n",
        "print(f'Phone number found -> {num.group(0)}') # Tagged Group\n"
      ],
      "metadata": {
        "id": "6LcMFaldtIIt"
      },
      "execution_count": null,
      "outputs": []
    },
    {
      "cell_type": "code",
      "source": [
        "Q4. Describe a scenario in which using a nontagged category would have a significant impact on the program's outcomes ?\n",
        "\n",
        "Here in the below Code Snippet . decimal is not tagged or captured. It will useful in scenarios where the separator of value in a string is of no use and we need to capture only the values.\n",
        "\n",
        "import re\n",
        "text='135.456'\n",
        "pattern=r'(\\d+)(?:.)(\\d+)'\n",
        "regobj=re.compile(pattern)\n",
        "matobj=regobj.search(text)\n",
        "matobj.groups()\n"
      ],
      "metadata": {
        "id": "HiQpvgtWbM2x"
      },
      "execution_count": null,
      "outputs": []
    },
    {
      "cell_type": "code",
      "source": [
        "\n",
        "Q5. Unlike a normal regex pattern, a look-ahead condition does not consume the characters it examines. Describe a situation in which this could make a difference in the results of your programme ?\n",
        "\n",
        "While counting the number of multiple lines or mutiple sentence in a string the positive look ahead makes a difference, without which we wont get the correct count of lines or sentences in a string.\n",
        "\n"
      ],
      "metadata": {
        "id": "_1NPCRsyZJhs"
      },
      "execution_count": null,
      "outputs": []
    },
    {
      "cell_type": "code",
      "source": [
        "Q6. In standard expressions, what is the difference between positive look-ahead and negative look-ahead ?\n",
        "\n",
        "Positive Lookahead allows to add a condition for what follows. Negative Lookahead is similar, but it looks behind. That is, it allows to match a pattern only if there’s something before it.\n",
        "\n"
      ],
      "metadata": {
        "id": "CIsDF8TpZJsD"
      },
      "execution_count": null,
      "outputs": []
    },
    {
      "cell_type": "code",
      "source": [
        "Q7. What is the benefit of referring to groups by name rather than by number in a standard expression?\n",
        "Referring to groups by name rather than by number in a standard expression helps to keep the code clear and easy to understand.\n"
      ],
      "metadata": {
        "id": "qfKNzudBZJ3Q"
      },
      "execution_count": null,
      "outputs": []
    },
    {
      "cell_type": "code",
      "source": [
        "Q8. Can you identify repeated items within a target string using named groups, as in \"The cow jumped over the moon\"?\n",
        "\n",
        "import re\n",
        "text = \"The cow jumped over the moon\"\n",
        "regobj=re.compile(r'(?P<w1>The)',re.I)\n",
        "regobj.findall(text)\n",
        "['The', 'the']\n"
      ],
      "metadata": {
        "id": "qaPpqklSZKdx"
      },
      "execution_count": null,
      "outputs": []
    },
    {
      "cell_type": "code",
      "source": [
        "Q9. When parsing a string, what is at least one thing that the Scanner interface does for you that the re.findall feature does not ?\n",
        "\n",
        "re.findall() module is used to search for all occurrences that match a given pattern. In contrast, re.search() will only return the first occurrence that matches the specified pattern. re.findall() will iterate over all the lines of the file and will return all non-overlapping matches of pattern in a single step.\n"
      ],
      "metadata": {
        "id": "gbVvgphchgjW"
      },
      "execution_count": null,
      "outputs": []
    },
    {
      "cell_type": "code",
      "source": [
        "Q10. Does a scanner object have to be named scanner?\n",
        " Yes, It may have any name."
      ],
      "metadata": {
        "id": "AmtlD9Nlhgk1"
      },
      "execution_count": null,
      "outputs": []
    }
  ]
}