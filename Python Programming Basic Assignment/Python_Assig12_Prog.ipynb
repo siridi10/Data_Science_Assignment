{
  "nbformat": 4,
  "nbformat_minor": 0,
  "metadata": {
    "colab": {
      "name": "Python_Assig12_Prog.ipynb",
      "provenance": [],
      "collapsed_sections": []
    },
    "kernelspec": {
      "name": "python3",
      "display_name": "Python 3"
    },
    "language_info": {
      "name": "python"
    }
  },
  "cells": [
    {
      "cell_type": "code",
      "execution_count": 34,
      "metadata": {
        "id": "D5sadO-CiOAx",
        "colab": {
          "base_uri": "https://localhost:8080/"
        },
        "outputId": "caaa6267-f4db-40a3-90ed-cdea0601dee4"
      },
      "outputs": [
        {
          "output_type": "stream",
          "name": "stdout",
          "text": [
            "[1, 2, 5, 6, 7, 8, 10, 11, 12]\n"
          ]
        }
      ],
      "source": [
        "# 1. Write a Python program to Extract Unique values dictionary values?\n",
        "\n",
        "test_dict = {'gfg' : [5, 6, 7, 8],\n",
        "\t\t\t'is' : [10, 11, 7, 5],\n",
        "\t\t\t'best' : [6, 12, 10, 8],\n",
        "\t\t\t'for' : [1, 2, 5]}\n",
        "res = list(sorted({ele for val in test_dict.values() for ele in val}))\n",
        "print(res)\n"
      ]
    },
    {
      "cell_type": "code",
      "source": [
        "# 2. Write a Python program to find the sum of all items in a dictionary?\n",
        "\n",
        "def returnSum(myDict):\n",
        "\tlist = []\n",
        "\tfor i in myDict:\n",
        "\t\tlist.append(myDict[i])\n",
        "\tfinal = sum(list)\n",
        "\treturn final\n",
        "\n",
        "returnSum({'a': 100, 'b':200, 'c':300})\n"
      ],
      "metadata": {
        "id": "3YNpMEvlp5l7",
        "colab": {
          "base_uri": "https://localhost:8080/"
        },
        "outputId": "00b69d1e-8fab-499b-fdfe-77a802cec00d"
      },
      "execution_count": 35,
      "outputs": [
        {
          "output_type": "execute_result",
          "data": {
            "text/plain": [
              "600"
            ]
          },
          "metadata": {},
          "execution_count": 35
        }
      ]
    },
    {
      "cell_type": "code",
      "source": [
        "# 3. Write a Python program to Merging two Dictionaries?\n",
        "def Merge(dic1, dic2):\n",
        "\treturn(dic2.update(dic1))\n",
        "dic1={'a': 100, 'b':200, 'c':300}\n",
        "dic2={'d': 100, 'e':200, 'f':300}\n",
        "print(Merge(dic1, dic2))\n",
        "print(dic2)\n"
      ],
      "metadata": {
        "id": "u7O6EKlhrMW_",
        "colab": {
          "base_uri": "https://localhost:8080/"
        },
        "outputId": "09551dc1-c231-4f61-e8cd-37673bf62349"
      },
      "execution_count": 38,
      "outputs": [
        {
          "output_type": "stream",
          "name": "stdout",
          "text": [
            "None\n",
            "{'d': 100, 'e': 200, 'f': 300, 'a': 100, 'b': 200, 'c': 300}\n"
          ]
        }
      ]
    },
    {
      "cell_type": "code",
      "source": [
        "# 4. Write a Python program to convert key-values list to flat dictionary?\n",
        "\n",
        "from itertools import product\n",
        "test_dict = {'month' : [1, 2, 3],\n",
        "\t\t\t'name' : ['Jan', 'Feb', 'March']}\n",
        "res = dict(zip(test_dict['month'], test_dict['name']))\n",
        "print(res)\n"
      ],
      "metadata": {
        "id": "jMVooa_dqkia",
        "colab": {
          "base_uri": "https://localhost:8080/"
        },
        "outputId": "58b27417-8acc-459b-98b0-d240e4849482"
      },
      "execution_count": 39,
      "outputs": [
        {
          "output_type": "stream",
          "name": "stdout",
          "text": [
            "{1: 'Jan', 2: 'Feb', 3: 'March'}\n"
          ]
        }
      ]
    },
    {
      "cell_type": "code",
      "source": [
        "# 5. Write a Python program to insertion at the beginning in OrderedDict?\n",
        "\n",
        "from collections import OrderedDict\n",
        "iniordered_dict = OrderedDict([('akshat', '1'), ('nikhil', '2')])\n",
        "iniordered_dict.update({'manjeet':'3'})\n",
        "iniordered_dict.move_to_end('manjeet', last = False)\n",
        "print (iniordered_dict)\n"
      ],
      "metadata": {
        "id": "0ioohkbAt2bY",
        "colab": {
          "base_uri": "https://localhost:8080/"
        },
        "outputId": "a49b5cd7-0aa9-4df8-9458-e3fb823f829e"
      },
      "execution_count": 41,
      "outputs": [
        {
          "output_type": "stream",
          "name": "stdout",
          "text": [
            "OrderedDict([('manjeet', '3'), ('akshat', '1'), ('nikhil', '2')])\n"
          ]
        }
      ]
    },
    {
      "cell_type": "code",
      "source": [
        "# 6. Write a Python program to check order of character in string using OrderedDict()?\n",
        "# Function to check if string follows order of\n",
        "# characters defined by a pattern\n",
        "from collections import OrderedDict\n",
        "def checkOrder(input, pattern):\n",
        "\tdict = OrderedDict.fromkeys(input)\n",
        "\tptrlen = 0\n",
        "\tfor key,value in dict.items():\n",
        "\t\tif (key == pattern[ptrlen]):\n",
        "\t\t\tptrlen = ptrlen + 1\n",
        "\t\tif (ptrlen == (len(pattern))):\n",
        "\t\t\treturn 'true'\n",
        "\treturn 'false'\n",
        "\n",
        "print (checkOrder('engineers rock','egr'))\n"
      ],
      "metadata": {
        "id": "ARjVPYFpLhNi",
        "colab": {
          "base_uri": "https://localhost:8080/"
        },
        "outputId": "251e2d19-5495-494e-fe3b-0a280e9393ae"
      },
      "execution_count": 42,
      "outputs": [
        {
          "output_type": "stream",
          "name": "stdout",
          "text": [
            "true\n"
          ]
        }
      ]
    },
    {
      "cell_type": "code",
      "source": [
        "# 7. Write a Python program to sort Python Dictionaries by Key or Value?\n",
        "\n",
        "def dictionairy():\n",
        "  key_value ={}\n",
        "\n",
        "  key_value[2] = 56\t\n",
        "  key_value[1] = 2\n",
        "  key_value[5] = 12\n",
        "  key_value[4] = 24\n",
        "  key_value[6] = 18\t\n",
        "  key_value[3] = 323\n",
        "\n",
        "  for i in sorted (key_value) :\n",
        "    print ((i, key_value[i]), end =\" \")\n",
        "\n",
        "def main():\n",
        "\tdictionairy()\n",
        "if __name__==\"__main__\":\t\n",
        "\tmain()\n"
      ],
      "metadata": {
        "id": "h9UwC5gjhfKQ",
        "colab": {
          "base_uri": "https://localhost:8080/"
        },
        "outputId": "f36bda0a-83fe-4a6e-c644-13f0c393db68"
      },
      "execution_count": 45,
      "outputs": [
        {
          "output_type": "stream",
          "name": "stdout",
          "text": [
            "(1, 2) (2, 56) (3, 323) (4, 24) (5, 12) (6, 18) "
          ]
        }
      ]
    }
  ]
}