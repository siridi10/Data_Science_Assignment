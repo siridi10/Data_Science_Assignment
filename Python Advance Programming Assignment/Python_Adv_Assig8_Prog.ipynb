{
  "nbformat": 4,
  "nbformat_minor": 0,
  "metadata": {
    "colab": {
      "name": "Python_Adv_Assig8_Prog.ipynb",
      "provenance": [],
      "collapsed_sections": []
    },
    "kernelspec": {
      "name": "python3",
      "display_name": "Python 3"
    },
    "language_info": {
      "name": "python"
    }
  },
  "cells": [
    {
      "cell_type": "code",
      "execution_count": 5,
      "metadata": {
        "id": "vaYRbe4LsSdX",
        "colab": {
          "base_uri": "https://localhost:8080/"
        },
        "outputId": "ab8d4ea9-ea99-4a2e-eeae-5b960c69be67"
      },
      "outputs": [
        {
          "output_type": "stream",
          "name": "stdout",
          "text": [
            "True\n",
            "True\n",
            "False\n",
            "False\n"
          ]
        }
      ],
      "source": [
        "# 1. Given a sentence as txt, return True if any two adjacent words have this property: One word ends with a vowel, while the word immediately after begins with a vowel (a e i o u).\n",
        "# Examples:\n",
        "# vowel_links(\"a very large appliance\") ➞ True\n",
        "# vowel_links(\"go to edabit\") ➞ True\n",
        "# vowel_links(\"an open fire\") ➞ False\n",
        "# vowel_links(\"a sudden applause\") ➞ False\n",
        "\n",
        "def vowel_links(in_string):\n",
        "    in_list = in_string.split(\" \")\n",
        "    vowel_list = ['a','e','i','o','u']\n",
        "    end,start,output = False, False,False\n",
        "    for ele in range(len(in_list)):\n",
        "        temp = True if in_list[ele][-1] in vowel_list else False\n",
        "        start = True if in_list[ele][0] in vowel_list else False\n",
        "        if start == end == True:\n",
        "            output=True\n",
        "            break\n",
        "        end=temp\n",
        "    return output\n",
        "                \n",
        "print(vowel_links(\"a very large appliance\"))\n",
        "print(vowel_links(\"go to edabit\"))\n",
        "print(vowel_links(\"an open fire\"))\n",
        "print(vowel_links(\"a sudden applause\"))"
      ]
    },
    {
      "cell_type": "code",
      "source": [
        "# 2. You are given three inputs: a string, one letter, and a second letter. Write a function that returns True if every instance of the first letter occurs before every instance of the second letter.\n",
        "# Examples:\n",
        "# first_before_second(\"a rabbit jumps joyfully\", \"a\", \"j\") ➞ True\n",
        "# # Every instance of \"a\" occurs before every instance of \"j\".\n",
        "\n",
        "# first_before_second(\"knaves knew about waterfalls\", \"k\", \"w\") ➞  True\n",
        "\n",
        "# first_before_second(\"happy birthday\", \"a\", \"y\") ➞ False\n",
        "# # The \"a\" in \"birthday\" occurs after the \"y\" in \"happy\".\n",
        "\n",
        "# first_before_second(\"precarious kangaroos\", \"k\", \"a\") ➞ False\n",
        "\n",
        "def first_before_second_index(in_string,in_first,in_second):\n",
        "    last_occur_first = in_string.rindex(in_first)\n",
        "    first_occur_second = in_string.index(in_second)\n",
        "    output = True if last_occur_first < first_occur_second else False\n",
        "    return output\n",
        "\n",
        "print(first_before_second_index(\"a rabbit jumps joyfully\", \"a\", \"j\"))\n",
        "print(first_before_second_index(\"knaves knew about waterfalls\", \"k\", \"w\"))\n",
        "print(first_before_second_index(\"happy birthday\", \"a\", \"y\"))\n",
        "print(first_before_second_index(\"precarious kangaroos\", \"k\", \"a\"))"
      ],
      "metadata": {
        "id": "kx9QUM-Vs09H",
        "colab": {
          "base_uri": "https://localhost:8080/"
        },
        "outputId": "c1639415-4e50-4a40-c1dc-535157cc4f07"
      },
      "execution_count": 6,
      "outputs": [
        {
          "output_type": "stream",
          "name": "stdout",
          "text": [
            "True\n",
            "True\n",
            "False\n",
            "False\n"
          ]
        }
      ]
    },
    {
      "cell_type": "code",
      "source": [
        "# 3. Create a function that returns the characters from a list or string r on odd or even positions, depending on the specifier s. The specifier will be \"odd\" for items on odd positions (1, 3, 5, ...) and \"even\" for items on even positions (2, 4, 6, ...).\n",
        "# Examples:\n",
        "# char_at_pos([2, 4, 6, 8, 10], \"even\") ➞ [4, 8]\n",
        "# # 4 & 8 occupy the 2nd & 4th positions\n",
        "\n",
        "# char_at_pos(\"EDABIT\", \"odd\") ➞ \"EAI\"\n",
        "# # \"E\", \"A\" and \"I\" occupy the 1st, 3rd and 5th positions\n",
        "\n",
        "# char_at_pos([\"A\", \"R\", \"B\", \"I\", \"T\", \"R\", \"A\", \"R\", \"I\", \"L\", \"Y\"], \"odd\") ➞ [\"A\", \"B\", \"T\", \"A\", \"I\", \"Y\"]\n",
        "\n",
        "def char_at_pos(in_list,mode):\n",
        "    out_list = []\n",
        "    for ele in range(len(in_list)):\n",
        "        if mode == 'even' and (ele+1)%2 == 0:\n",
        "            out_list.append(in_list[ele])\n",
        "        elif mode == 'odd' and (ele+1)%2 != 0:\n",
        "            out_list.append(in_list[ele])            \n",
        "    return out_list\n",
        "        \n",
        "        \n",
        "print(char_at_pos([2, 4, 6, 8, 10], \"even\"))\n",
        "print(char_at_pos(\"EDABIT\", \"odd\"))\n",
        "print(char_at_pos([\"A\", \"R\", \"B\", \"I\", \"T\", \"R\", \"A\", \"R\", \"I\", \"L\", \"Y\"], \"odd\"))"
      ],
      "metadata": {
        "id": "4WRcpt7Ds1D5",
        "colab": {
          "base_uri": "https://localhost:8080/"
        },
        "outputId": "74ce73d3-399c-4a72-c270-8e031e375791"
      },
      "execution_count": 4,
      "outputs": [
        {
          "output_type": "stream",
          "name": "stdout",
          "text": [
            "[4, 8]\n",
            "['E', 'A', 'I']\n",
            "['A', 'B', 'T', 'A', 'I', 'Y']\n"
          ]
        }
      ]
    },
    {
      "cell_type": "code",
      "source": [
        "# 4. Write a function that returns the greatest common divisor of all list elements. If the greatest common divisor is 1, return 1.\n",
        "# Examples:\n",
        "# GCD([10, 20, 40]) ➞ 10\n",
        "# GCD([1, 2, 3, 100]) ➞ 1\n",
        "# GCD([1024, 192, 2048, 512]) ➞ 64\n",
        "\n",
        "def GCD(in_list):\n",
        "    small = min(in_list)\n",
        "    gcd = -1\n",
        "    for i in range(1, small+1):\n",
        "        output = []\n",
        "        for ele in in_list:\n",
        "            output.append(ele%i)\n",
        "        if len(set(output)) == 1 and list(set(output))[0] == 0:\n",
        "            gcd = i\n",
        "    return gcd\n",
        "    \n",
        "print(GCD([10, 20, 40]))\n",
        "print(GCD([1, 2, 3, 100]))\n",
        "print(GCD([1024, 192, 2048, 512]))"
      ],
      "metadata": {
        "id": "qkfkJzUas1JX",
        "colab": {
          "base_uri": "https://localhost:8080/"
        },
        "outputId": "b523b8b3-82a2-4300-9d83-07de3cfe6e96"
      },
      "execution_count": 3,
      "outputs": [
        {
          "output_type": "stream",
          "name": "stdout",
          "text": [
            "10\n",
            "1\n",
            "64\n"
          ]
        }
      ]
    },
    {
      "cell_type": "code",
      "source": [
        "# 5. A number/string is a palindrome if the digits/characters are the same when read both forward and backward. Examples include \"racecar\" and 12321. Given a positive number n, check if n or the binary representation of n is palindromic. Return the following:\n",
        "# \"Decimal only.\" if only n is a palindrome.\n",
        "# \"Binary only.\" if only the binary representation of n is a palindrome.\n",
        "# \"Decimal and binary.\" if both are palindromes.\n",
        "# \"Neither!\" if neither are palindromes.\n",
        "# Examples:\n",
        "\n",
        "# palindrome_type(1306031) ➞ \"Decimal only.\"\n",
        "# # decimal = 1306031\n",
        "# # binary  = \"100111110110110101111\"\n",
        "\n",
        "# palindrome_type(427787) ➞ \"Binary only.\"\n",
        "# # decimal = 427787\n",
        "# # binary  = \"1101000011100001011\"\n",
        "\n",
        "# palindrome_type(313) ➞ \"Decimal and binary.\"\n",
        "# # decimal = 313\n",
        "# # binary  = 100111001\n",
        "\n",
        "# palindrome_type(934) ➞ \"Neither!\"\n",
        "# # decimal = 934\n",
        "# # binary  = \"1110100110\"\n",
        "\n",
        "def palindrome_type(in_num):\n",
        "    output = None\n",
        "    if str(in_num) == str(in_num)[::-1] and str(bin(in_num)[2:]) == str(bin(in_num)[2:])[::-1]:\n",
        "        output = 'Decimal and binary.'\n",
        "    elif str(in_num) == str(in_num)[::-1] and str(bin(in_num)[2:]) != str(bin(in_num)[2:])[::-1]:\n",
        "        output = 'Decimal only.'\n",
        "    elif str(bin(in_num)[2:]) != str(bin(in_num)[2:])[::-1] and str(in_num) == str(in_num)[::-1]:\n",
        "        output = 'Binary only.'\n",
        "    else:\n",
        "        output = 'Neither!'\n",
        "    return output\n",
        "\n",
        "print(palindrome_type(1306031))\n",
        "print(palindrome_type(427787))\n",
        "print(palindrome_type(313))\n",
        "print(palindrome_type(934))"
      ],
      "metadata": {
        "id": "MC9t4taRs_Wu",
        "colab": {
          "base_uri": "https://localhost:8080/"
        },
        "outputId": "b26dbcdf-46dd-4dc6-ee58-59e80a5c21cd"
      },
      "execution_count": 2,
      "outputs": [
        {
          "output_type": "stream",
          "name": "stdout",
          "text": [
            "Decimal only.\n",
            "Neither!\n",
            "Decimal and binary.\n",
            "Neither!\n"
          ]
        }
      ]
    },
    {
      "cell_type": "code",
      "source": [
        ""
      ],
      "metadata": {
        "id": "-TVYCAjXASQa"
      },
      "execution_count": null,
      "outputs": []
    }
  ]
}