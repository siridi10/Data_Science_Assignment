{
  "nbformat": 4,
  "nbformat_minor": 0,
  "metadata": {
    "colab": {
      "name": "Python_Assig1_Prog.ipynb",
      "provenance": [],
      "collapsed_sections": []
    },
    "kernelspec": {
      "name": "python3",
      "display_name": "Python 3"
    },
    "language_info": {
      "name": "python"
    }
  },
  "cells": [
    {
      "cell_type": "code",
      "execution_count": 3,
      "metadata": {
        "colab": {
          "base_uri": "https://localhost:8080/"
        },
        "id": "D5sadO-CiOAx",
        "outputId": "7461159d-d71b-4660-b8d7-f73c9ebd2b49"
      },
      "outputs": [
        {
          "output_type": "stream",
          "name": "stdout",
          "text": [
            "\"Hello Python\"\n"
          ]
        }
      ],
      "source": [
        "1.Write a Python program to print \"Hello Python\"\n",
        "print('\"Hello Python\"')"
      ]
    },
    {
      "cell_type": "code",
      "source": [
        "2.Write a Python program to do arithmetical operations addition and division.?\n",
        "num1=20\n",
        "num2=40\n",
        "Addition=num1+num2\n",
        "division=num1/num2\n",
        "print(\"Addition is\",Addition)\n",
        "print(\"Division is\",division)\n"
      ],
      "metadata": {
        "colab": {
          "base_uri": "https://localhost:8080/"
        },
        "id": "ZiI4LTiqjw19",
        "outputId": "ab073a81-4d1f-404a-de26-404727f04c0b"
      },
      "execution_count": 7,
      "outputs": [
        {
          "output_type": "stream",
          "name": "stdout",
          "text": [
            "Addition is 60\n",
            "Division is 0.5\n"
          ]
        }
      ]
    },
    {
      "cell_type": "code",
      "source": [
        "3. Write a Python program to find the area of a triangle?\n",
        "a = float(input('Enter first side: '))  \n",
        "b = float(input('Enter second side: '))  \n",
        "c = float(input('Enter third side: '))  \n",
        "  \n",
        "# calculate the semi-perimeter  \n",
        "s = (a + b + c) / 2  \n",
        "  \n",
        "# calculate the area  \n",
        "area = (s*(s-a)*(s-b)*(s-c)) ** 0.5  \n",
        "print('\\nThe area of the triangle is %0.2f' %area)\n"
      ],
      "metadata": {
        "colab": {
          "base_uri": "https://localhost:8080/"
        },
        "id": "iD7f_sSLnbwU",
        "outputId": "f36a1ac3-0d7a-4ef4-e394-d80a8a3db74c"
      },
      "execution_count": 22,
      "outputs": [
        {
          "output_type": "stream",
          "name": "stdout",
          "text": [
            "Enter first side: 2\n",
            "Enter second side: 3\n",
            "Enter third side: 3\n",
            "\n",
            "The area of the triangle is 2.83\n"
          ]
        }
      ]
    },
    {
      "cell_type": "code",
      "source": [
        "4. Write a Python program to swap two variables?\n",
        "a=5\n",
        "b=10\n",
        "print(\"Before swapping\",a,b)\n",
        "a=a+b\n",
        "b=a-b\n",
        "a=a-b\n",
        "print(\"After Swapping\",a,b)"
      ],
      "metadata": {
        "colab": {
          "base_uri": "https://localhost:8080/"
        },
        "id": "wDuY1zWJoRhd",
        "outputId": "0c2259ed-3642-4f43-8348-155adb5fea5b"
      },
      "execution_count": 6,
      "outputs": [
        {
          "output_type": "stream",
          "name": "stdout",
          "text": [
            "Before swapping 5 10\n",
            "After Swapping 10 5\n"
          ]
        }
      ]
    },
    {
      "cell_type": "code",
      "source": [
        "5. Write a Python program to generate a random number?\n",
        "import random\n",
        "print(random.randint(0,9))"
      ],
      "metadata": {
        "colab": {
          "base_uri": "https://localhost:8080/"
        },
        "id": "kLSC7KdYpONF",
        "outputId": "4d47c719-de0b-440c-e11e-a5aa60e6b508"
      },
      "execution_count": 10,
      "outputs": [
        {
          "output_type": "stream",
          "name": "stdout",
          "text": [
            "4\n"
          ]
        }
      ]
    }
  ]
}