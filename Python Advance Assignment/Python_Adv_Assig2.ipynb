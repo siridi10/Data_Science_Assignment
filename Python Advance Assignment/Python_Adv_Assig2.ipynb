{
  "nbformat": 4,
  "nbformat_minor": 0,
  "metadata": {
    "colab": {
      "name": "Python_Adv_Assig2.ipynb",
      "provenance": []
    },
    "kernelspec": {
      "name": "python3",
      "display_name": "Python 3"
    },
    "language_info": {
      "name": "python"
    }
  },
  "cells": [
    {
      "cell_type": "code",
      "execution_count": null,
      "metadata": {
        "id": "OUuNxFb4sssz"
      },
      "outputs": [],
      "source": [
        "Q1. What is the relationship between classes and modules?\n",
        "Modules:\n",
        "It is collection of models and constants\n",
        "It can't create instance\n",
        "module is used to reuse a given piece of code inside another program\n",
        "\n",
        "Classes:\n",
        "It may generate instances (objects), and have per-instance state (instance variables).\n",
        "class is used to define a blueprint for a given object"
      ]
    },
    {
      "cell_type": "code",
      "source": [
        "Q2. How do you make instances and classes?\n",
        "Instance:\n",
        "To create instances of a class, we need to call the class using class name and pass in whatever arguments its __init__ method accepts.\n",
        "\n",
        "Classes:\n",
        "class method should of __init__ method to run\n",
        "class can be created using some methods or constructorsl\n"
      ],
      "metadata": {
        "id": "Yb7yWcmbtIF0"
      },
      "execution_count": null,
      "outputs": []
    },
    {
      "cell_type": "code",
      "source": [
        "Q3. Where and how should be class attributes created?\n",
        "\n",
        "Inside a class, you should qualify all references to class attributes with the class name"
      ],
      "metadata": {
        "id": "6LcMFaldtIIt"
      },
      "execution_count": null,
      "outputs": []
    },
    {
      "cell_type": "code",
      "source": [
        "Q4. Where and how are instance attributes created?\n",
        "An instance attribute is a Python variable belonging to only one object. \n",
        "It is only accessible in the scope of the object and it is defined inside the constructor function of a class. For example, __init__(self,..)."
      ],
      "metadata": {
        "id": "fD0djZuBtIKx"
      },
      "execution_count": null,
      "outputs": []
    },
    {
      "cell_type": "code",
      "source": [
        "Q5. What does the term 'self' in a Python class mean?\n",
        "It is like a pointer in python\n",
        "helpul while accesing some variable from class"
      ],
      "metadata": {
        "id": "6MGgCQ2StINa"
      },
      "execution_count": null,
      "outputs": []
    },
    {
      "cell_type": "code",
      "source": [
        "Q6. How does a Python class handle operator overloading?\n",
        "\n",
        "Python provides some special function or magic function that is automatically invoked when it is associated with that particular operator. \n",
        "For example, when we use + operator, the magic method __add__ is automatically invoked in which the operation for + operator is defined."
      ],
      "metadata": {
        "id": "AuJasajttIsu"
      },
      "execution_count": null,
      "outputs": []
    },
    {
      "cell_type": "code",
      "source": [
        "Q7. When do you consider allowing operator overloading of your classes?\n",
        "that allows the same operator to have different meaning according to the context is called operator overloading."
      ],
      "metadata": {
        "id": "ItZD0M__tIvO"
      },
      "execution_count": null,
      "outputs": []
    },
    {
      "cell_type": "code",
      "source": [
        "Q8. What is the most popular form of operator overloading?\n",
        "Addition (+) operator"
      ],
      "metadata": {
        "id": "bMwtqTeatIx0"
      },
      "execution_count": null,
      "outputs": []
    },
    {
      "cell_type": "code",
      "source": [
        "Q9. What are the two most important concepts to grasp in order to comprehend Python OOP code?\n",
        "inheritance and polymorphism."
      ],
      "metadata": {
        "id": "RCV6LcQkvk_c"
      },
      "execution_count": null,
      "outputs": []
    }
  ]
}