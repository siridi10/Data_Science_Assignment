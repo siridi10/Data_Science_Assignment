{
  "nbformat": 4,
  "nbformat_minor": 0,
  "metadata": {
    "colab": {
      "name": "Python_Assig8.ipynb",
      "provenance": []
    },
    "kernelspec": {
      "name": "python3",
      "display_name": "Python 3"
    },
    "language_info": {
      "name": "python"
    }
  },
  "cells": [
    {
      "cell_type": "code",
      "execution_count": null,
      "metadata": {
        "id": "o5dFwMwLr0Gn"
      },
      "outputs": [],
      "source": [
        "1. Is the Python Standard Library included with PyInputPlus?\n",
        "PyInputPlus is not a part of the Python Standard Library"
      ]
    },
    {
      "cell_type": "code",
      "source": [
        "2. Why is PyInputPlus commonly imported with import pyinputplus as pypi?\n",
        "We can import the module with import pyinputplus as pyip so that you can enter a shorter name when calling the module's functions. \n",
        "PyInputPlus has functions for entering a variety of input, including strings, numbers, dates, yes/no, True/False, emails, and files."
      ],
      "metadata": {
        "id": "ZJsMuVLcsnsU"
      },
      "execution_count": null,
      "outputs": []
    },
    {
      "cell_type": "code",
      "source": [
        "3. How do you distinguish between inputInt() and inputFloat()?\n",
        "inputInt() : Accepts an integer value. This also takes additional parameters 'min', 'max', 'greaterThan' and 'lessThan' for bounds. Returns an int. \n",
        "inputFloat() : Accepts a floating-point numeric value"
      ],
      "metadata": {
        "id": "cQdFncK4snub"
      },
      "execution_count": null,
      "outputs": []
    },
    {
      "cell_type": "code",
      "source": [
        "4. Using PyInputPlus, how do you ensure that the user enters a whole number between 0 and 99?\n",
        "import pyinputplus as pyip\n",
        "inp = pyip.inputInt(prompt = \"Enter an Integer... \",\n",
        "\t\t\t\t\tmin = 0, lessThan = 99)\n",
        "print(inp)\n"
      ],
      "metadata": {
        "id": "tZocwhHCsnxf"
      },
      "execution_count": null,
      "outputs": []
    },
    {
      "cell_type": "code",
      "source": [
        "5. In the regex which created from the r'(\\d\\d\\d)-(\\d\\d\\d-\\d\\d\\d\\d)', what does group zero cover? Group 2? Group 1?\n",
        "Group 0: (\\d\\d\\d)-(\\d\\d\\d-\\d\\d\\d\\d) Group 1: (\\d\\d\\d) Group 2: (\\d\\d\\d-\\d\\d\\d\\d)"
      ],
      "metadata": {
        "id": "xjIYnPuOsnz5"
      },
      "execution_count": null,
      "outputs": []
    },
    {
      "cell_type": "code",
      "source": [
        "6. In standard expression syntax, parentheses and intervals have distinct meanings. How can you tell a regex that you want it to fit real parentheses and periods?\n",
        "Using r'.()'"
      ],
      "metadata": {
        "id": "MVshh9_fsn3z"
      },
      "execution_count": null,
      "outputs": []
    },
    {
      "cell_type": "code",
      "source": [
        "7. The findall() method returns a string list or a list of string tuples. What causes it to return one of the two options?\n",
        "When called on a regex with no groups, such as \\d\\d\\d-\\d\\d\\d-\\d\\d\\d\\d, the method findall() returns a list of string matches, such as ['(\\d\\d\\d)-(\\d\\d\\d\\d-\\d\\d\\d)', '(\\d\\d\\d)-(\\d\\d\\d\\d-\\d\\d\\d)'].\n",
        "\n",
        "When called on a regex that has groups, such as (\\d\\d\\d)-(\\d\\d\\d)-(\\d\\d\\d\\d), the method findall() returns a list of tuples of strings(one string for each group), such as [('415', '555', '9999'),('212', '555','0000')]."
      ],
      "metadata": {
        "id": "OK--dKFzsn-8"
      },
      "execution_count": null,
      "outputs": []
    },
    {
      "cell_type": "code",
      "source": [
        "8. In standard expressions, what does the | character mean?\n",
        "The | character is called a pipe. You can use it anywhere you want to match one of many expressions. For example, the regular expressions r'Batman|Tina Fey' will match either 'Batman' or 'Tina Fey"
      ],
      "metadata": {
        "id": "KhcFoc9BsoAh"
      },
      "execution_count": null,
      "outputs": []
    },
    {
      "cell_type": "code",
      "source": [
        "9. In regular expressions, what does the character stand for?\n",
        "A word character is a letter, a number, or an underscore. This set of characters may also be represented by the regex character set [a-zA-Z0-9_]"
      ],
      "metadata": {
        "id": "BCdIVs3C66gs"
      },
      "execution_count": null,
      "outputs": []
    },
    {
      "cell_type": "code",
      "source": [
        "10.In regular expressions, what is the difference between the + and * characters?\n",
        "The * means \"match zero or more - the group that precedes the star can occur any number of times in the text. It can be completely absent or repeated over and over again.\"\n",
        "\n",
        "While * means \"match zero or more\", the + means \"match one or more.\" Unlike the star, which does not require its group to appear in the matched string, the group preceding a plus must appear at least once. It is not optional.\n"
      ],
      "metadata": {
        "id": "oU8KI99F66ie"
      },
      "execution_count": null,
      "outputs": []
    },
    {
      "cell_type": "code",
      "source": [
        "11. What is the difference between {4} and {4,5} in regular expression?\n",
        "{4} is saying \"match this pattern three times.\" {4,5} means \"match this pattern three to five times.\""
      ],
      "metadata": {
        "id": "ZnUig6Nc2QPj"
      },
      "execution_count": null,
      "outputs": []
    },
    {
      "cell_type": "code",
      "source": [
        "12. What do you mean by the \\d, \\w, and \\s shorthand character classes signify in regular expressions?\n",
        "\\d in a regex stands for a digit character - that is, any single numberal 0 to 9.\n",
        "\\w means any letter, numeric digit, or the underscore character.\n",
        "\\s means any space, tab, or newline character."
      ],
      "metadata": {
        "id": "H3-SW-Dw2bFh"
      },
      "execution_count": null,
      "outputs": []
    },
    {
      "cell_type": "code",
      "source": [
        "13. What do means by \\D, \\W, and \\S shorthand character classes signify in regular expressions?\n",
        "\\D represents any character that is not a numeric digit from 0 to 9.\n",
        "\\W represents any character that is not a letter, numeric digit, or the underscore character.\n",
        "\\S represents any character that is not a space, tab or newline."
      ],
      "metadata": {
        "id": "Et1cqvTf2ctx"
      },
      "execution_count": null,
      "outputs": []
    },
    {
      "cell_type": "code",
      "source": [
        "14. What is the difference between .*? and .*?\n",
        "The dot-star uses greedy mode: It will always try to match as much text as possible. To match any and all text in a nongreedy fashion, use the dot, star, and question mark(.*?).\n",
        "\n",
        "In nongreedy version of the regex, Python matches the shortest possible string; In the greedy version, Python matches the longest possible string."
      ],
      "metadata": {
        "id": "wRGbYEH92fHV"
      },
      "execution_count": null,
      "outputs": []
    },
    {
      "cell_type": "code",
      "source": [
        "15. What is the syntax for matching both numbers and lowercase letters with a character class?\n",
        "[0-9a-z]"
      ],
      "metadata": {
        "id": "l_qYTyLE2g-3"
      },
      "execution_count": null,
      "outputs": []
    },
    {
      "cell_type": "code",
      "source": [
        "16. What is the procedure for making a normal expression in regax case insensitive?\n",
        "Pass re.IGNORECASE or re.I as a second argument to re.compile(). For example, ro = re.compile(r'robocop', re.I)"
      ],
      "metadata": {
        "id": "oz3m3zbD2jo_"
      },
      "execution_count": null,
      "outputs": []
    },
    {
      "cell_type": "code",
      "source": [
        "17. What does the . character normally match? What does it match if re.DOTALL is passed as 2nd argument in re.compile()?\n",
        "The . character in a regular expression is called a wildcard and will match any character except for a newline.\n",
        "\n",
        "The dot-star will match everything except a newline. By passing re.DOTALL as the second argument to re.compile(), you can make the dot character match all characters, including the newline character. For example, newlineRegex = re.compile('.*', re.DOTALL)"
      ],
      "metadata": {
        "id": "ZgHp-Ohb2l4h"
      },
      "execution_count": null,
      "outputs": []
    },
    {
      "cell_type": "code",
      "source": [
        "18. If numReg = re.compile(r'\\d+'), what will numRegex.sub('X', '11 drummers, 10 pipers, five rings, 4 hen') return?\n",
        "X drummers, X pipers, five rings, X hens"
      ],
      "metadata": {
        "id": "JRjW0oF12nih"
      },
      "execution_count": null,
      "outputs": []
    },
    {
      "cell_type": "code",
      "source": [
        "19. What does passing re.VERBOSE as the 2nd argument to re.compile() allow to do?\n",
        "To ignore whitespace and comments inside the regular expression string."
      ],
      "metadata": {
        "id": "TcbYhm0t2qlP"
      },
      "execution_count": null,
      "outputs": []
    },
    {
      "cell_type": "code",
      "source": [
        "20. How would you write a regex that match a number with comma for every three digits? It must match the given following:\n",
        "'42'\n",
        "'1,234'\n",
        "'6,368,745'\n",
        "but not the following:\n",
        "'12,34,567' (which has only two digits between the commas)\n",
        "'1234' (which lacks commas)\n",
        "\n",
        "numCommas = re.compile(r'(^\\d{1,3})(,\\d{3})*$') numCommas.search('12,34,567').group()"
      ],
      "metadata": {
        "id": "yefl0__j2ZLs"
      },
      "execution_count": null,
      "outputs": []
    },
    {
      "cell_type": "code",
      "source": [
        "21. How would you write a regex that matches the full name of someone whose last name is Watanabe? You can assume that the first name that comes before it will always be one word that begins with a capital letter. The regex must match the following:\n",
        "'Haruto Watanabe'\n",
        "'Alice Watanabe'\n",
        "'RoboCop Watanabe'\n",
        "but not the following:\n",
        "'haruto Watanabe' (where the first name is not capitalized)\n",
        "'Mr. Watanabe' (where the preceding word has a nonletter character)\n",
        "'Watanabe' (which has no first name)\n",
        "'Haruto watanabe' (where Watanabe is not capitalized)"
      ],
      "metadata": {
        "id": "16yBG4sC2QVg"
      },
      "execution_count": null,
      "outputs": []
    },
    {
      "cell_type": "code",
      "source": [
        "22. How would you write a regex that matches a sentence where the first word is either Alice, Bob, or Carol; the second word is either eats, pets, or throws; the third word is apples, cats, or baseballs; and the sentence ends with a period? This regex should be case-insensitive. It must match the following:\n",
        "'Alice eats apples.'\n",
        "'Bob pets cats.'\n",
        "'Carol throws baseballs.'\n",
        "'Alice throws Apples.'\n",
        "'BOB EATS CATS.'\n",
        "but not the following:\n",
        "'RoboCop eats apples.'\n",
        "'ALICE THROWS FOOTBALLS.'\n",
        "'Carol eats 7 cats.'\n",
        "\n",
        "senRegex = re.compile(r'(Alice|Bob|Carol)\\s(eats|pets|throws)\\s(apples|cats|baseballs).', re.I|re.DOTALL)\n",
        "\n",
        "senRegex.findall('''Alice eats apples.'\n",
        "'Bob pets cats.'\n",
        "'Carol throws baseballs.'\n",
        "'Alice throws Apples.'\n",
        "'BOB EATS CATS.'\n",
        "but not the following:\n",
        "'Robocop eats apples.'\n",
        "'ALICE THROWS FOOTBALLS.'\n",
        "'Carol eats 7 cats.''')"
      ],
      "metadata": {
        "id": "ukWV9JZS2QSC"
      },
      "execution_count": null,
      "outputs": []
    }
  ]
}