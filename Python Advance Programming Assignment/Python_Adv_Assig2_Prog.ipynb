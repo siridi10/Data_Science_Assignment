{
  "nbformat": 4,
  "nbformat_minor": 0,
  "metadata": {
    "colab": {
      "name": "Python_Adv_Assig2_Prog.ipynb",
      "provenance": [],
      "collapsed_sections": []
    },
    "kernelspec": {
      "name": "python3",
      "display_name": "Python 3"
    },
    "language_info": {
      "name": "python"
    }
  },
  "cells": [
    {
      "cell_type": "code",
      "execution_count": 14,
      "metadata": {
        "id": "vaYRbe4LsSdX",
        "colab": {
          "base_uri": "https://localhost:8080/"
        },
        "outputId": "20a25943-58c7-4dfd-c5c3-c872c9d26b82"
      },
      "outputs": [
        {
          "output_type": "execute_result",
          "data": {
            "text/plain": [
              "51"
            ]
          },
          "metadata": {},
          "execution_count": 14
        }
      ],
      "source": [
        "# 1. Write a function that takes a positive integer num and calculates how many dots exist in a pentagonal shape around the center dot on the Nth iteration.\n",
        "\n",
        "# In the image below you can see the first iteration is only a single dot. On the second, there are 6 dots. On the third, there are 16 dots, and on the fourth there are 31 dots.\n",
        "# Return the number of dots that exist in the whole pentagon on the Nth iteration.\n",
        "\n",
        "# Examples\n",
        "# pentagonal(1) ➞ 1\n",
        "# pentagonal(2) ➞ 6\n",
        "# pentagonal(3) ➞ 16\n",
        "# pentagonal(8) ➞ 141\n",
        "\n",
        "def fun1(n):\n",
        "    if n==1:\n",
        "        return 1\n",
        "    else:\n",
        "        return 5*(n-1)+fun1(n-1)\n",
        "\n",
        "fun1(5)"
      ]
    },
    {
      "cell_type": "code",
      "source": [
        "# 2.  Make a function that encrypts a given input with these steps:\n",
        "\n",
        "# Input: \"apple\"\n",
        "\n",
        "# Step 1: Reverse the input: \"elppa\"\n",
        "\n",
        "# Step 2: Replace all vowels using the following chart:\n",
        "\n",
        "# a => 0\n",
        "# e => 1\n",
        "# i => 2\n",
        "# o => 2\n",
        "# u => 3\n",
        "\n",
        "# # \"1lpp0\"\n",
        "\n",
        "# Step 3: Add \"aca\" to the end of the word: \"1lpp0aca\"\n",
        "\n",
        "# Output: \"1lpp0aca\"\n",
        "\n",
        "# Examples\n",
        "\n",
        "# encrypt(\"banana\") ➞ \"0n0n0baca\"\n",
        "\n",
        "# encrypt(\"karaca\") ➞ \"0c0r0kaca\"\n",
        "\n",
        "# encrypt(\"burak\") ➞ \"k0r3baca\"\n",
        "\n",
        "# encrypt(\"alpaca\") ➞ \"0c0pl0aca\"\n",
        "\n",
        "\n",
        "def fun2(word):\n",
        "  if type(word)!=str:\n",
        "    raise (\"Enter a message in string\")\n",
        "  else:\n",
        "    word=word[::-1]\n",
        "    word = word.replace('a', '0')\n",
        "    word = word.replace('e', '1')\n",
        "    word = word.replace('i', '2')\n",
        "    word = word.replace('o', '3')\n",
        "    word = word.replace('u', '4')\n",
        "    word+='aca'\n",
        "  return word\n",
        "\n",
        "fun2(\"siridi\")"
      ],
      "metadata": {
        "id": "kx9QUM-Vs09H",
        "colab": {
          "base_uri": "https://localhost:8080/",
          "height": 35
        },
        "outputId": "31db136b-6d17-425b-d724-e202a7bb07dc"
      },
      "execution_count": 13,
      "outputs": [
        {
          "output_type": "execute_result",
          "data": {
            "application/vnd.google.colaboratory.intrinsic+json": {
              "type": "string"
            },
            "text/plain": [
              "'2d2r2saca'"
            ]
          },
          "metadata": {},
          "execution_count": 13
        }
      ]
    },
    {
      "cell_type": "code",
      "source": [
        "# 3. Given the month and year as numbers, return whether that month contains a Friday 13th.(i.e You can check Python's datetime module)\n",
        "# Examples\n",
        "# has_friday_13(3, 2020) ➞ True\n",
        "# has_friday_13(10, 2017) ➞ True\n",
        "# has_friday_13(1, 1985) ➞ False\n",
        "\n",
        "import datetime\n",
        "from datetime import datetime\n",
        "import calendar\n",
        "\n",
        "def has_friday_13(month, year):\n",
        "    date = f'{month} 13 {year}'.format()\n",
        "    spooky = datetime.strptime(date, '%m %d %Y').weekday()\n",
        "    return (calendar.day_name[spooky]) == \"Friday\"\n",
        "\n",
        "has_friday_13(1, 1985)"
      ],
      "metadata": {
        "id": "4WRcpt7Ds1D5",
        "colab": {
          "base_uri": "https://localhost:8080/"
        },
        "outputId": "9088ff25-5cab-4462-9289-e168d4c10fa3"
      },
      "execution_count": 17,
      "outputs": [
        {
          "output_type": "execute_result",
          "data": {
            "text/plain": [
              "False"
            ]
          },
          "metadata": {},
          "execution_count": 17
        }
      ]
    },
    {
      "cell_type": "code",
      "source": [
        "# 4. Write a regular expression that will help us count how many bad cookies are produced every day. You must use RegEx negative lookbehind.\n",
        "# Example\n",
        "# lst = [\"bad cookie\", \"good cookie\", \"bad cookie\", \"good cookie\", \"good cookie\"]\n",
        "# pattern = \"yourregularexpressionhere\"\n",
        "# len(re.findall(pattern, \", \".join(lst))) ➞ 2\n",
        "\n",
        "import re\n",
        "lst = [\"bad cookie\", \"good cookie\", \"bad cookie\", \"good cookie\", \"good cookie\"]\n",
        "pattern = \"bad cookie\"\n",
        "\n",
        "len(re.findall('bad cookie', \", \".join(lst)))"
      ],
      "metadata": {
        "id": "qkfkJzUas1JX",
        "colab": {
          "base_uri": "https://localhost:8080/"
        },
        "outputId": "0e244134-7dce-490d-95b9-ce904e1fc78a"
      },
      "execution_count": 18,
      "outputs": [
        {
          "output_type": "execute_result",
          "data": {
            "text/plain": [
              "2"
            ]
          },
          "metadata": {},
          "execution_count": 18
        }
      ]
    },
    {
      "cell_type": "code",
      "source": [
        "# 5. Given a list of words in the singular form, return a set of those words in the plural form if they appear more than once in the list.\n",
        "# Examples\n",
        "# pluralize([\"cow\", \"pig\", \"cow\", \"cow\"]) ➞ { \"cows\", \"pig\" }\n",
        "# pluralize([\"table\", \"table\", \"table\"]) ➞ { \"tables\" }\n",
        "# pluralize([\"chair\", \"pencil\", \"arm\"]) ➞ { \"chair\", \"pencil\", \"arm\" }\n",
        "\n",
        "\n",
        "def pluralize(words):\n",
        "  result = set()\n",
        "  for i in words:\n",
        "    if words.count(i) > 1:\n",
        "      result.add(i+'s')\n",
        "    else:\n",
        "      result.add(i)\n",
        "  return result\n",
        "pluralize([\"cow\", \"pig\", \"cow\", \"cow\"])\n"
      ],
      "metadata": {
        "id": "MC9t4taRs_Wu",
        "colab": {
          "base_uri": "https://localhost:8080/"
        },
        "outputId": "e7801705-39b5-4ff4-8073-7abaa253e125"
      },
      "execution_count": 25,
      "outputs": [
        {
          "output_type": "execute_result",
          "data": {
            "text/plain": [
              "{'cows', 'pig'}"
            ]
          },
          "metadata": {},
          "execution_count": 25
        }
      ]
    }
  ]
}