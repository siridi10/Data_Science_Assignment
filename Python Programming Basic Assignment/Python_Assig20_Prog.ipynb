{
  "nbformat": 4,
  "nbformat_minor": 0,
  "metadata": {
    "colab": {
      "name": "Python_Assig20_Prog.ipynb",
      "provenance": [],
      "collapsed_sections": []
    },
    "kernelspec": {
      "name": "python3",
      "display_name": "Python 3"
    },
    "language_info": {
      "name": "python"
    }
  },
  "cells": [
    {
      "cell_type": "code",
      "source": [
        "# Question1\n",
        "# Create a function that takes a list of strings and integers, and filters out the list so that it returns a list of integers only.\n",
        "# Examples\n",
        "# filter_list([1, 2, 3, \"a\", \"b\", 4]) ➞ [1, 2, 3, 4]\n",
        "# filter_list([\"A\", 0, \"Edabit\", 1729, \"Python\", \"1729\"]) ➞ [0, 1729]\n",
        "# filter_list([\"Nothing\", \"here\"]) ➞ []\n",
        "\n",
        "def filter_list(f):\n",
        "  k=[]\n",
        "  for i in f:\n",
        "    if type(i)==int:\n",
        "      k.append(i)\n",
        "  return k\n",
        "print(filter_list([1, 2, 3, \"a\", \"b\", 4]))\n",
        "print(filter_list([\"A\", 0, \"Edabit\", 1729, \"Python\", \"1729\"]))\n",
        "print(filter_list([\"Nothing\", \"here\"]))\n"
      ],
      "metadata": {
        "id": "0ioohkbAt2bY",
        "colab": {
          "base_uri": "https://localhost:8080/"
        },
        "outputId": "6aa24362-13df-4c12-9d4c-0c3bf5d94eb7"
      },
      "execution_count": 54,
      "outputs": [
        {
          "output_type": "stream",
          "name": "stdout",
          "text": [
            "[1, 2, 3, 4]\n",
            "[0, 1729]\n",
            "[]\n"
          ]
        }
      ]
    },
    {
      "cell_type": "code",
      "execution_count": 81,
      "metadata": {
        "id": "D5sadO-CiOAx",
        "colab": {
          "base_uri": "https://localhost:8080/"
        },
        "outputId": "2094c6f3-d844-497b-ad79-a70b09e14843"
      },
      "outputs": [
        {
          "output_type": "stream",
          "name": "stdout",
          "text": [
            "[0, 1, 2, 3, 4]\n",
            "[1, 3, 5, 7, 9]\n",
            "[5, 5, 5, 5, 5]\n"
          ]
        }
      ],
      "source": [
        "# Question2\n",
        "# Given a list of numbers, create a function which returns the list but with each element's index in the list added to itself. This means you add 0 to the number at index 0, add 1 to the number at index 1, etc...\n",
        "# Examples\n",
        "# add_indexes([0, 0, 0, 0, 0]) ➞ [0, 1, 2, 3, 4]\n",
        "# add_indexes([1, 2, 3, 4, 5]) ➞ [1, 3, 5, 7, 9]\n",
        "# add_indexes([5, 4, 3, 2, 1]) ➞ [5, 5, 5, 5, 5]\n",
        "\n",
        "def add_indexes(g):\n",
        "  k=[]\n",
        "  for i in range(len(g)):\n",
        "    j=g[i]+i\n",
        "    k.append(j)\n",
        "  return k\n",
        "print(add_indexes([0, 0, 0, 0, 0]))\n",
        "print(add_indexes([1, 2, 3, 4, 5]))\n",
        "print(add_indexes([5, 4, 3, 2, 1]))"
      ]
    },
    {
      "cell_type": "code",
      "source": [
        "# Question3\n",
        "# Create a function that takes the height and radius of a cone as arguments and returns the volume of the cone rounded to the nearest hundredth. See the resources tab for the formula.\n",
        " \n",
        "# Examples\n",
        "# cone_volume(3, 2) ➞ 12.57\n",
        "# cone_volume(15, 6) ➞ 565.49\n",
        "# cone_volume(18, 0) ➞ 0\n",
        "import math as m\n",
        "def cone_volume(h,r):\n",
        "   PI=3.141\n",
        "   vol=(PI*r*r*h)/3\n",
        "   return vol\n",
        "print(cone_volume(3, 2))\n",
        "print(cone_volume(15, 6))\n",
        "print(cone_volume(18, 0))"
      ],
      "metadata": {
        "id": "3YNpMEvlp5l7",
        "colab": {
          "base_uri": "https://localhost:8080/"
        },
        "outputId": "be618378-3e92-434a-d4c7-d91376ccf300"
      },
      "execution_count": 42,
      "outputs": [
        {
          "output_type": "stream",
          "name": "stdout",
          "text": [
            "12.564\n",
            "565.38\n",
            "0.0\n"
          ]
        }
      ]
    },
    {
      "cell_type": "code",
      "source": [
        "# Question4\n",
        "# This Triangular Number Sequence is generated from a pattern of dots that form a triangle. The first 5 numbers of the sequence, or dots, are: \n",
        "# 1, 3, 6, 10, 15\n",
        "# This means that the first triangle has just one dot, the second one has three dots, the third one has 6 dots and so on.\n",
        "# Write a function that gives the number of dots with its corresponding triangle number of the sequence.\n",
        "# Examples\n",
        "# triangle(1) ➞ 1\n",
        "# triangle(6) ➞ 21\n",
        "# triangle(215) ➞ 23220\n",
        "\n",
        "def triangle(n):\n",
        "  k=(n*(n+1))/2\n",
        "  return int(k)\n",
        "print(triangle(1))\n",
        "print(triangle(6))\n",
        "print(triangle(215))\n"
      ],
      "metadata": {
        "id": "u7O6EKlhrMW_",
        "colab": {
          "base_uri": "https://localhost:8080/"
        },
        "outputId": "a26bca9b-6d1a-49f6-9b57-c4e227c4b870"
      },
      "execution_count": 89,
      "outputs": [
        {
          "output_type": "stream",
          "name": "stdout",
          "text": [
            "1\n",
            "21\n",
            "23220\n"
          ]
        }
      ]
    },
    {
      "cell_type": "code",
      "source": [
        "# Question5\n",
        "# Create a function that takes a list of numbers between 1 and 10 (excluding one number) and returns the missing number.\n",
        "# Examples\n",
        "# missing_num([1, 2, 3, 4, 6, 7, 8, 9, 10]) ➞ 5\n",
        "# missing_num([7, 2, 3, 6, 5, 9, 1, 4, 8]) ➞ 10\n",
        "# missing_num([10, 5, 1, 2, 4, 6, 8, 3, 9]) ➞ 7\n",
        "\n",
        "def missing_num(A):\n",
        "\tn = len(A)\n",
        "\ttotal = (n + 1)*(n + 2)/2\n",
        "\tsum_of_A = sum(A)\n",
        "\treturn round(total - sum_of_A)\n",
        "\n",
        "print(missing_num([1, 2, 3, 4, 6, 7, 8, 9, 10]))\n",
        "print(missing_num([7, 2, 3, 6, 5, 9, 1, 4, 8]))\n",
        "print(missing_num([10, 5, 1, 2, 4, 6, 8, 3, 9]))"
      ],
      "metadata": {
        "id": "jMVooa_dqkia",
        "colab": {
          "base_uri": "https://localhost:8080/"
        },
        "outputId": "564aa5c5-0336-4ed1-a73e-f4cc50d5b640"
      },
      "execution_count": 31,
      "outputs": [
        {
          "output_type": "stream",
          "name": "stdout",
          "text": [
            "5\n",
            "10\n",
            "7\n"
          ]
        }
      ]
    }
  ]
}