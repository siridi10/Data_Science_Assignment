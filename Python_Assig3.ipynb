{
  "nbformat": 4,
  "nbformat_minor": 0,
  "metadata": {
    "colab": {
      "name": "Python_Assig3.ipynb",
      "provenance": [],
      "collapsed_sections": []
    },
    "kernelspec": {
      "name": "python3",
      "display_name": "Python 3"
    },
    "language_info": {
      "name": "python"
    }
  },
  "cells": [
    {
      "cell_type": "code",
      "execution_count": null,
      "metadata": {
        "id": "D5sadO-CiOAx"
      },
      "outputs": [],
      "source": [
        "1. Why are functions advantageous to have in your programs?\n",
        "It reduce the need for duplicate code. \n",
        "It makes the code shorter, easy to read, and easy to update.\n",
        "It makes other to understand easily about the logic."
      ]
    },
    {
      "cell_type": "code",
      "source": [
        "2. When does the code in a function run: when it's specified or when it's called?\n",
        "The code in a function will run when we specified under a function name and called the function using function call"
      ],
      "metadata": {
        "id": "ZiI4LTiqjw19"
      },
      "execution_count": null,
      "outputs": []
    },
    {
      "cell_type": "code",
      "source": [
        "3. What statement creates a function?\n",
        "A statement that creates a new function, specifying its name, parameters, and the statements it executes. header: The first part of a compound statement."
      ],
      "metadata": {
        "id": "iD7f_sSLnbwU"
      },
      "execution_count": null,
      "outputs": []
    },
    {
      "cell_type": "code",
      "source": [
        "4. What is the difference between a function and a function call?\n",
        " A function is procedure to achieve a particular result while function call is using this function to achive that task"
      ],
      "metadata": {
        "id": "kLSC7KdYpONF"
      },
      "execution_count": null,
      "outputs": []
    },
    {
      "cell_type": "code",
      "source": [
        "5. How many global scopes are there in a Python program? How many local scopes?\n",
        "we have only one global Python scope per program execution."
      ],
      "metadata": {
        "id": "wDuY1zWJoRhd"
      },
      "execution_count": null,
      "outputs": []
    },
    {
      "cell_type": "code",
      "source": [
        "6. What happens to variables in a local scope when the function call returns? \n",
        "the local variables are destroyed."
      ],
      "metadata": {
        "id": "EtZhj8OzFm0_"
      },
      "execution_count": null,
      "outputs": []
    },
    {
      "cell_type": "code",
      "source": [
        "7. What is the concept of a return value? Is it possible to have a return value in an expression?\n",
        "return is used to return a value after completion of task or end of script.\n",
        "returns a numeric value, we can use that value in a math expression or any other kind of expression in which the value has a logical or coherent meaning."
      ],
      "metadata": {
        "id": "IboDH77sFm5G"
      },
      "execution_count": null,
      "outputs": []
    },
    {
      "cell_type": "code",
      "source": [
        "8. If a function does not have a return statement, what is the return value of a call to that function?\n",
        "function is undefined"
      ],
      "metadata": {
        "id": "icla-gQLFm92"
      },
      "execution_count": null,
      "outputs": []
    },
    {
      "cell_type": "code",
      "source": [
        "9. How do you make a function variable refer to the global variable?\n",
        "use the global keyword to declare which variables are global."
      ],
      "metadata": {
        "id": "AihKvtxwFnCO"
      },
      "execution_count": null,
      "outputs": []
    },
    {
      "cell_type": "code",
      "source": [
        "10. What is the data type of None?\n",
        " used to define a null variable or an object."
      ],
      "metadata": {
        "id": "6lIkkRk8FnGd"
      },
      "execution_count": null,
      "outputs": []
    },
    {
      "cell_type": "code",
      "source": [
        "11. What does the sentence import areallyourpetsnamederic do?\n",
        "imports a module named areallyourpetsnamederic."
      ],
      "metadata": {
        "id": "n9on8c2RFnK7"
      },
      "execution_count": null,
      "outputs": []
    },
    {
      "cell_type": "code",
      "source": [
        "12. If you had a bacon() feature in a spam module, what would you call it after importing spam?\n",
        "with spam.bacon()."
      ],
      "metadata": {
        "id": "iajyHuc6FnSU"
      },
      "execution_count": null,
      "outputs": []
    },
    {
      "cell_type": "code",
      "source": [
        "13. What can you do to save a programme from crashing if it encounters an error?\n",
        "We can use error handling used to notify the user of why the error occurred "
      ],
      "metadata": {
        "id": "tMPwVVPMF7aq"
      },
      "execution_count": null,
      "outputs": []
    },
    {
      "cell_type": "code",
      "source": [
        "14. What is the purpose of the try clause? What is the purpose of the except clause?\n",
        "The try block allows you to test a block of code for errors. The except block enables you to handle the error with a user-defined response"
      ],
      "metadata": {
        "id": "tTnO4_OmF7cn"
      },
      "execution_count": null,
      "outputs": []
    }
  ]
}