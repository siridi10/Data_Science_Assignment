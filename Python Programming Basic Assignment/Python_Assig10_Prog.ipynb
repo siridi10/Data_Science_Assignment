{
  "nbformat": 4,
  "nbformat_minor": 0,
  "metadata": {
    "colab": {
      "name": "Python_Assig10_Prog.ipynb",
      "provenance": [],
      "collapsed_sections": []
    },
    "kernelspec": {
      "name": "python3",
      "display_name": "Python 3"
    },
    "language_info": {
      "name": "python"
    }
  },
  "cells": [
    {
      "cell_type": "code",
      "execution_count": 8,
      "metadata": {
        "id": "D5sadO-CiOAx",
        "colab": {
          "base_uri": "https://localhost:8080/"
        },
        "outputId": "c81997ed-b99d-4f92-cc59-96801b0cd4b6"
      },
      "outputs": [
        {
          "output_type": "stream",
          "name": "stdout",
          "text": [
            "The sum of elements in list  57\n"
          ]
        }
      ],
      "source": [
        "# 1. Write a Python program to find sum of elements in list?\n",
        "class list_sir:\n",
        "  def par(self,a):\n",
        "    if type(a)==list:\n",
        "      sum=0\n",
        "      for i in range(0,len(a)):\n",
        "        sum=sum+a[i]\n",
        "      print(\"The sum of elements in list \",sum)\n",
        "    \n",
        "l1=list_sir()\n",
        "l1.par([10,40,3,4])"
      ]
    },
    {
      "cell_type": "code",
      "source": [
        "# 2. Write a Python program to Multiply all numbers in the list?\n",
        "from functools import reduce\n",
        "list1 = [1, 2, 3] \n",
        "list2 = [3, 2, 4]\n",
        "result1 = reduce((lambda x, y: x * y), list1)\n",
        "result2 = reduce((lambda x, y: x * y), list2)\n",
        "print(result1)\n",
        "print(result2)"
      ],
      "metadata": {
        "colab": {
          "base_uri": "https://localhost:8080/"
        },
        "id": "3YNpMEvlp5l7",
        "outputId": "216ee5cd-c250-4141-9d63-e01ab747da3e"
      },
      "execution_count": 26,
      "outputs": [
        {
          "output_type": "stream",
          "name": "stdout",
          "text": [
            "6\n",
            "24\n"
          ]
        }
      ]
    },
    {
      "cell_type": "code",
      "source": [
        "# 3. Write a Python program to find smallest number in a list?\n",
        "list = [12, 8, 9, 2, 5]\n",
        "print(min(list))"
      ],
      "metadata": {
        "colab": {
          "base_uri": "https://localhost:8080/"
        },
        "id": "u7O6EKlhrMW_",
        "outputId": "1ad32b8e-62db-460e-abb4-4989452c5457"
      },
      "execution_count": 27,
      "outputs": [
        {
          "output_type": "stream",
          "name": "stdout",
          "text": [
            "2\n"
          ]
        }
      ]
    },
    {
      "cell_type": "code",
      "source": [
        "# 4. Write a Python program to find largest number in a list?\n",
        "list = [12, 8, 9, 2, 5]\n",
        "print(max(list))"
      ],
      "metadata": {
        "colab": {
          "base_uri": "https://localhost:8080/"
        },
        "id": "jMVooa_dqkia",
        "outputId": "3bf69eff-e90a-49c4-aa97-1a3c44476658"
      },
      "execution_count": 28,
      "outputs": [
        {
          "output_type": "stream",
          "name": "stdout",
          "text": [
            "12\n"
          ]
        }
      ]
    },
    {
      "cell_type": "code",
      "source": [
        "# 5. Write a Python program to find second largest number in a list?\n",
        "list = [12, 8, 9, 2, 5]\n",
        "list.sort()\n",
        "print(list[-2])"
      ],
      "metadata": {
        "colab": {
          "base_uri": "https://localhost:8080/"
        },
        "id": "0ioohkbAt2bY",
        "outputId": "a8957ee1-039d-41d2-af9b-630694fa38f7"
      },
      "execution_count": 32,
      "outputs": [
        {
          "output_type": "stream",
          "name": "stdout",
          "text": [
            "9\n"
          ]
        }
      ]
    },
    {
      "cell_type": "code",
      "source": [
        "# 6. Write a Python program to find N largest elements from a list?\n",
        "list = [12, 8, 9, 2, 5]\n",
        "n = 4\n",
        "list.sort()\n",
        "print(list[-n:])"
      ],
      "metadata": {
        "id": "ARjVPYFpLhNi",
        "colab": {
          "base_uri": "https://localhost:8080/"
        },
        "outputId": "e1773c05-8b29-43c8-fcdb-41354609f567"
      },
      "execution_count": 33,
      "outputs": [
        {
          "output_type": "stream",
          "name": "stdout",
          "text": [
            "[5, 8, 9, 12]\n"
          ]
        }
      ]
    },
    {
      "cell_type": "code",
      "source": [
        "# 7. Write a Python program to print even numbers in a list?\n",
        "list = [12, 8, 9, 2, 5]\n",
        "even_list = [num for num in list if num % 2 == 0]\n",
        " \n",
        "print(\"Even numbers in the list: \", even_list)"
      ],
      "metadata": {
        "colab": {
          "base_uri": "https://localhost:8080/"
        },
        "id": "h9UwC5gjhfKQ",
        "outputId": "71677350-c655-47b5-8706-f5acab579eea"
      },
      "execution_count": 34,
      "outputs": [
        {
          "output_type": "stream",
          "name": "stdout",
          "text": [
            "Even numbers in the list:  [12, 8, 2]\n"
          ]
        }
      ]
    },
    {
      "cell_type": "code",
      "source": [
        "# 8. Write a Python program to print odd numbers in a List?\n",
        "list = [12, 8, 9, 2, 5]\n",
        "odd_list = [num for num in list if num % 2 == 1]\n",
        " \n",
        "print(\"odd numbers in the list: \", odd_list)"
      ],
      "metadata": {
        "id": "aCVBE_rMLhkd",
        "colab": {
          "base_uri": "https://localhost:8080/"
        },
        "outputId": "c0f612c0-ed1c-473f-be8e-393a875a6289"
      },
      "execution_count": 35,
      "outputs": [
        {
          "output_type": "stream",
          "name": "stdout",
          "text": [
            "odd numbers in the list:  [9, 5]\n"
          ]
        }
      ]
    },
    {
      "cell_type": "code",
      "source": [
        "# 9. Write a Python program to Remove empty List from List?\n",
        "list1 = [12, 8, 9,[],2, 5,[]]\n",
        "print(\"The original list is : \" + str(list1))\n",
        "  \n",
        "res = [ele for ele in list1 if ele != []]\n",
        "print (\"List after empty list removal : \" + str(res))"
      ],
      "metadata": {
        "id": "9Vfa_YXULhxZ",
        "colab": {
          "base_uri": "https://localhost:8080/"
        },
        "outputId": "8402fdc8-0cab-4413-f028-f1b1da6b166f"
      },
      "execution_count": 39,
      "outputs": [
        {
          "output_type": "stream",
          "name": "stdout",
          "text": [
            "The original list is : [12, 8, 9, [], 2, 5, []]\n",
            "List after empty list removal : [12, 8, 9, 2, 5]\n"
          ]
        }
      ]
    },
    {
      "cell_type": "code",
      "source": [
        "# 10. Write a Python program to Cloning or Copying a list?\n",
        "#cloning\n",
        "li=[]\n",
        "n=int(input(\"Enter size of list \"))\n",
        "for i in range(0,n):\n",
        "    e=int(input(\"Enter element of list \"))\n",
        "    li.append(e)\n",
        "print(\"Original list: \",li)\n",
        "list_copy = li[:]\n",
        "print(\"After cloning: \",list_copy)\n",
        "\n",
        "# Copying\n",
        "# li=[]\n",
        "# n=int(input(\"Enter size of list \"))\n",
        "# for i in range(0,n):\n",
        "#     e=int(input(\"Enter element of list \"))\n",
        "#     li.append(e)\n",
        "# print(\"Original list: \",li)\n",
        "\n",
        "# #cloning\n",
        "# list_copy = li.copy()\n",
        "\n",
        "# print(\"After cloning: \",list_copy)"
      ],
      "metadata": {
        "colab": {
          "base_uri": "https://localhost:8080/"
        },
        "id": "rqrvb-cFB_wi",
        "outputId": "5ed4ae94-bc5c-4128-820c-47e57e0ed416"
      },
      "execution_count": 42,
      "outputs": [
        {
          "output_type": "stream",
          "name": "stdout",
          "text": [
            "Enter size of list 5\n",
            "Enter element of list 1\n",
            "Enter element of list 2\n",
            "Enter element of list 3\n",
            "Enter element of list 6\n",
            "Enter element of list 7\n",
            "Original list:  [1, 2, 3, 6, 7]\n",
            "After cloning:  [1, 2, 3, 6, 7]\n"
          ]
        }
      ]
    },
    {
      "cell_type": "code",
      "source": [
        "# 11. Write a Python program to Count occurrences of an element in a list?\n",
        "def countX(lst, x):\n",
        "\tcount = 0\n",
        "\tfor ele in lst:\n",
        "\t\tif (ele == x):\n",
        "\t\t\tcount = count + 1\n",
        "\treturn count\n",
        "lst = [8, 6,6,6,6,6, 8, 10, 8, 20, 10, 8, 8]\n",
        "x = 6\n",
        "print('{} has occurred {} times'.format(x, countX(lst, x)))\n"
      ],
      "metadata": {
        "colab": {
          "base_uri": "https://localhost:8080/"
        },
        "id": "3TxTXu2EB_yw",
        "outputId": "ef52c188-4472-4358-a4cc-4106ee7d2ddc"
      },
      "execution_count": 44,
      "outputs": [
        {
          "output_type": "stream",
          "name": "stdout",
          "text": [
            "6 has occurred 5 times\n"
          ]
        }
      ]
    }
  ]
}