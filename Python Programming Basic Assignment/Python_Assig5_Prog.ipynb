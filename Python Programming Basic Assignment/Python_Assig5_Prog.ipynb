{
  "nbformat": 4,
  "nbformat_minor": 0,
  "metadata": {
    "colab": {
      "name": "Python_Assig5_Prog.ipynb",
      "provenance": [],
      "collapsed_sections": []
    },
    "kernelspec": {
      "name": "python3",
      "display_name": "Python 3"
    },
    "language_info": {
      "name": "python"
    }
  },
  "cells": [
    {
      "cell_type": "code",
      "execution_count": 1,
      "metadata": {
        "id": "D5sadO-CiOAx",
        "colab": {
          "base_uri": "https://localhost:8080/"
        },
        "outputId": "fa2818af-bcca-44ad-97d9-b5191b24f11f"
      },
      "outputs": [
        {
          "output_type": "stream",
          "name": "stdout",
          "text": [
            "Enter first number: 5\n",
            "Enter second number: 10\n",
            "10\n"
          ]
        }
      ],
      "source": [
        "# 1. Write a Python Program to Find LCM?\n",
        "def lcm(x, y):\n",
        "    if x > y:  \n",
        "        greater = x  \n",
        "    else:  \n",
        "        greater = y  \n",
        "    while(True):  \n",
        "        if((greater % x == 0) and (greater % y == 0)):  \n",
        "            lcm = greater  \n",
        "            break  \n",
        "        greater += 1  \n",
        "    return lcm    \n",
        "num1 = int(input(\"Enter first number: \"))  \n",
        "num2 = int(input(\"Enter second number: \"))   \n",
        "print(lcm(num1, num2)) \n"
      ]
    },
    {
      "cell_type": "code",
      "source": [
        "# 2. Write a Python Program to Find HCF?\n",
        "def hcf(x, y):\n",
        "    if x > y:  \n",
        "        smaller = y  \n",
        "    else:  \n",
        "        smaller = x  \n",
        "    for i in range(1,smaller + 1):  \n",
        "        if((x % i == 0) and (y % i == 0)):  \n",
        "            hcf = i    \n",
        "    return hcf    \n",
        "num1 = int(input(\"Enter first number: \"))  \n",
        "num2 = int(input(\"Enter second number: \"))   \n",
        "print(hcf(num1, num2))\n"
      ],
      "metadata": {
        "id": "ARjVPYFpLhNi",
        "colab": {
          "base_uri": "https://localhost:8080/"
        },
        "outputId": "1d98dfed-531f-457a-e8f9-1a52faf59f8b"
      },
      "execution_count": 2,
      "outputs": [
        {
          "output_type": "stream",
          "name": "stdout",
          "text": [
            "Enter first number: 5\n",
            "Enter second number: 10\n",
            "5\n"
          ]
        }
      ]
    },
    {
      "cell_type": "code",
      "source": [
        "# 3. Write a Python Program to Convert Decimal to Binary, Octal and Hexadecimal?\n",
        "\n",
        "def binary(num):  \n",
        "    decimal = int(num)  \n",
        "    print (\"The given decimal number\", decimal, \"in Binary number is: \", bin(decimal))  \n",
        " \n",
        "def octal(num):  \n",
        "    decimal = int(num)\n",
        "    print (\"The given decimal number\", decimal, \"in Octal number is: \", oct(decimal))  \n",
        "\n",
        "def hexadecimal(num):  \n",
        "    decimal = int(num)\n",
        "    print (\"The given decimal number\", decimal, \" in Hexadecimal number is: \", hex(decimal))  \n",
        "\n",
        "# Driver program  \n",
        "num = int (input (\" Enter the Decimal Number: \"))  \n",
        "binary(num)  \n",
        "octal(num)  \n",
        "hexadecimal(num)  "
      ],
      "metadata": {
        "colab": {
          "base_uri": "https://localhost:8080/"
        },
        "id": "h9UwC5gjhfKQ",
        "outputId": "d113357e-e0ae-45c4-ae65-21c298e7aca9"
      },
      "execution_count": 9,
      "outputs": [
        {
          "output_type": "stream",
          "name": "stdout",
          "text": [
            " Enter the Decimal Number: 10\n",
            "The given decimal number 10 in Binary number is:  0b1010\n",
            "The given decimal number 10 in Octal number is:  0o12\n",
            "The given decimal number 10  in Hexadecimal number is:  0xa\n"
          ]
        }
      ]
    },
    {
      "cell_type": "code",
      "source": [
        "# 4. Write a Python Program To Find ASCII value of a character?\n",
        "s=input(\"enter a character \")\n",
        "print (\"The ASCII value of \", s ,\" is\", ord(s))"
      ],
      "metadata": {
        "id": "aCVBE_rMLhkd",
        "colab": {
          "base_uri": "https://localhost:8080/"
        },
        "outputId": "d7cbc42f-f302-4fbb-bb88-154b605e957f"
      },
      "execution_count": 12,
      "outputs": [
        {
          "output_type": "stream",
          "name": "stdout",
          "text": [
            "enter a character S\n",
            "The ASCII value of  S  is 83\n"
          ]
        }
      ]
    },
    {
      "cell_type": "code",
      "source": [
        "# 5. Write a Python Program to Make a Simple Calculator with 4 basic mathematical operations?\n",
        "def add(x,y):\n",
        "  return x+y\n",
        "def mul(x,y):\n",
        "  return x*y\n",
        "def div(x,y):\n",
        "  return x/y\n",
        "def sub(x,y):\n",
        "  return x-y\n",
        "\n",
        "print(\"Selection\")\n",
        "print(\"1.Add\")\n",
        "print(\"2.Mul\")\n",
        "print(\"3.Div\")\n",
        "print(\"4.Sub\")\n",
        "\n",
        "while True:\n",
        "  option = input(\"Enter choice(1/2/3/4): \")\n",
        "  if option in ('1', '2', '3', '4'):\n",
        "        num1 = float(input(\"Enter first number: \"))\n",
        "        num2 = float(input(\"Enter second number: \"))\n",
        "\n",
        "        if option == '1':\n",
        "            print(num1, \"+\", num2, \"=\", add(num1, num2))\n",
        "\n",
        "        elif option == '2':\n",
        "            print(num1, \"*\", num2, \"=\", mul(num1, num2))\n",
        "\n",
        "        elif option == '3':\n",
        "            print(num1, \"/\", num2, \"=\", div(num1, num2))\n",
        "\n",
        "        elif option == '4':\n",
        "            print(num1, \"-\", num2, \"=\", sub(num1, num2))\n",
        "        \n",
        "\n",
        "        next_calculation = input(\"Let's do next calculation? (yes/no): \")\n",
        "        if next_calculation == \"no\":\n",
        "          break\n",
        "        else:\n",
        "          print(\"Invalid Input\")"
      ],
      "metadata": {
        "id": "9Vfa_YXULhxZ",
        "colab": {
          "base_uri": "https://localhost:8080/"
        },
        "outputId": "26087d8f-40c3-4a4c-cfa0-5b9bc16fde64"
      },
      "execution_count": 15,
      "outputs": [
        {
          "name": "stdout",
          "output_type": "stream",
          "text": [
            "Selection\n",
            "1.Add\n",
            "2.Mul\n",
            "3.Div\n",
            "4.Sub\n",
            "Enter choice(1/2/3/4): 2\n",
            "Enter first number: 3\n",
            "Enter second number: 4\n",
            "3.0 * 4.0 = 12.0\n",
            "Let's do next calculation? (yes/no): yes\n",
            "Invalid Input\n",
            "Enter choice(1/2/3/4): 3\n",
            "Enter first number: 2\n",
            "Enter second number: 3\n",
            "2.0 / 3.0 = 0.6666666666666666\n",
            "Let's do next calculation? (yes/no): no\n"
          ]
        }
      ]
    }
  ]
}