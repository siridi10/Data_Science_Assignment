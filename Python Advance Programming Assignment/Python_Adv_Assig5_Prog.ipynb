{
  "nbformat": 4,
  "nbformat_minor": 0,
  "metadata": {
    "colab": {
      "name": "Python_Adv_Assig5_Prog.ipynb",
      "provenance": [],
      "collapsed_sections": []
    },
    "kernelspec": {
      "name": "python3",
      "display_name": "Python 3"
    },
    "language_info": {
      "name": "python"
    }
  },
  "cells": [
    {
      "cell_type": "code",
      "execution_count": 3,
      "metadata": {
        "id": "vaYRbe4LsSdX",
        "colab": {
          "base_uri": "https://localhost:8080/"
        },
        "outputId": "dc64458e-26c3-4fe4-d46c-a9ec26cecd39"
      },
      "outputs": [
        {
          "output_type": "stream",
          "name": "stdout",
          "text": [
            "2\n",
            "8\n",
            "2\n"
          ]
        }
      ],
      "source": [
        "# 1.Create a function that takes a number n (integer greater than zero) as an argument, and returns 2 if n is odd and 8 if n is even.\n",
        "# You can only use the following arithmetic operators:\n",
        "# addition of numbers +, \n",
        "# subtraction of numbers -, \n",
        "# multiplication of number *, \n",
        "# division of number /, \n",
        "# and exponentiation **.\n",
        "# You are not allowed to use any other methods in this challenge (i.e. no if statements, comparison operators, etc).\n",
        "# Examples:\n",
        "# f(1) ➞ 2\n",
        "# f(2) ➞ 8\n",
        "# f(3) ➞ 2\n",
        "\n",
        "def f(n):\n",
        "    output = {0.5:2, 0.0:8}\n",
        "    b = n/2 - n//2  \n",
        "    return output[b]\n",
        "\n",
        "print(f(1))\n",
        "print(f(8))\n",
        "print(f(3))"
      ]
    },
    {
      "cell_type": "code",
      "source": [
        "# 2. Create a function that returns the majority vote in a list. A majority vote is an element that occurs > N/2 times in a list (where N is the length of the list).\n",
        "def majority_vote(votes):\n",
        "    for i in set(votes): # using set to reduce iterations\n",
        "        if votes.count(i) > len(votes)/2:\n",
        "            return i\n",
        "    else:\n",
        "        return None\n",
        "print(majority_vote(['A', 'A', 'B']))\n",
        "print(majority_vote(['A', 'A', 'A', 'B', 'C', 'A']))\n",
        "print(majority_vote(['A', 'B', 'B', 'A', 'C', 'C']))"
      ],
      "metadata": {
        "id": "kx9QUM-Vs09H",
        "colab": {
          "base_uri": "https://localhost:8080/"
        },
        "outputId": "f7478431-eee3-4d0b-e96d-9f9e0c4c6078"
      },
      "execution_count": 4,
      "outputs": [
        {
          "output_type": "stream",
          "name": "stdout",
          "text": [
            "A\n",
            "A\n",
            "None\n"
          ]
        }
      ]
    },
    {
      "cell_type": "code",
      "source": [
        "# 3. Create a function that takes a string txt and censors any word from a given list lst. \n",
        "# The text removed must be replaced by the given character char.\n",
        "def censor_string(str1: str, lst1, str3):\n",
        "    str1_list = str1.split(' ')\n",
        "    out_list = []\n",
        "    \n",
        "    for i in str1_list:\n",
        "        if i in lst1:\n",
        "            for j in i:\n",
        "                i = i.replace(j, str3)\n",
        "        out_list.append(i)\n",
        "                \n",
        "    return \" \".join(out_list)\n",
        "\n",
        "print(censor_string('Today is a Wednesday!', ['Today', 'a'],'-'))\n",
        "print(censor_string('The cow jumped over the moon.', ['cow', 'over'], '*'),)"
      ],
      "metadata": {
        "id": "4WRcpt7Ds1D5",
        "colab": {
          "base_uri": "https://localhost:8080/"
        },
        "outputId": "1615ee31-82ab-4ed1-912e-bed35141aaf4"
      },
      "execution_count": 5,
      "outputs": [
        {
          "output_type": "stream",
          "name": "stdout",
          "text": [
            "----- is - Wednesday!\n",
            "The *** jumped **** the moon.\n"
          ]
        }
      ]
    },
    {
      "cell_type": "code",
      "source": [
        "# 4. In mathematics a Polydivisible Number (or magic number) is a number in a given number base with digits abcde... that has the following properties:\n",
        "def is_polydivisible(num):\n",
        "    \n",
        "    flag = True\n",
        "    divisor = 10**(len(str(num))-1)\n",
        "    itr = 0\n",
        "    \n",
        "    while(divisor > 0):\n",
        "        itr += 1\n",
        "        #print(num, divisor, num//divisor, itr)\n",
        "        if (num//divisor)%itr != 0:\n",
        "            flag = False\n",
        "            return flag\n",
        "        divisor = divisor // 10\n",
        "\n",
        "    return flag\n",
        "print(is_polydivisible(1232))\n",
        "print(is_polydivisible(123220))"
      ],
      "metadata": {
        "id": "qkfkJzUas1JX",
        "colab": {
          "base_uri": "https://localhost:8080/"
        },
        "outputId": "706c6391-434b-4790-887f-51b099ee04ca"
      },
      "execution_count": 6,
      "outputs": [
        {
          "output_type": "stream",
          "name": "stdout",
          "text": [
            "True\n",
            "False\n"
          ]
        }
      ]
    },
    {
      "cell_type": "code",
      "source": [
        "# 5. Create a function that takes a list of numbers and returns the sum of all prime numbers in the list.\n",
        "\n",
        "def is_prime(num):\n",
        "    d = 2\n",
        "    while(d*d <= num):\n",
        "        if(num%d==0):\n",
        "            return False\n",
        "        d = d + 1\n",
        "    return True\n",
        "def sum_primes(lst):\n",
        "    total = 0\n",
        "    for i in lst:\n",
        "        if is_prime(i):\n",
        "            total += i\n",
        "    if total == 0:\n",
        "        total = \"None\"\n",
        "    return total\n",
        "print(sum_primes([1, 2, 3, 4, 5, 6, 7, 8, 9, 10]))\n",
        "print(sum_primes([2, 3, 4, 11, 20, 50, 71]))"
      ],
      "metadata": {
        "id": "MC9t4taRs_Wu",
        "colab": {
          "base_uri": "https://localhost:8080/"
        },
        "outputId": "edad625c-8226-4e78-8f51-75c183f33b0f"
      },
      "execution_count": 8,
      "outputs": [
        {
          "output_type": "stream",
          "name": "stdout",
          "text": [
            "18\n",
            "87\n"
          ]
        }
      ]
    },
    {
      "cell_type": "code",
      "source": [
        ""
      ],
      "metadata": {
        "id": "-TVYCAjXASQa"
      },
      "execution_count": null,
      "outputs": []
    }
  ]
}