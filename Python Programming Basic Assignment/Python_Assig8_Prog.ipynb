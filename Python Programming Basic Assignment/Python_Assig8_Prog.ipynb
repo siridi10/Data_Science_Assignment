{
  "nbformat": 4,
  "nbformat_minor": 0,
  "metadata": {
    "colab": {
      "name": "Python_Assig8_Prog.ipynb",
      "provenance": [],
      "collapsed_sections": []
    },
    "kernelspec": {
      "name": "python3",
      "display_name": "Python 3"
    },
    "language_info": {
      "name": "python"
    }
  },
  "cells": [
    {
      "cell_type": "code",
      "execution_count": 36,
      "metadata": {
        "id": "D5sadO-CiOAx",
        "colab": {
          "base_uri": "https://localhost:8080/"
        },
        "outputId": "6d9499f3-39ba-45ee-a71a-69711c3ed7d7"
      },
      "outputs": [
        {
          "output_type": "stream",
          "name": "stdout",
          "text": [
            "[11, 13, 15]\n",
            "[17, 19, 21]\n",
            "[23, 25, 27]\n"
          ]
        }
      ],
      "source": [
        "# 1. Write a Python Program to Add Two Matrices?\n",
        "X = [[1,2,3],  \n",
        "       [4,5,6],  \n",
        "       [7,8,9]]  \n",
        "  \n",
        "Y = [[10,11,12],  \n",
        "       [13,14,15],  \n",
        "       [16,17,18]]  \n",
        "  \n",
        "Result = [[0,0,0],  \n",
        "                [0,0,0],  \n",
        "                [0,0,0]]  \n",
        "for i in range(len(X)):    \n",
        "   for j in range(len(X[0])):  \n",
        "     Result[i][j] = X[i][j] + Y[i][j]  \n",
        "for r in Result:  \n",
        "   print(r) "
      ]
    },
    {
      "cell_type": "code",
      "source": [
        "# 2. Write a Python Program to Multiply Two Matrices?\n",
        "A = [[5, 4, 3],  \n",
        "     [2, 4, 6],  \n",
        "     [4, 7, 9]]    \n",
        "B = [[3, 2, 4],  \n",
        "     [4, 3, 6],  \n",
        "     [2, 7, 5]]   \n",
        "\n",
        "multiResult = [[0, 0, 0],    \n",
        "               [0, 0, 0],    \n",
        "               [0, 0, 0]]  \n",
        "for m in range(len(A)):    \n",
        "   for n in range(len(B[0])):    \n",
        "          for o in range(len(B)):    \n",
        "               multiResult[m][n] += A[m][o] * B[o][n]\n",
        "print(\"The multiplication result of matrix A and B is: \")  \n",
        "for res in multiResult:    \n",
        "   print(res)  "
      ],
      "metadata": {
        "id": "ARjVPYFpLhNi",
        "colab": {
          "base_uri": "https://localhost:8080/"
        },
        "outputId": "aeca5749-0e9e-4b9c-ee29-abf1cf711a6d"
      },
      "execution_count": 1,
      "outputs": [
        {
          "output_type": "stream",
          "name": "stdout",
          "text": [
            "The multiplication result of matrix A and B is: \n",
            "[37, 43, 59]\n",
            "[34, 58, 62]\n",
            "[58, 92, 103]\n"
          ]
        }
      ]
    },
    {
      "cell_type": "code",
      "source": [
        "# 3. Write a Python Program to Transpose a Matrix?\n",
        "A = [[5, 4, 3],  \n",
        "         [2, 4, 6],  \n",
        "         [4, 7, 9],  \n",
        "         [8, 1, 3]]  \n",
        " \n",
        "transResult = [[0, 0, 0, 0],    \n",
        "                             [0, 0, 0, 0],  \n",
        "                             [0, 0, 0, 0]]  \n",
        " \n",
        "for a in range(len(A)):    \n",
        "   for b in range(len(A[0])):    \n",
        "          transResult[b][a] = A[a][b] \n",
        "print(\"The transpose of matrix A is: \")  \n",
        "for res in transResult:    \n",
        "   print(res)"
      ],
      "metadata": {
        "colab": {
          "base_uri": "https://localhost:8080/"
        },
        "id": "h9UwC5gjhfKQ",
        "outputId": "c44bd8db-bc80-4259-f8f0-c791251c47f5"
      },
      "execution_count": 2,
      "outputs": [
        {
          "output_type": "stream",
          "name": "stdout",
          "text": [
            "The transpose of matrix A is: \n",
            "[5, 2, 4, 8]\n",
            "[4, 4, 7, 1]\n",
            "[3, 6, 9, 3]\n"
          ]
        }
      ]
    },
    {
      "cell_type": "code",
      "source": [
        "# 4. Write a Python Program to Sort Words in Alphabetic Order?\n",
        "my_str = input(\"Enter a string: \")  \n",
        "words = my_str.split()  \n",
        "words.sort()    \n",
        "for word in words:  \n",
        "   print(word) "
      ],
      "metadata": {
        "id": "aCVBE_rMLhkd",
        "colab": {
          "base_uri": "https://localhost:8080/"
        },
        "outputId": "917cc0cc-c7ec-4806-c658-b6837bb7105a"
      },
      "execution_count": 3,
      "outputs": [
        {
          "output_type": "stream",
          "name": "stdout",
          "text": [
            "Enter a string: siridi abbvv vvv\n",
            "abbvv\n",
            "siridi\n",
            "vvv\n"
          ]
        }
      ]
    },
    {
      "cell_type": "code",
      "source": [
        "# 5. Write a Python Program to Remove Punctuation From a String?\n",
        "Punctuation = '''''!()-[]{};:'\"\\,<>./?@#$%^&*_~'''\n",
        "my_str = input(\"Enter a string: \")  \n",
        "no_punct = \"\"  \n",
        "for char in my_str:  \n",
        "   if char not in Punctuation:  \n",
        "       no_punct = no_punct + char  \n",
        "print(no_punct)"
      ],
      "metadata": {
        "id": "9Vfa_YXULhxZ",
        "colab": {
          "base_uri": "https://localhost:8080/"
        },
        "outputId": "fbe61968-bc24-438a-8af5-3af13f417403"
      },
      "execution_count": 32,
      "outputs": [
        {
          "output_type": "stream",
          "name": "stdout",
          "text": [
            "Enter a string: siridi.kkk\n",
            "siridikkk\n"
          ]
        }
      ]
    }
  ]
}