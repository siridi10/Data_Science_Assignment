{
  "nbformat": 4,
  "nbformat_minor": 0,
  "metadata": {
    "colab": {
      "name": "Python_Assig17_Prog.ipynb",
      "provenance": [],
      "collapsed_sections": []
    },
    "kernelspec": {
      "name": "python3",
      "display_name": "Python 3"
    },
    "language_info": {
      "name": "python"
    }
  },
  "cells": [
    {
      "cell_type": "code",
      "source": [
        "Question1. Create a function that takes three arguments a, b, c and returns the sum of the\n",
        "numbers that are evenly divided by c from the range a, b inclusive.\n",
        "Examples\n",
        "evenly_divisible(1, 10, 20) ➞ 0\n",
        "# No number between 1 and 10 can be evenly divided by 20.\n",
        "evenly_divisible(1, 10, 2) ➞ 30\n",
        "# 2 + 4 + 6 + 8 + 10 = 30\n",
        "evenly_divisible(1, 10, 3) ➞ 18\n",
        "# 3 + 6 + 9 = 18\n",
        "\n",
        "def evenly_divisible(A, B, M):\n",
        "\tsum = 0\n",
        "\tfor i in range(A, B + 1):\n",
        "\t\tif (i % M == 0):\n",
        "\t\t\tsum += i\n",
        "\treturn sum\n",
        "\n",
        "print(evenly_divisible(1, 10, 2))\n",
        "print(evenly_divisible(1, 10, 20))\n",
        "print(evenly_divisible(1, 10, 3))\n"
      ],
      "metadata": {
        "id": "0ioohkbAt2bY",
        "colab": {
          "base_uri": "https://localhost:8080/"
        },
        "outputId": "133d87bc-1a33-4fca-dd65-735310c329fe"
      },
      "execution_count": 5,
      "outputs": [
        {
          "output_type": "stream",
          "name": "stdout",
          "text": [
            "30\n",
            "0\n",
            "18\n"
          ]
        }
      ]
    },
    {
      "cell_type": "code",
      "execution_count": 4,
      "metadata": {
        "id": "D5sadO-CiOAx",
        "colab": {
          "base_uri": "https://localhost:8080/"
        },
        "outputId": "b5acb5eb-cb6a-47c0-aa08-0bc91cf1335d"
      },
      "outputs": [
        {
          "output_type": "stream",
          "name": "stdout",
          "text": [
            "True\n",
            "False\n",
            "True\n"
          ]
        }
      ],
      "source": [
        "Question2. Create a function that returns True if a given inequality expression is correct and\n",
        "False otherwise.\n",
        "Examples\n",
        "correct_signs(\"3 <7<11) ➞ True\n",
        "correct_signs(\"13>44 >33>1) ➞ False\n",
        "correct_signs(1 >29 >3) ➞ True\n",
        "\n",
        "def check(s):\n",
        "  regex=eval(s)\n",
        "  if regex:\n",
        "    return True\n",
        "  else:\n",
        "    return False \n",
        "# printing result \n",
        "print(check(\"2 < 7 < 15\"))\n",
        "print(check(\"30 > 45 > 21 > 9\"))\n",
        "print(check(\"4 < 7 < 8< 12 > 2\"))"
      ]
    },
    {
      "cell_type": "code",
      "source": [
        "Question3.Create a function that replaces all the vowels in a string with a specified character.\n",
        "Examples\n",
        "replace_vowels(\"the aardvark\", \"#\") ➞ \"th# ##rdv#rk\"\n",
        "replace_vowels(\"minnie mouse\", \"?\") ➞ \"m?nn?? m??s?\"\n",
        "replace_vowels(\"shakespeare\", \"*\") ➞ \"sh*k*sp**r*\"\n",
        "\n",
        "def replace_vowels(string,rep):\n",
        "  vowels = 'AEIOUaeiou'\n",
        "  for i in vowels:\n",
        "    string=string.replace(i,rep) \n",
        "  return string\n",
        "  \n",
        "print(replace_vowels(\"the aardvark\", \"#\"))\n",
        "print(replace_vowels(\"minnie mouse\", \"?\"))\n",
        "print(replace_vowels(\"shakespeare\", \"*\"))"
      ],
      "metadata": {
        "id": "3YNpMEvlp5l7",
        "colab": {
          "base_uri": "https://localhost:8080/"
        },
        "outputId": "cc348b79-7509-4425-e10c-57cc1cb0bb9b"
      },
      "execution_count": 9,
      "outputs": [
        {
          "output_type": "stream",
          "name": "stdout",
          "text": [
            "th# ##rdv#rk\n",
            "m?nn?? m??s?\n",
            "sh*k*sp**r*\n"
          ]
        }
      ]
    },
    {
      "cell_type": "code",
      "source": [
        "Question4.Write a function that calculates the factorial of a number recursively.\n",
        "Examples\n",
        "factorial(5) ➞ 120\n",
        "factorial(3) ➞ 6\n",
        "factorial(1) ➞ 1\n",
        "factorial(0) ➞ 1\n",
        "\n",
        "def factorial(n):\n",
        "  if n==1 or n==0:\n",
        "    return 1\n",
        "  else:\n",
        "    return n*factorial(n-1)\n",
        "print(factorial(5))\n",
        "print(factorial(3))\n",
        "print(factorial(1))\n",
        "print(factorial(0))"
      ],
      "metadata": {
        "id": "u7O6EKlhrMW_",
        "colab": {
          "base_uri": "https://localhost:8080/"
        },
        "outputId": "c0eb376e-97f0-48fd-b910-3f36cf056e63"
      },
      "execution_count": 14,
      "outputs": [
        {
          "output_type": "stream",
          "name": "stdout",
          "text": [
            "120\n",
            "6\n",
            "1\n",
            "1\n"
          ]
        }
      ]
    },
    {
      "cell_type": "code",
      "source": [
        "Question 5\n",
        "Hamming distance is the number of characters that differ between two strings.\n",
        "To illustrate:\n",
        "String1: \"abcbba\"\n",
        "String2: \"abcbda\"\n",
        "\n",
        "Hamming Distance: 1 - \"b\" vs. \"d\" is the only difference.\n",
        "Create a function that computes the hamming distance between two strings.\n",
        "Examples\n",
        "hamming_distance(\"abcde\", \"bcdef\") ➞ 5\n",
        "hamming_distance(\"abcde\", \"abcde\") ➞ 0\n",
        "hamming_distance(\"strong\", \"strung\") ➞ 1\n",
        "\n",
        "def hamming_distance(str1, str2):\n",
        "\ti = 0\n",
        "\tcount = 0\n",
        "\twhile(i < len(str1)):\n",
        "\t\tif(str1[i] != str2[i]):\n",
        "\t\t\tcount += 1\n",
        "\t\ti += 1\n",
        "\treturn count\n",
        "\n",
        "print(hamming_distance(\"abcde\", \"bcdef\"))\n",
        "print(hamming_distance(\"abcde\", \"abcde\"))\n",
        "print(hamming_distance(\"strong\", \"strung\"))\n"
      ],
      "metadata": {
        "id": "jMVooa_dqkia",
        "colab": {
          "base_uri": "https://localhost:8080/"
        },
        "outputId": "ae396912-968f-4f7c-c012-36d2d0d24e2d"
      },
      "execution_count": 18,
      "outputs": [
        {
          "output_type": "stream",
          "name": "stdout",
          "text": [
            "5\n",
            "0\n",
            "1\n"
          ]
        }
      ]
    },
    {
      "cell_type": "code",
      "source": [
        ""
      ],
      "metadata": {
        "id": "bAi6WRas63Sc"
      },
      "execution_count": null,
      "outputs": []
    }
  ]
}