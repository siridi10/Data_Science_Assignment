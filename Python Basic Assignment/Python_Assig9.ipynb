{
  "nbformat": 4,
  "nbformat_minor": 0,
  "metadata": {
    "colab": {
      "name": "Python_Assig9.ipynb",
      "provenance": []
    },
    "kernelspec": {
      "name": "python3",
      "display_name": "Python 3"
    },
    "language_info": {
      "name": "python"
    }
  },
  "cells": [
    {
      "cell_type": "code",
      "execution_count": null,
      "metadata": {
        "id": "o5dFwMwLr0Gn"
      },
      "outputs": [],
      "source": [
        "1. To what does a relative path refer?\n",
        "it refers to current location path"
      ]
    },
    {
      "cell_type": "code",
      "source": [
        "2. What does an absolute path start with your operating system?\n",
        "from start of actual file system from / directory"
      ],
      "metadata": {
        "id": "ZJsMuVLcsnsU"
      },
      "execution_count": null,
      "outputs": []
    },
    {
      "cell_type": "code",
      "source": [
        "3. What do the functions os.getcwd() and os.chdir() do?\n",
        "os.getcwd()--> get current working directory\n",
        "os.chdir()-->changes the current working directory to the given path"
      ],
      "metadata": {
        "id": "cQdFncK4snub"
      },
      "execution_count": null,
      "outputs": []
    },
    {
      "cell_type": "code",
      "source": [
        "4. What are the . and .. folders?\n",
        ".--> current directory\t\n",
        "..--> parent directory"
      ],
      "metadata": {
        "id": "tZocwhHCsnxf"
      },
      "execution_count": null,
      "outputs": []
    },
    {
      "cell_type": "code",
      "source": [
        "5. In C:\\bacon\\eggs\\spam.txt, which part is the dir name, and which part is the base name?\n",
        "dir name--> C:\\bacon\\eggs\n",
        "base name--> spam.txt"
      ],
      "metadata": {
        "id": "nWOUMDa49gDK"
      },
      "execution_count": null,
      "outputs": []
    },
    {
      "cell_type": "code",
      "source": [
        "6. What are the three “mode” arguments that can be passed to the open() function?\n",
        "read/readlines, write, and append"
      ],
      "metadata": {
        "id": "42NA3Cg79gE5"
      },
      "execution_count": null,
      "outputs": []
    },
    {
      "cell_type": "code",
      "source": [
        "7. What happens if an existing file is opened in write mode?\n",
        "It overwrites the existing file and starts from scratch"
      ],
      "metadata": {
        "id": "50KMV3kl96sO"
      },
      "execution_count": null,
      "outputs": []
    },
    {
      "cell_type": "code",
      "source": [
        "8. How do you tell the difference between read() and readlines()?\n",
        "read() --> passes the entire file as a string\n",
        "readlines() ---> provides a list of string values - one string for each line of text."
      ],
      "metadata": {
        "id": "o34QCUe5nhPN"
      },
      "execution_count": null,
      "outputs": []
    },
    {
      "cell_type": "code",
      "source": [
        "9. What data structure does a shelf value resemble?\n",
        "Resembles a dictionary"
      ],
      "metadata": {
        "id": "sZKnr-3SnhV2"
      },
      "execution_count": null,
      "outputs": []
    }
  ]
}