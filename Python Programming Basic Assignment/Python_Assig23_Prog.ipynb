{
  "cells": [
    {
      "cell_type": "code",
      "execution_count": 13,
      "metadata": {
        "colab": {
          "base_uri": "https://localhost:8080/"
        },
        "id": "0ioohkbAt2bY",
        "outputId": "216a83fa-2d70-41ee-c3ff-37bc1d8a2358"
      },
      "outputs": [
        {
          "output_type": "stream",
          "name": "stdout",
          "text": [
            "True\n",
            "False\n",
            "True\n",
            "False\n",
            "True\n"
          ]
        }
      ],
      "source": [
        "Question 1\n",
        "Create a function that takes a number as an argument and returns True or False depending on whether the number is symmetrical or not. A number is symmetrical when it is the same as its reverse.\n",
        "Examples\n",
        "is_symmetrical(7227) ➞ True\n",
        "is_symmetrical(12567) ➞ False\n",
        "is_symmetrical(44444444) ➞ True\n",
        "is_symmetrical(9939) ➞ False\n",
        "is_symmetrical(1112111) ➞ True\n",
        "\n",
        "def is_symmetrical(n):\n",
        "    return str(n) == str(n)[::-1]\n",
        "print(is_symmetrical(7227))\n",
        "print(is_symmetrical(12567))\n",
        "print(is_symmetrical(44444444))\n",
        "print(is_symmetrical(9939))\n",
        "print(is_symmetrical(1112111))\n"
      ]
    },
    {
      "cell_type": "code",
      "execution_count": 17,
      "metadata": {
        "colab": {
          "base_uri": "https://localhost:8080/"
        },
        "id": "D5sadO-CiOAx",
        "outputId": "687da5ca-0ec1-4ed2-e223-4d48fbc873bb"
      },
      "outputs": [
        {
          "output_type": "stream",
          "name": "stdout",
          "text": [
            "6\n",
            "24\n",
            "0\n",
            "-20\n"
          ]
        }
      ],
      "source": [
        "Question 2\n",
        "Given a string of numbers separated by a comma and space, return the product of the numbers.\n",
        "Examples\n",
        "multiply_nums(\"2, 3\") ➞ 6\n",
        "multiply_nums(\"1, 2, 3, 4\") ➞ 24\n",
        "multiply_nums(\"54, 75, 453, 0\") ➞ 0\n",
        "multiply_nums(\"10, -2\") ➞ -20\n",
        "\n",
        "def multiply_nums(in_string):\n",
        "    out_string = in_string.replace(' ','').split(',')\n",
        "    out_num = 1\n",
        "    for ele in out_string:\n",
        "        out_num *= int(ele)\n",
        "    return out_num\n",
        "    \n",
        "print(multiply_nums(\"2, 3\"))\n",
        "print(multiply_nums(\"1, 2, 3, 4\"))\n",
        "print(multiply_nums(\"54, 75, 453, 0\"))\n",
        "print(multiply_nums(\"10, -2\"))"
      ]
    },
    {
      "cell_type": "code",
      "execution_count": 15,
      "metadata": {
        "colab": {
          "base_uri": "https://localhost:8080/"
        },
        "id": "3YNpMEvlp5l7",
        "outputId": "9446cd2a-bd2d-4e15-8fdd-891e616cdff0"
      },
      "outputs": [
        {
          "output_type": "stream",
          "name": "stdout",
          "text": [
            "811181\n",
            "9414\n",
            "9414\n"
          ]
        }
      ],
      "source": [
        "Question 3\n",
        "Create a function that squares every digit of a number.\n",
        "Examples\n",
        "square_digits(9119) ➞ 811181\n",
        "square_digits(2483) ➞ 416649\n",
        "square_digits(3212) ➞ 9414\n",
        "Notes\n",
        "The function receives an integer and must return an integer.\n",
        "\n",
        "def square_digits(num):\n",
        "    k=''\n",
        "    words = list(str(num)) # split the text\n",
        "    for word in words:  # for each word in the line:\n",
        "        print(int(word)**2, end=\"\") # print the word\n",
        "    return k\n",
        "\n",
        "print(square_digits(9119))\n",
        "print(square_digits(3212))\n",
        "print(square_digits(3212))"
      ]
    },
    {
      "cell_type": "code",
      "execution_count": 14,
      "metadata": {
        "colab": {
          "base_uri": "https://localhost:8080/"
        },
        "id": "u7O6EKlhrMW_",
        "outputId": "d9de4b8a-f685-494a-fe7e-3623ab42e5ba"
      },
      "outputs": [
        {
          "output_type": "stream",
          "name": "stdout",
          "text": [
            "[1, 3, 5]\n",
            "[4]\n",
            "[5, 7, 8, 9, 10, 15]\n",
            "[1, 2, 3]\n"
          ]
        }
      ],
      "source": [
        "Question 4\n",
        "Create a function that sorts a list and removes all duplicate items from it.\n",
        "Examples\n",
        "setify([1, 3, 3, 5, 5]) ➞ [1, 3, 5]\n",
        "setify([4, 4, 4, 4]) ➞ [4]\n",
        "setify([5, 7, 8, 9, 10, 15]) ➞ [5, 7, 8, 9, 10, 15]\n",
        "setify([3, 3, 3, 2, 1]) ➞ [1, 2, 3]\n",
        "\n",
        "def setify(b):\n",
        "    b.sort()\n",
        "    res=[]\n",
        "    for i in b:\n",
        "        if i not in res:\n",
        "            res.append(i)\n",
        "    return res\n",
        "print(setify([1, 3, 3, 5, 5]))\n",
        "print(setify([4, 4, 4, 4]))\n",
        "print(setify([5, 7, 8, 9, 10, 15]))\n",
        "print(setify([3, 3, 3, 2, 1]))"
      ]
    },
    {
      "cell_type": "code",
      "execution_count": 16,
      "metadata": {
        "colab": {
          "base_uri": "https://localhost:8080/"
        },
        "id": "jMVooa_dqkia",
        "outputId": "27c266ca-0375-4287-ccb9-599cc33c0f55"
      },
      "outputs": [
        {
          "output_type": "stream",
          "name": "stdout",
          "text": [
            "3\n",
            "3\n",
            "6\n"
          ]
        }
      ],
      "source": [
        "Question 5\n",
        "Create a function that returns the mean of all digits.\n",
        "Examples\n",
        "mean(42) ➞ 3\n",
        "mean(12345) ➞ 3\n",
        "mean(666) ➞ 6\n",
        "Notes\n",
        "•\tThe mean of all digits is the sum of digits / how many digits there are (e.g. mean of digits in 512 is (5+1+2)/3(number of digits) = 8/3=2).\n",
        "•\tThe mean will always be an integer.\n",
        "\n",
        "\n",
        "def mean(n):\n",
        "    sum = 0\n",
        "    for digit in str(n):\n",
        "        sum += int(digit)/len(str(n))\n",
        "    return int(sum)\n",
        "\n",
        "print(mean(42))\n",
        "print(mean(12345))\n",
        "print(mean(666))"
      ]
    },
    {
      "cell_type": "code",
      "source": [
        ""
      ],
      "metadata": {
        "id": "AiwJeOIE2s3V"
      },
      "execution_count": null,
      "outputs": []
    }
  ],
  "metadata": {
    "colab": {
      "collapsed_sections": [],
      "name": "Python_Assig23_Prog.ipynb",
      "provenance": []
    },
    "kernelspec": {
      "display_name": "Python 3",
      "name": "python3"
    },
    "language_info": {
      "name": "python"
    }
  },
  "nbformat": 4,
  "nbformat_minor": 0
}