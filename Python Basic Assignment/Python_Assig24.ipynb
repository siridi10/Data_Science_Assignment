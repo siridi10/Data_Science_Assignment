{
  "nbformat": 4,
  "nbformat_minor": 0,
  "metadata": {
    "colab": {
      "name": "Python_Assig24.ipynb",
      "provenance": []
    },
    "kernelspec": {
      "name": "python3",
      "display_name": "Python 3"
    },
    "language_info": {
      "name": "python"
    }
  },
  "cells": [
    {
      "cell_type": "code",
      "execution_count": null,
      "metadata": {
        "id": "o5dFwMwLr0Gn"
      },
      "outputs": [],
      "source": [
        "1. What is the relationship between def statements and lambda expressions ?\n",
        "Ans: def statement is used to create a normal function. \n",
        "where as lamba expressions are used to create Anonymous functions. \n",
        "which can be assigned to a variable and can be called using the variable later in function.\n",
        "\n",
        "Lambda's body is a single expression and not a block of statements like def statement\n",
        "The lambda expression's body is similar to what we'd put in a def body's return statement. \n",
        "We simply type the result as an expression instead of explicitly returning it.\n",
        "Because it is limited to an expression, a lambda is less general than a def statement.\n",
        "\n"
      ]
    },
    {
      "cell_type": "code",
      "source": [
        "2. What is the benefit of lambda?\n",
        "Ans: The following are some of the benefits of lambda expressions:\n",
        "\n",
        "Can be used to create Nameless/Anonymous functions inside some complex functions if we are planning to use it only once.\n",
        "Moderate to small functions can be created in a single line\n",
        "Fuctions created using lambda expressions can be assigned to a variable and can be used by simply calling the variable\n"
      ],
      "metadata": {
        "id": "ZJsMuVLcsnsU"
      },
      "execution_count": null,
      "outputs": []
    },
    {
      "cell_type": "code",
      "source": [
        "3. Compare and contrast map, filter, and reduce.\n",
        "Ans: The differences between map, filter and reduce are:\n",
        "\n",
        "map(): The map() function is a function takes another function as a parameter along with a sequence of iterables and returns an output after applying the function to each iterable present in the sequence.\n",
        "print('Map ->',list(map(lambda x:x+x, [1,2,3,4])))\n",
        "Map -> [2, 4, 6, 8]\n",
        "\n",
        "filter(): The filter() function is only returns true.\n",
        "print('Filter ->',list(filter(lambda x:x%2 !=0, [1,2,3,4])))\n",
        "Filter -> [1, 3]\n",
        "\n",
        "reduce(): The reduce() function, as the name describes, applies a given function to the iterables and returns a single value\n",
        "from functools import reduce\n",
        "print('Reduce ->',reduce(lambda x,y:x+y, [1,2,3,4,5,6]))\n",
        "Reduce -> 21\n"
      ],
      "metadata": {
        "id": "cQdFncK4snub"
      },
      "execution_count": null,
      "outputs": []
    },
    {
      "cell_type": "code",
      "source": [
        "4. What are function annotations, and how are they used?\n",
        "Ans: Function annotations provide a way of associating various parts of a function with arbitrary python expressions at compile time.\n",
        "Annotations of simple parameters def func(x: expression, y: expression = 20):\n",
        "Whereas the annotations for excess parameters are as − def func (**args: expression, **kwargs: expression):\n",
        "\n"
      ],
      "metadata": {
        "id": "tZocwhHCsnxf"
      },
      "execution_count": null,
      "outputs": []
    },
    {
      "cell_type": "code",
      "source": [
        "5. What are recursive functions, and how are they used?\n",
        "Ans: A recursive function is a function that calls itself during its execution. \n",
        "The process may repeat several times, output will be given at end of each iteration.\n",
        "\n"
      ],
      "metadata": {
        "id": "nWOUMDa49gDK"
      },
      "execution_count": null,
      "outputs": []
    },
    {
      "cell_type": "code",
      "source": [
        "6. What are some general design guidelines for coding functions?\n",
        "Always use a docstring to explain the functionality of the function\n",
        "avoid using or limited use of global variables\n",
        "Proper Identation to increase the code readability\n",
        "try to follow a naming convention for function names (pascalCase or camelCase) and stick with the same convention throughout the application.\n",
        "Avoid using digits while choosing a variable name\n",
        "try to use a name for the function which conveys the purpose of the function\n",
        "Local variables should be named using camelCase format (ex: localVariable) whereas Global variables names should be using PascalCase (ex:GlobalVariable).\n",
        "Constant should be represented in allcaps (ex:CONSTANT).\n"
      ],
      "metadata": {
        "id": "qCOsfnCPZNNy"
      },
      "execution_count": null,
      "outputs": []
    },
    {
      "cell_type": "code",
      "source": [
        "7. Name three or more ways that functions can communicate results to a caller.\n",
        "Ans: Some of the ways in which a function can communicate with the calling function is:\n",
        "print\n",
        "return\n",
        "yield"
      ],
      "metadata": {
        "id": "5Bygs1qAZNQY"
      },
      "execution_count": null,
      "outputs": []
    }
  ]
}