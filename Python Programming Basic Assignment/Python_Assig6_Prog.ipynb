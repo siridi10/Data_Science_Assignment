{
  "nbformat": 4,
  "nbformat_minor": 0,
  "metadata": {
    "colab": {
      "name": "Python_Assig6_Prog.ipynb",
      "provenance": [],
      "collapsed_sections": []
    },
    "kernelspec": {
      "name": "python3",
      "display_name": "Python 3"
    },
    "language_info": {
      "name": "python"
    }
  },
  "cells": [
    {
      "cell_type": "code",
      "execution_count": 18,
      "metadata": {
        "id": "D5sadO-CiOAx",
        "colab": {
          "base_uri": "https://localhost:8080/"
        },
        "outputId": "eca7e2fe-9a20-43f3-a6e8-cbac224bd554"
      },
      "outputs": [
        {
          "output_type": "stream",
          "name": "stdout",
          "text": [
            "Enter a number 10\n",
            "0 1 1 2 3 5 8 13 21 34 "
          ]
        }
      ],
      "source": [
        "# 1.\tWrite a Python Program to Display Fibonacci Sequence Using Recursion?\n",
        "def fibo(n):\n",
        "  if n<=1:\n",
        "    return n\n",
        "  else:\n",
        "    return (fibo(n-1) + fibo(n-2))\n",
        "num=int(input(\"Enter a number \"))\n",
        "if num <= 0:\n",
        "   print(\"Plese enter a positive integer\")\n",
        "else:\n",
        "   for i in range(num):\n",
        "       print(fibo(i),end=\" \")\n",
        "  "
      ]
    },
    {
      "cell_type": "code",
      "source": [
        "# 2.\tWrite a Python Program to Find Factorial of Number Using Recursion?\n",
        "def fibo(n):\n",
        "  if n==1:\n",
        "    return n\n",
        "  else:\n",
        "    return n*fibo(n-1)\n",
        "num = int(input(\"Enter a number: \"))  \n",
        "if num < 0:  \n",
        "   print(\"negative numbers\")  \n",
        "elif num == 0:  \n",
        "   print(\"The factorial of 0 is 1\")  \n",
        "else:  \n",
        "   print(\"The factorial of\",num,\"is\",fibo(num))  "
      ],
      "metadata": {
        "id": "ARjVPYFpLhNi",
        "colab": {
          "base_uri": "https://localhost:8080/"
        },
        "outputId": "d0429a4a-6230-4811-e8b0-b8da9090201b"
      },
      "execution_count": 19,
      "outputs": [
        {
          "output_type": "stream",
          "name": "stdout",
          "text": [
            "Enter a number: 4\n",
            "The factorial of 4 is 24\n"
          ]
        }
      ]
    },
    {
      "cell_type": "code",
      "source": [
        "# 3.\tWrite a Python Program to calculate your Body Mass Index?\n",
        "\n",
        "def BMI(height, weight):\n",
        "\tbmi = weight/(height**2)\n",
        "\treturn bmi\n",
        "\n",
        "height = 5.44\n",
        "weight = 85\n",
        "\n",
        "bmi = BMI(height, weight)\n",
        "print(\"The BMI is\", format(bmi), \"so \", end='')\n",
        "\n",
        "if (bmi < 18.5):\n",
        "\tprint(\"underweight\")\n",
        "\n",
        "elif ( bmi >= 18.5 and bmi < 24.9):\n",
        "\tprint(\"Healthy\")\n",
        "\n",
        "elif ( bmi >= 24.9 and bmi < 30):\n",
        "\tprint(\"overweight\")\n",
        "\n",
        "elif ( bmi >=30):\n",
        "\tprint(\"Suffering from Obesity\")\n"
      ],
      "metadata": {
        "colab": {
          "base_uri": "https://localhost:8080/"
        },
        "id": "h9UwC5gjhfKQ",
        "outputId": "08fd3a52-0338-42b0-daff-0ab1e9d797c8"
      },
      "execution_count": 22,
      "outputs": [
        {
          "output_type": "stream",
          "name": "stdout",
          "text": [
            "The BMI is 2.872242647058823 so underweight\n"
          ]
        }
      ]
    },
    {
      "cell_type": "code",
      "source": [
        "# 4.\tWrite a Python Program to calculate the natural logarithm of any number?\n",
        "import math\n",
        "print (\"math.log(100.12) : \", math.log(100.12))\n",
        "\n",
        "print (\"math.log(math.pi) : \", math.log(math.pi))"
      ],
      "metadata": {
        "id": "aCVBE_rMLhkd",
        "colab": {
          "base_uri": "https://localhost:8080/"
        },
        "outputId": "e59896aa-687d-4c0f-fcb5-1eac376259dd"
      },
      "execution_count": 23,
      "outputs": [
        {
          "output_type": "stream",
          "name": "stdout",
          "text": [
            "math.log(100.12) :  4.6063694665635735\n",
            "math.log(math.pi) :  1.1447298858494002\n"
          ]
        }
      ]
    },
    {
      "cell_type": "code",
      "source": [
        "# 5.\tWrite a Python Program for cube sum of first n natural numbers?\n",
        "def Series(n):\n",
        "   sum = 0\n",
        "   for i in range(1, n+1):\n",
        "      sum +=i*i*i\n",
        "   return sum\n",
        "# Driver Function\n",
        "n = int(input(\"Enter a number \"))\n",
        "print(Series(n))"
      ],
      "metadata": {
        "id": "9Vfa_YXULhxZ",
        "colab": {
          "base_uri": "https://localhost:8080/"
        },
        "outputId": "efc23a1e-baf0-45e1-8023-47c32d899ad4"
      },
      "execution_count": 24,
      "outputs": [
        {
          "output_type": "stream",
          "name": "stdout",
          "text": [
            "Enter a number 5\n",
            "225\n"
          ]
        }
      ]
    }
  ]
}