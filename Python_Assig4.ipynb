{
  "nbformat": 4,
  "nbformat_minor": 0,
  "metadata": {
    "colab": {
      "name": "Python_Assig4.ipynb",
      "provenance": [],
      "collapsed_sections": []
    },
    "kernelspec": {
      "name": "python3",
      "display_name": "Python 3"
    },
    "language_info": {
      "name": "python"
    }
  },
  "cells": [
    {
      "cell_type": "code",
      "execution_count": null,
      "metadata": {
        "id": "D5sadO-CiOAx"
      },
      "outputs": [],
      "source": [
        "1. What exactly is []?\n",
        "it means a list with no values"
      ]
    },
    {
      "cell_type": "code",
      "source": [
        "2. In a list of values stored in a variable called spam, how would you assign the value 'hello' as the third value? (Assume [2, 4, 6, 8, 10] are in spam.)\n",
        "spam[2] =\"hello\""
      ],
      "metadata": {
        "id": "ARjVPYFpLhNi"
      },
      "execution_count": null,
      "outputs": []
    },
    {
      "cell_type": "code",
      "source": [
        "Let's pretend the spam includes the list ['a', 'b', 'c', 'd'] for the next three queries.\n",
        "3. What is the value of spam[int(int('3' * 2) / 11)]?\n",
        "'d'\n",
        "4. What is the value of spam[-1]?\n",
        "'d'\n",
        "5. What is the value of spam[:2]?\n",
        "['a', 'b']\n"
      ],
      "metadata": {
        "id": "kV_65k7OLhPG"
      },
      "execution_count": null,
      "outputs": []
    },
    {
      "cell_type": "code",
      "source": [
        "Let's pretend bacon has the list [3.14, 'cat,' 11, 'cat,' True] for the next three questions.\n",
        "6. What is the value of bacon.index('cat')?\n",
        "1\n",
        "7. How does bacon.append(99) change the look of the list value in bacon?\n",
        "[3.14, 'cat', 11, 'cat', True, 99]\n",
        "8. How does bacon.remove('cat') change the look of the list in bacon?\n",
        "[3.14, 11, 'cat', True]"
      ],
      "metadata": {
        "id": "aCVBE_rMLhkd"
      },
      "execution_count": null,
      "outputs": []
    },
    {
      "cell_type": "code",
      "source": [
        "9. What are the list concatenation and list replication operators?\n",
        "The operator for list concatenation is +, while the operator for replication is *."
      ],
      "metadata": {
        "id": "9Vfa_YXULhxZ"
      },
      "execution_count": null,
      "outputs": []
    },
    {
      "cell_type": "code",
      "source": [
        "10. What is difference between the list methods append() and insert()?\n",
        "While append() will add values only to the end of a list, insert() can add them anywhere in the list."
      ],
      "metadata": {
        "id": "5iaWIjWQRxDV"
      },
      "execution_count": null,
      "outputs": []
    },
    {
      "cell_type": "code",
      "source": [
        "11. What are the two methods for removing items from a list?\n",
        " remove() and pop()"
      ],
      "metadata": {
        "id": "5QPoaPyneI7N"
      },
      "execution_count": null,
      "outputs": []
    },
    {
      "cell_type": "code",
      "source": [
        "12. Describe how list values and string values are identical.\n",
        "The differences between them are that Lists are mutable but Strings are immutable.\n",
        "Secondly, elements of a list can be of different types whereas a String only contains characters that are all of String type."
      ],
      "metadata": {
        "id": "kdsC_KeXeI8y"
      },
      "execution_count": null,
      "outputs": []
    },
    {
      "cell_type": "code",
      "source": [
        "13. What's the difference between tuples and lists?\n",
        "List is just like the arrays,it the most powerful tool in Python.\n",
        "Ex -list_data = [1,\"ad\",\"fffff\",4+3j,44]\n",
        "Tuple is also a sequence data type that can contain elements of different data types, but these are immutable in nature. \n",
        "In other words, a tuple is a collection of Python objects separated by commas. \n",
        "The tuple is faster than the list because of static in nature. \n",
        "Syntax:  \n",
        "tuple_data = ('this', 'is', 'an', 'example', 'of', 'tuple')\n"
      ],
      "metadata": {
        "id": "XvrpbqrNeJAq"
      },
      "execution_count": null,
      "outputs": []
    },
    {
      "cell_type": "code",
      "source": [
        "14. How do you type a tuple value that only contains the integer 42?\n",
        "(42,)"
      ],
      "metadata": {
        "id": "lIfeypBHeJGU"
      },
      "execution_count": null,
      "outputs": []
    },
    {
      "cell_type": "code",
      "source": [
        "15. How do you get a list value's tuple form? How do you get a tuple value's list form?\n",
        "The tuple() and List() function respectively."
      ],
      "metadata": {
        "id": "ZYSUOPhTeJM3"
      },
      "execution_count": null,
      "outputs": []
    },
    {
      "cell_type": "code",
      "source": [
        "16. Variables that \"contain\" list values are not necessarily lists themselves. Instead, what do they contain?\n",
        "Variables will contain references to list values rather than list values themselves. \n",
        "But for strings and integer values, variables simply contain the string or integer value."
      ],
      "metadata": {
        "id": "mdXjXTedeJO0"
      },
      "execution_count": null,
      "outputs": []
    },
    {
      "cell_type": "code",
      "source": [
        "17. How do you distinguish between copy.copy() and copy.deepcopy()?\n",
        "A shallow copy creates a new object which stores the reference of the original elements.\n",
        "copy.copy()\n",
        "A deep copy creates a new object and recursively adds the copies of nested objects present in the original elements.\n",
        "copy.deepcopy()"
      ],
      "metadata": {
        "id": "VUlsniB4eJSD"
      },
      "execution_count": null,
      "outputs": []
    }
  ]
}