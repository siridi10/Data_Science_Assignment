{
  "nbformat": 4,
  "nbformat_minor": 0,
  "metadata": {
    "colab": {
      "name": "Python_Adv_Assig4.ipynb",
      "provenance": []
    },
    "kernelspec": {
      "name": "python3",
      "display_name": "Python 3"
    },
    "language_info": {
      "name": "python"
    }
  },
  "cells": [
    {
      "cell_type": "code",
      "execution_count": null,
      "metadata": {
        "id": "OUuNxFb4sssz"
      },
      "outputs": [],
      "source": [
        "Q1. Which two operator overloading methods can you use in your classes to support iteration?\n",
        "The __iter__ returns the iterator object and is implicitly called at the start of loops. \n",
        "The __next__ method returns the next value and is implicitly called at each loop increment.\n"
      ]
    },
    {
      "cell_type": "code",
      "source": [
        "Q2. In what contexts do the two operator overloading methods manage printing?\n",
        "The str() built-in is used to cast an instance of a class to a str object, or more appropriately, to obtain a user-friendly string representation of the object which can be read by a normal user rather than the programmer. You can define the string format your object should be displayed in when passed to str() by defining the __str__() method in your class. Moreover, __str__() is the method that is used by Python when you call print() on your object."
      ],
      "metadata": {
        "id": "Yb7yWcmbtIF0"
      },
      "execution_count": null,
      "outputs": []
    },
    {
      "cell_type": "code",
      "source": [
        "Q3. In a class, how do you intercept slice operations?\n",
        "The __getitem__ method is used for accessing list items, array elements, dictionary entries etc. slice is a constructor in Python that creates slice object to represent set of indices that the range(start, stop, step)\n",
        "__getitem__(slice(start, stop, step))"
      ],
      "metadata": {
        "id": "6LcMFaldtIIt"
      },
      "execution_count": null,
      "outputs": []
    },
    {
      "cell_type": "code",
      "source": [
        "Q4. In a class, how do you capture in-place addition?\n",
        "iadd() :- This function is used to assign and add the current value. This operation does “a+=b” operation"
      ],
      "metadata": {
        "id": "fD0djZuBtIKx"
      },
      "execution_count": null,
      "outputs": []
    },
    {
      "cell_type": "code",
      "source": [
        "Q5. When is it appropriate to use operator overloading?\n",
        " when you're making a new class that falls into an existing \"Abstract Base Class\" (ABC)"
      ],
      "metadata": {
        "id": "6MGgCQ2StINa"
      },
      "execution_count": null,
      "outputs": []
    }
  ]
}