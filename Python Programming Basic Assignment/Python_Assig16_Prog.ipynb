{
  "nbformat": 4,
  "nbformat_minor": 0,
  "metadata": {
    "colab": {
      "name": "Python_Assig16_Prog.ipynb",
      "provenance": [],
      "collapsed_sections": []
    },
    "kernelspec": {
      "name": "python3",
      "display_name": "Python 3"
    },
    "language_info": {
      "name": "python"
    }
  },
  "cells": [
    {
      "cell_type": "code",
      "execution_count": 60,
      "metadata": {
        "id": "D5sadO-CiOAx",
        "colab": {
          "base_uri": "https://localhost:8080/"
        },
        "outputId": "7b769cd6-943c-4291-f1da-9946e07e1fb4"
      },
      "outputs": [
        {
          "output_type": "stream",
          "name": "stdout",
          "text": [
            "in... in... incredible?\n"
          ]
        }
      ],
      "source": [
        "Question 1:\n",
        "Write a function that stutters a word as if someone is struggling to read it. The\n",
        "first two letters are repeated twice with an ellipsis ... and space after each, and then the\n",
        "word is pronounced with a question mark ?.\n",
        "def stutter(word):\n",
        "    s = word[:2]\n",
        "    return (2 * (s + '... ')) + word + '?'\n",
        "print(stutter(\"incredible\"))"
      ]
    },
    {
      "cell_type": "code",
      "source": [
        "Question 2.\n",
        "Create a function that takes an angle in radians and returns the corresponding\n",
        "angle in degrees rounded to one decimal place.\n",
        "\n",
        "def radians_to_degrees(radian):\n",
        "\tpi = 3.14159\n",
        "\tdegree = radian * (180/pi)\n",
        "\treturn degree\n",
        "\n",
        "print(\"degree =\",(radians_to_degrees(1)))"
      ],
      "metadata": {
        "id": "3YNpMEvlp5l7",
        "colab": {
          "base_uri": "https://localhost:8080/"
        },
        "outputId": "a09c307b-221c-4fd4-a1bd-f2ec9b137df6"
      },
      "execution_count": 62,
      "outputs": [
        {
          "output_type": "stream",
          "name": "stdout",
          "text": [
            "degree = 57.295827908797776\n"
          ]
        }
      ]
    },
    {
      "cell_type": "code",
      "source": [
        "Question 3. In this challenge, establish if a given integer num is a Curzon number. If 1 plus\n",
        "2 elevated to num is exactly divisible by 1 plus 2 multiplied by num, then num is a Curzon\n",
        "number.\n",
        "Given a non-negative integer num, implement a function that returns True if num is a Curzon\n",
        "number, or False otherwise.\n",
        "Examples\n",
        "is_curzon(5) ➞ True\n",
        "# 2 ** 5 + 1 = 33\n",
        "# 2 * 5 + 1 = 11\n",
        "# 33 is a multiple of 11\n",
        "is_curzon(10) ➞ False\n",
        "# 2 ** 10 + 1 = 1025\n",
        "# 2 * 10 + 1 = 21\n",
        "# 1025 is not a multiple of 21\n",
        "is_curzon(14) ➞ True\n",
        "# 2 ** 14 + 1 = 16385\n",
        "# 2 * 14 + 1 = 29\n",
        "# 16385 is a multiple of 29\n",
        "\n",
        "def is_curzon(N):\n",
        "\tpowerTerm, productTerm = 0, 0\n",
        "\tpowerTerm = pow(2, N) + 1\n",
        "\tproductTerm = 2 * N + 1\n",
        "\tif (powerTerm % productTerm == 0):\n",
        "\t\tprint(\"Yes\")\n",
        "\telse:\n",
        "\t\tprint(\"No\")\n",
        "\n",
        "is_curzon(5)\n"
      ],
      "metadata": {
        "id": "u7O6EKlhrMW_",
        "colab": {
          "base_uri": "https://localhost:8080/"
        },
        "outputId": "ae62bd76-916c-47bd-fcf5-4664258628b3"
      },
      "execution_count": 63,
      "outputs": [
        {
          "output_type": "stream",
          "name": "stdout",
          "text": [
            "Yes\n"
          ]
        }
      ]
    },
    {
      "cell_type": "code",
      "source": [
        "Question 4:\n",
        "Question 4.Given the side length x find the area of a hexagon.\n",
        "import math as m\n",
        "def hexa(x):\n",
        "  bas=(3*m.sqrt(3))*(x*x)\n",
        "  den=2\n",
        "  area=bas/den\n",
        "  return (round(area,2))\n",
        "hexa(2)"
      ],
      "metadata": {
        "id": "jMVooa_dqkia",
        "colab": {
          "base_uri": "https://localhost:8080/"
        },
        "outputId": "3e9121dc-cc38-4be2-f719-5a37c888e97f"
      },
      "execution_count": 81,
      "outputs": [
        {
          "output_type": "execute_result",
          "data": {
            "text/plain": [
              "10.39"
            ]
          },
          "metadata": {},
          "execution_count": 81
        }
      ]
    },
    {
      "cell_type": "code",
      "source": [
        "Question 5:\n",
        "Create a function that returns a base-2 (binary) representation of a base-10\n",
        "(decimal) string number. To convert is simple: ((2) means base-2 and (10) means base-10)\n",
        "010101001(2) = 1 + 8 + 32 + 128.\n",
        "Going from right to left, the value of the most right bit is 1, now from that every bit to the left\n",
        "will be x2 the value, value of an 8 bit binary numbers are (256, 128, 64, 32, 16, 8, 4, 2, 1).\n",
        "Examples\n",
        "binary(1) ➞ 1;\n",
        "# 1*1 = 1\n",
        "binary(5) ➞ 101;\n",
        "# 1*1 + 1*4 = 5\n",
        "binary(10) ➞ 1010;\n",
        "# 1*2 + 1*8 = 10\n",
        "\n",
        "b_string  = bin(5)   \n",
        "b_string =  b_string[2:]\n",
        "print(b_string)\n",
        "integer_conversion = 0 \n",
        "for idx,val in enumerate(b_string[::-1]):  \n",
        "    if ((int(val) & 1 ) == 1):           \n",
        "        integer_conversion = 1*(1<<idx)+integer_conversion \n",
        "\n",
        "print(integer_conversion)\n"
      ],
      "metadata": {
        "id": "0ioohkbAt2bY",
        "colab": {
          "base_uri": "https://localhost:8080/"
        },
        "outputId": "0c66dd1d-baa1-4ad7-823d-74c3add9ab56"
      },
      "execution_count": 84,
      "outputs": [
        {
          "output_type": "stream",
          "name": "stdout",
          "text": [
            "101\n",
            "5\n"
          ]
        }
      ]
    }
  ]
}