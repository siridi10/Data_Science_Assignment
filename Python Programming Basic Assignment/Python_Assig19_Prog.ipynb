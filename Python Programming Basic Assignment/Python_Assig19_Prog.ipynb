{
  "nbformat": 4,
  "nbformat_minor": 0,
  "metadata": {
    "colab": {
      "name": "Python_Assig19_Prog.ipynb",
      "provenance": [],
      "collapsed_sections": []
    },
    "kernelspec": {
      "name": "python3",
      "display_name": "Python 3"
    },
    "language_info": {
      "name": "python"
    }
  },
  "cells": [
    {
      "cell_type": "code",
      "source": [
        "Question1\n",
        "Create a function that takes a string and returns a string in which each character is repeated once.\n",
        "Examples\n",
        "double_char(\"String\") ➞ \"SSttrriinngg\"\n",
        "double_char(\"Hello World!\") ➞ \"HHeelllloo  WWoorrlldd!!\"\n",
        "double_char(\"1234!_ \") ➞ \"11223344!!__  \"\n",
        "\n",
        "def double_char(v):\n",
        "  s=' '\n",
        "  for i in v:\n",
        "    s=s+i+i\n",
        "  return s\n",
        "print(double_char(\"String\"))\n",
        "print(double_char(\"Hello World!\"))\n",
        "print(double_char(\"1234!_ \"))"
      ],
      "metadata": {
        "id": "0ioohkbAt2bY",
        "colab": {
          "base_uri": "https://localhost:8080/"
        },
        "outputId": "9fcc5ee6-fbd4-4c95-cb16-d5e53b41c56c"
      },
      "execution_count": 28,
      "outputs": [
        {
          "output_type": "stream",
          "name": "stdout",
          "text": [
            " SSttrriinngg\n",
            " HHeelllloo  WWoorrlldd!!\n",
            " 11223344!!__  \n"
          ]
        }
      ]
    },
    {
      "cell_type": "code",
      "execution_count": 4,
      "metadata": {
        "id": "D5sadO-CiOAx",
        "colab": {
          "base_uri": "https://localhost:8080/"
        },
        "outputId": "29fdfc8d-f264-4ec0-8f6d-254021596f87"
      },
      "outputs": [
        {
          "output_type": "stream",
          "name": "stdout",
          "text": [
            "False\n",
            "True\n",
            "boolean expected\n",
            "boolean expected\n"
          ]
        }
      ],
      "source": [
        "Question2\n",
        "Create a function that reverses a boolean value and returns the string \"boolean expected\" if another variable type is given.\n",
        "Examples\n",
        "reverse(True) ➞ False\n",
        "reverse(False) ➞ True\n",
        "reverse(0) ➞ \"boolean expected\"\n",
        "reverse(None) ➞ \"boolean expected\"\n",
        "\n",
        "def reverse(d):\n",
        "  if type(d)==bool:\n",
        "    if d==True:\n",
        "      return False\n",
        "    else: \n",
        "      return True\n",
        "  else:\n",
        "    return \"boolean expected\"\n",
        "print(reverse(True))\n",
        "print(reverse(False))\n",
        "print(reverse(0))\n",
        "print(reverse(None))"
      ]
    },
    {
      "cell_type": "code",
      "source": [
        "Question3\n",
        "Create a function that returns the thickness (in meters) of a piece of paper after folding it n number of times. The paper starts off with a thickness of 0.5mm.\n",
        "Examples\n",
        "num_layers(1) ➞ \"0.001m\"\n",
        "# Paper folded once is 1mm (equal to 0.001m)\n",
        "num_layers(4) ➞ \"0.008m\"\n",
        "# Paper folded 4 times is 8mm (equal to 0.008m)\n",
        "num_layers(21) ➞ \"1048.576m\"\n",
        "# Paper folded 21 times is 1048576mm (equal to 1048.576m)\n",
        "def num_layers(a):\n",
        "    res = 0.5\n",
        "    for _ in range(a):\n",
        "        res *= 2\n",
        "    return (res / 1000 )\n",
        "print(num_layers(1))\n",
        "print(num_layers(4))\n",
        "print(num_layers(21))"
      ],
      "metadata": {
        "id": "3YNpMEvlp5l7",
        "colab": {
          "base_uri": "https://localhost:8080/"
        },
        "outputId": "997d7d4f-3aca-4324-b01c-5b81651f1fac"
      },
      "execution_count": 36,
      "outputs": [
        {
          "output_type": "stream",
          "name": "stdout",
          "text": [
            "0.001\n",
            "0.008\n",
            "1048.576\n"
          ]
        }
      ]
    },
    {
      "cell_type": "code",
      "source": [
        "Question4\n",
        "Create a function that takes a single string as argument and returns an ordered list containing the indices of all capital letters in the string.\n",
        "Examples\n",
        "index_of_caps(\"eDaBiT\") ➞ [1, 3, 5]\n",
        "index_of_caps(\"eQuINoX\") ➞ [1, 3, 4, 6]\n",
        "index_of_caps(\"determine\") ➞ []\n",
        "index_of_caps(\"STRIKE\") ➞ [0, 1, 2, 3, 4, 5]\n",
        "index_of_caps(\"sUn\") ➞ [1]\n",
        "\n",
        "def index_of_caps(s):\n",
        "  list2=[i for i in range(len(s)) if (s[i].isupper()==True)]\n",
        "  return list2\n",
        "print(index_of_caps(\"eDaBiT\"))\n",
        "print(index_of_caps(\"eQuINoX\"))\n",
        "print(index_of_caps(\"determine\"))\n",
        "print(index_of_caps(\"STRIKE\"))\n",
        "print(index_of_caps(\"sUn\"))"
      ],
      "metadata": {
        "id": "u7O6EKlhrMW_",
        "colab": {
          "base_uri": "https://localhost:8080/"
        },
        "outputId": "306c81ee-30ea-46c8-d28a-ead636f32d48"
      },
      "execution_count": 19,
      "outputs": [
        {
          "output_type": "stream",
          "name": "stdout",
          "text": [
            "[1, 3, 5]\n",
            "[1, 3, 4, 6]\n",
            "[]\n",
            "[0, 1, 2, 3, 4, 5]\n",
            "[1]\n"
          ]
        }
      ]
    },
    {
      "cell_type": "code",
      "source": [
        "Question5\n",
        "Using list comprehensions, create a function that finds all even numbers from 1 to the given number.\n",
        "Examples\n",
        "find_even_nums(8) ➞ [2, 4, 6, 8]\n",
        "find_even_nums(4) ➞ [2, 4]\n",
        "find_even_nums(2) ➞ [2]\n",
        "\n",
        "def find_even_nums(h):\n",
        "  listl=[i for i in range (1,h+1) if(i%2==0)]\n",
        "  return listl\n",
        "print(find_even_nums(8))\n",
        "print(find_even_nums(4))\n",
        "print(find_even_nums(2))"
      ],
      "metadata": {
        "id": "jMVooa_dqkia",
        "colab": {
          "base_uri": "https://localhost:8080/"
        },
        "outputId": "5f4b71dc-0516-4b91-fd46-d0ced0da5dc3"
      },
      "execution_count": 17,
      "outputs": [
        {
          "output_type": "stream",
          "name": "stdout",
          "text": [
            "[2, 4, 6, 8]\n",
            "[2, 4]\n",
            "[2]\n"
          ]
        }
      ]
    }
  ]
}