{
  "nbformat": 4,
  "nbformat_minor": 0,
  "metadata": {
    "colab": {
      "name": "Python_Adv_Assig12_Prog.ipynb",
      "provenance": [],
      "collapsed_sections": []
    },
    "kernelspec": {
      "name": "python3",
      "display_name": "Python 3"
    },
    "language_info": {
      "name": "python"
    }
  },
  "cells": [
    {
      "cell_type": "code",
      "execution_count": 5,
      "metadata": {
        "id": "vaYRbe4LsSdX",
        "colab": {
          "base_uri": "https://localhost:8080/"
        },
        "outputId": "2ba43ced-a937-4369-f20e-d4678a6192d9"
      },
      "outputs": [
        {
          "output_type": "stream",
          "name": "stdout",
          "text": [
            "meme_sum('026', '319') --> 3315\n",
            "meme_sum('122', '081') --> 1103\n",
            "meme_sum('01222', '30277') --> 31499\n"
          ]
        }
      ],
      "source": [
        "# Q1. For this challenge, forget how to add two numbers together. The best explanation on what to do for this function is this meme:\n",
        "\n",
        "# Examples:\n",
        "# meme_sum(26, 39) ➞ 515\n",
        "# # 2+3 = 5, 6+9 = 15\n",
        "# # 26 + 39 = 515\n",
        "# meme_sum(122, 81) ➞ 1103\n",
        "# # 1+0 = 1, 2+8 = 10, 2+1 = 3\n",
        "# # 122 + 81 = 1103\n",
        "# meme_sum(1222, 30277) ➞ 31499\n",
        "\n",
        "def meme_sum(one,two):\n",
        "  one,two=str(one),str(two)\n",
        "  output=''\n",
        "  while len(one)!=len(two):\n",
        "    if len(one)<len(two):\n",
        "      one='0'+one\n",
        "    else:\n",
        "      two='0'+ two\n",
        "  for ele in range(len(one)):\n",
        "    output += str(int(one[ele])+int(two[ele]))\n",
        "  print(f'meme_sum{one,two} --> {output}')\n",
        "meme_sum(26,319)\n",
        "meme_sum(122, 81)\n",
        "meme_sum(1222, 30277)"
      ]
    },
    {
      "cell_type": "code",
      "source": [
        "# Q2. Given an integer, create a function that returns the next prime. If the number is prime, return the number itself.\n",
        "\n",
        "# Examples:\n",
        "\n",
        "# next_prime(12) ➞ 13\n",
        "# next_prime(24) ➞ 29\n",
        "# next_prime(11) ➞ 11\n",
        "# # 11 is a prime, so we return the number itself.\n",
        "\n",
        "def next_prime(num):\n",
        "  in_num=num\n",
        "  # num = 12\n",
        "  output=''\n",
        "  flag = False\n",
        "  if in_num > 1:\n",
        "      # check for factors\n",
        "      for i in range(2, in_num):\n",
        "          if (in_num % i) == 0:\n",
        "              # if factor is found, set flag to True\n",
        "              flag = True\n",
        "              num=num+1\n",
        "              # break out of loop\n",
        "              break\n",
        "  if flag:\n",
        "      # print(num, \"is not a prime number\")\n",
        "      print(f'next_prime {in_num} --> {num}')\n",
        "  else:\n",
        "      # print(num, \"is a prime number\")\n",
        "      print(f'next_prime {in_num} --> {num}')\n",
        "\n",
        "next_prime(12)\n",
        "next_prime(24)\n",
        "next_prime(11)"
      ],
      "metadata": {
        "id": "kx9QUM-Vs09H",
        "colab": {
          "base_uri": "https://localhost:8080/"
        },
        "outputId": "a1a4d319-55d4-44e3-c08d-92a39cb90690"
      },
      "execution_count": 19,
      "outputs": [
        {
          "output_type": "stream",
          "name": "stdout",
          "text": [
            "next_prime 12 --> 13\n",
            "next_prime 24 --> 25\n",
            "next_prime 11 --> 11\n"
          ]
        }
      ]
    },
    {
      "cell_type": "code",
      "source": [
        "# Q3. If a person traveled up a hill for 18mins at 20mph and then traveled back down the same path at 60mph then their average speed traveled was 30mph.\n",
        "\n",
        "# Write a function that returns the average speed traveled given an uphill time, uphill rate and a downhill rate. Uphill time is given in minutes. Return the rate as an integer (mph). No rounding is necessary.\n",
        "\n",
        "# Examples:\n",
        "\n",
        "# ave_spd(18, 20, 60) ➞ 30\n",
        "# ave_spd(30, 10, 30) ➞ 15\n",
        "# ave_spd(30, 8, 24) ➞ 12\n",
        "\n",
        "def ave_spd(up_time,up_speed,down_speed):\n",
        "    distance = up_speed*(up_time/60)\n",
        "    down_time = distance/down_speed\n",
        "    output = (2*distance)/((up_time/60)+down_time)\n",
        "    print(f'ave_spd{up_time,up_speed,down_speed} ➞ {int(output)}')\n",
        "    \n",
        "ave_spd(18, 20, 60)\n",
        "ave_spd(30, 10, 30)\n",
        "ave_spd(30, 8, 24)"
      ],
      "metadata": {
        "id": "4WRcpt7Ds1D5",
        "colab": {
          "base_uri": "https://localhost:8080/"
        },
        "outputId": "184cd5fd-eee5-4d5c-8c71-2b66e231f634"
      },
      "execution_count": 20,
      "outputs": [
        {
          "output_type": "stream",
          "name": "stdout",
          "text": [
            "ave_spd(18, 20, 60) ➞ 30\n",
            "ave_spd(30, 10, 30) ➞ 15\n",
            "ave_spd(30, 8, 24) ➞ 12\n"
          ]
        }
      ]
    },
    {
      "cell_type": "code",
      "source": [
        "# Q4. The Kempner Function, applied to a composite number, permits to find the smallest integer greater than zero whose factorial is exactly divided by the number.\n",
        "\n",
        "# kempner(6) ➞ 3\n",
        "# 1! = 1 % 6 > 0\n",
        "# 2! = 2 % 6 > 0\n",
        "# 3! = 6 % 6 === 0\n",
        "\n",
        "# kempner(10) ➞ 5\n",
        "# 1! = 1 % 10 > 0\n",
        "# 2! = 2 % 10 > 0\n",
        "# 3! = 6 % 10 > 0\n",
        "# 4! = 24 % 10 > 0\n",
        "# 5! = 120 % 10 === 0\n",
        "\n",
        "# A Kempner Function applied to a prime will always return the prime itself.\n",
        "\n",
        "# kempner(2) ➞ 2\n",
        "# kempner(5) ➞ 5\n",
        "\n",
        "# Given an integer n, implement a Kempner Function.\n",
        "\n",
        "# Examples:\n",
        "\n",
        "# kempner(6) ➞ 3\n",
        "# kempner(10) ➞ 5\n",
        "# kempner(2) ➞ 2\n",
        "\n",
        "def kempner(in_num):\n",
        "    def factorial(in_num):\n",
        "        if in_num == 1:\n",
        "            return 1\n",
        "        else:\n",
        "            return in_num * factorial(in_num-1)\n",
        "    for ele in range(1,in_num+1):\n",
        "        if factorial(ele)%in_num == 0:\n",
        "            output = ele\n",
        "            break\n",
        "    print(f'kempner({in_num}) ➞ {output}')\n",
        "            \n",
        "kempner(6)\n",
        "kempner(10)\n",
        "kempner(5)\n",
        "kempner(2)"
      ],
      "metadata": {
        "id": "qkfkJzUas1JX",
        "colab": {
          "base_uri": "https://localhost:8080/"
        },
        "outputId": "78b64009-8006-4575-ce21-6d32b92ace93"
      },
      "execution_count": 21,
      "outputs": [
        {
          "output_type": "stream",
          "name": "stdout",
          "text": [
            "kempner(6) ➞ 3\n",
            "kempner(10) ➞ 5\n",
            "kempner(5) ➞ 5\n",
            "kempner(2) ➞ 2\n"
          ]
        }
      ]
    },
    {
      "cell_type": "code",
      "source": [
        "# Q5. You work in a factory, and your job is to take items from a conveyor belt and pack them into boxes. Each box can hold a maximum of 10 kgs. Given a list containing the weight (in kg) of each item, how many boxes would you need to pack all of the items?\n",
        "# Examples:\n",
        "# boxes([2, 1, 2, 5, 4, 3, 6, 1, 1, 9, 3, 2]) ➞ 5\n",
        "# # Box 1 = [2, 1, 2, 5] (10kg)\n",
        "# # Box 2 = [4, 3] (7kg)\n",
        "# # Box 3 = [6, 1, 1] (8kg)\n",
        "# # Box 4 = [9] (9kg)\n",
        "# # Box 5 = [3, 2] (5kg)\n",
        "\n",
        "def boxes(in_list):\n",
        "    in_list_clone = in_list.copy()\n",
        "    output = []\n",
        "    temp_box = []\n",
        "    while True:\n",
        "        if len(in_list) != 0:\n",
        "            if sum(temp_box) <= 10:\n",
        "                temp_box.append(in_list.pop(0))\n",
        "            else:\n",
        "                in_list.insert(0,temp_box.pop())\n",
        "                output.append(temp_box)\n",
        "                temp_box = []\n",
        "        else:\n",
        "            output.append(temp_box)\n",
        "            temp_box = []\n",
        "            break\n",
        "    print(f'boxes({in_list_clone}) ➞ {output} ➞ {len(output)}')    \n",
        "    \n",
        "boxes([2, 1, 2, 5, 4, 3, 6, 1, 1, 9, 3, 2])\n",
        "boxes([5, 5, 5, 5, 5, 5, 2, 3, 4, 5, 6])"
      ],
      "metadata": {
        "id": "MC9t4taRs_Wu",
        "colab": {
          "base_uri": "https://localhost:8080/"
        },
        "outputId": "4884f2ba-3d9f-4662-e303-d1fdd9824d1a"
      },
      "execution_count": 1,
      "outputs": [
        {
          "output_type": "stream",
          "name": "stdout",
          "text": [
            "boxes([2, 1, 2, 5, 4, 3, 6, 1, 1, 9, 3, 2]) ➞ [[2, 1, 2, 5], [4, 3], [6, 1, 1], [9], [3, 2]] ➞ 5\n",
            "boxes([5, 5, 5, 5, 5, 5, 2, 3, 4, 5, 6]) ➞ [[5, 5], [5, 5], [5, 5], [2, 3, 4], [5, 6]] ➞ 5\n"
          ]
        }
      ]
    },
    {
      "cell_type": "code",
      "source": [
        ""
      ],
      "metadata": {
        "id": "-TVYCAjXASQa"
      },
      "execution_count": null,
      "outputs": []
    }
  ]
}