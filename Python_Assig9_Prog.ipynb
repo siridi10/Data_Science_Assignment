{
  "nbformat": 4,
  "nbformat_minor": 0,
  "metadata": {
    "colab": {
      "name": "Python_Assig9_Prog.ipynb",
      "provenance": [],
      "collapsed_sections": []
    },
    "kernelspec": {
      "name": "python3",
      "display_name": "Python 3"
    },
    "language_info": {
      "name": "python"
    }
  },
  "cells": [
    {
      "cell_type": "code",
      "execution_count": 6,
      "metadata": {
        "id": "D5sadO-CiOAx",
        "colab": {
          "base_uri": "https://localhost:8080/"
        },
        "outputId": "c82d20b6-36cf-424f-f1a8-f21ba122c115"
      },
      "outputs": [
        {
          "output_type": "stream",
          "name": "stdout",
          "text": [
            "Enter a number 1015\n",
            "1015 is not a disarium number\n"
          ]
        }
      ],
      "source": [
        "#1. Write a Python program to check if the given number is a Disarium Number? \n",
        "def calculateLength(n):    \n",
        "    length = 0;    \n",
        "    while(n != 0):    \n",
        "        length = length + 1;    \n",
        "        n = n//10;    \n",
        "    return length;\n",
        "num = int(input(\"Enter a number \"));\n",
        "rem = sum = 0;    \n",
        "len = calculateLength(num); \n",
        "n = num;    \n",
        "while(num > 0):    \n",
        "    rem = num%10;    \n",
        "    sum = sum + int(rem**len);    \n",
        "    num = num//10;    \n",
        "    len = len - 1;       \n",
        "if(sum == n):    \n",
        "    print(str(n) + \" is a disarium number\");    \n",
        "else:    \n",
        "    print(str(n) + \" is not a disarium number\");"
      ]
    },
    {
      "cell_type": "code",
      "source": [
        "# 2. Write a Python program to print all disarium numbers between 1 to 100?\n",
        "def calculateLength(n):  \n",
        "    length = 0;  \n",
        "    while(n != 0):  \n",
        "        length = length + 1;  \n",
        "        n = n//10;  \n",
        "    return length;  \n",
        "   \n",
        "def sumOfDigits(num):  \n",
        "    rem = sum = 0;  \n",
        "    len = calculateLength(num);  \n",
        "      \n",
        "    while(num > 0):  \n",
        "        rem = num%10;  \n",
        "        sum = sum + (rem**len);  \n",
        "        num = num//10;  \n",
        "        len = len - 1;  \n",
        "    return sum;  \n",
        "    \n",
        "result = 0;\n",
        "print(\"Disarium numbers between 1 and 100 are\");  \n",
        "for i in range(1, 101):  \n",
        "    result = sumOfDigits(i);  \n",
        "      \n",
        "    if(result == i):  \n",
        "        print(i,end=\" \"), "
      ],
      "metadata": {
        "colab": {
          "base_uri": "https://localhost:8080/"
        },
        "id": "3YNpMEvlp5l7",
        "outputId": "09845f60-cd90-4ce9-c197-0a77672b8e3f"
      },
      "execution_count": 8,
      "outputs": [
        {
          "output_type": "stream",
          "name": "stdout",
          "text": [
            "Disarium numbers between 1 and 100 are\n",
            "1 2 3 4 5 6 7 8 9 89 "
          ]
        }
      ]
    },
    {
      "cell_type": "code",
      "source": [
        "# 3. Write a Python program to print all Happy numbers?\n",
        "def sumDigitSquare( n):\n",
        "\tsq = 0;\n",
        "\twhile (n!=0):\n",
        "\t\tdigit = n % 10\n",
        "\t\tsq += digit * digit\n",
        "\t\tn = n // 10\n",
        "\treturn sq;\n",
        "def isHappy(n):\n",
        "\ts=set()\n",
        "\ts.add(n)\n",
        "\twhile (True):\n",
        "\t\tif (n == 1):\n",
        "\t\t\treturn True;\n",
        "\t\tn = sumDigitSquare(n)\n",
        "\t\tif n in s:\n",
        "\t\t\treturn False\n",
        "\t\ts.add(n)\n",
        "\treturn false;\n",
        "\n",
        "n = int(input(\"Enter a number \"))\n",
        "if (isHappy(n)):\n",
        "\tprint(\"Yes Happy number\")\n",
        "else:\n",
        "\tprint(\"No not a Happy number\")\n",
        "\n"
      ],
      "metadata": {
        "colab": {
          "base_uri": "https://localhost:8080/"
        },
        "id": "u7O6EKlhrMW_",
        "outputId": "5a170bf9-a9f0-42b6-bdcd-e79094b41170"
      },
      "execution_count": 17,
      "outputs": [
        {
          "output_type": "stream",
          "name": "stdout",
          "text": [
            "Enter a number 45\n",
            "No not a Happy number\n"
          ]
        }
      ]
    },
    {
      "cell_type": "code",
      "source": [
        "# 4. Write a Python program to print all Happy numbers between 1 to 100?\n",
        "def isHappyNumber(num):    \n",
        "    rem = sum = 0;   \n",
        "    while(num > 0):    \n",
        "        rem = num%10;    \n",
        "        sum = sum + (rem*rem);    \n",
        "        num = num//10;    \n",
        "    return sum;      \n",
        "print(\"List of happy numbers between 1 and 100: \");    \n",
        "for i in range(1, 101):    \n",
        "    result = i;      \n",
        "    while(result != 1 and result != 4):    \n",
        "        result = isHappyNumber(result); \n",
        "    if(result == 1):    \n",
        "        print(i,end=\" \")"
      ],
      "metadata": {
        "colab": {
          "base_uri": "https://localhost:8080/"
        },
        "id": "jMVooa_dqkia",
        "outputId": "636de625-65a5-4bc9-a530-e1da71289b20"
      },
      "execution_count": 11,
      "outputs": [
        {
          "output_type": "stream",
          "name": "stdout",
          "text": [
            "List of happy numbers between 1 and 100: \n",
            "1 7 10 13 19 23 28 31 32 44 49 68 70 79 82 86 91 94 97 100 "
          ]
        }
      ]
    },
    {
      "cell_type": "code",
      "source": [
        "# 5. Write a Python program to determine whether the given number is a Harshad Number?\n",
        "num=int(input(\"Enter a number \"))\n",
        "rem = sum = 0;\n",
        "n = num;   \n",
        "while(num > 0):    \n",
        "    rem = num%10;    \n",
        "    sum = sum + rem;    \n",
        "    num = num//10;   \n",
        "if(n%sum == 0):    \n",
        "    print(str(n) + \" is a harshad number\");    \n",
        "else:    \n",
        "    print(str(n) + \" is not a harshad number\"); "
      ],
      "metadata": {
        "colab": {
          "base_uri": "https://localhost:8080/"
        },
        "id": "0ioohkbAt2bY",
        "outputId": "b7c4776e-6448-4f4c-9f7c-ca99b9974cce"
      },
      "execution_count": 14,
      "outputs": [
        {
          "output_type": "stream",
          "name": "stdout",
          "text": [
            "Enter a number 187\n",
            "187 is not a harshad number\n"
          ]
        }
      ]
    },
    {
      "cell_type": "code",
      "source": [
        "# 6. Write a Python program to print all pronic numbers between 1 and 100?\n",
        "def PronicNumber(num):    \n",
        "    flag = False;\n",
        "    for j in range(1, num+1):\n",
        "        if((j*(j+1)) == num):    \n",
        "            flag = True;    \n",
        "            break;    \n",
        "    return flag;      \n",
        "print(\"Pronic numbers between 1 and 100: \");    \n",
        "for i in range(1, 101):    \n",
        "    if(PronicNumber(i)):    \n",
        "        print(i,end=\" \")"
      ],
      "metadata": {
        "id": "ARjVPYFpLhNi",
        "colab": {
          "base_uri": "https://localhost:8080/"
        },
        "outputId": "c61c8504-d672-481d-8b93-eb26c81af584"
      },
      "execution_count": 15,
      "outputs": [
        {
          "output_type": "stream",
          "name": "stdout",
          "text": [
            "Pronic numbers between 1 and 100: \n",
            "2 6 12 20 30 42 56 72 90 "
          ]
        }
      ]
    },
    {
      "cell_type": "code",
      "source": [
        ""
      ],
      "metadata": {
        "id": "h9UwC5gjhfKQ"
      },
      "execution_count": null,
      "outputs": []
    },
    {
      "cell_type": "code",
      "source": [
        ""
      ],
      "metadata": {
        "id": "aCVBE_rMLhkd"
      },
      "execution_count": null,
      "outputs": []
    },
    {
      "cell_type": "code",
      "source": [
        ""
      ],
      "metadata": {
        "id": "9Vfa_YXULhxZ"
      },
      "execution_count": null,
      "outputs": []
    }
  ]
}