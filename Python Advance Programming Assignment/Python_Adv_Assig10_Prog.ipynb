{
  "nbformat": 4,
  "nbformat_minor": 0,
  "metadata": {
    "colab": {
      "name": "Python_Adv_Assig10_Prog.ipynb",
      "provenance": [],
      "collapsed_sections": []
    },
    "kernelspec": {
      "name": "python3",
      "display_name": "Python 3"
    },
    "language_info": {
      "name": "python"
    }
  },
  "cells": [
    {
      "cell_type": "code",
      "execution_count": 6,
      "metadata": {
        "id": "vaYRbe4LsSdX",
        "colab": {
          "base_uri": "https://localhost:8080/"
        },
        "outputId": "497dfe2f-73f3-4e2e-8feb-903ea1398692"
      },
      "outputs": [
        {
          "output_type": "stream",
          "name": "stdout",
          "text": [
            "['####']\n",
            "['#  #']\n",
            "['#  #']\n",
            "['#  #']\n",
            "['####']\n",
            "\n",
            "['**********']\n",
            "['*        *']\n",
            "['**********']\n",
            "\n",
            "Invalid\n"
          ]
        }
      ],
      "source": [
        "# Q1. Create a function that takes the width, height and character and returns a picture frame as a 2D list.\n",
        "# Examples:\n",
        "# get_frame(4, 5, \"#\") ➞ [\n",
        "#   [\"####\"],\n",
        "#   [\"#  #\"],\n",
        "#   [\"#  #\"],\n",
        "#   [\"#  #\"],\n",
        "#   [\"####\"]\n",
        "# ]\n",
        "# # Frame is 4 characters wide and 5 characters tall.\n",
        "# get_frame(10, 3, \"*\") ➞ [\n",
        "#   [\"**********\"],\n",
        "#   [\"*        *\"],\n",
        "#   [\"**********\"]\n",
        "# ]\n",
        "# # Frame is 10 characters and wide and 3 characters tall.\n",
        "# get_frame(2, 5, \"0\") ➞ \"invalid\"\n",
        "# # Frame's width is not more than 2.\n",
        "\n",
        "def get_frame(in_width,in_height,in_character):\n",
        "    if in_width <= 2:\n",
        "        print(\"Invalid\")\n",
        "    else:\n",
        "        out_list = []\n",
        "        for height in range(in_height):\n",
        "            if height == 0 or height == in_height-1:\n",
        "                out_list.append([in_width*in_character])\n",
        "            else:\n",
        "                out_list.append([in_character+' '*(in_width-2)+in_character])\n",
        "        for ele in out_list:\n",
        "            print(ele)\n",
        "        print()\n",
        "    \n",
        "get_frame(4, 5, \"#\")\n",
        "get_frame(10, 3, \"*\")\n",
        "get_frame(2, 5, \"0\")"
      ]
    },
    {
      "cell_type": "code",
      "source": [
        "# Q2. Write three functions:\n",
        "# boolean_and\n",
        "# boolean_or\n",
        "# boolean_xor\n",
        "# These functions should evaluate a list of True and False values, starting from the leftmost element and evaluating pairwise.\n",
        "# Examples:\n",
        "# boolean_and([True, True, False, True]) ➞ False\n",
        "# [True, True, False, True] => [True, False, True] => [False, True] => False\n",
        "# boolean_or([True, True, False, False]) ➞ True\n",
        "# [True, True, False, True] => [True, False, False] => [True, False] => True\n",
        "# boolean_xor([True, True, False, False]) ➞ False\n",
        "# [True, True, False, False] => [False, False, False] => [False, False] => False\n",
        "\n",
        "def boolean_and(in_list):\n",
        "    in_list_clone = in_list.copy()\n",
        "    while len(in_list) != 1:\n",
        "        x = in_list.pop(0)\n",
        "        y = in_list.pop(0)\n",
        "        in_list.insert(0,(x and y))\n",
        "    print(f'boolean_and({in_list_clone}) ➞ {in_list[0]}')\n",
        "    \n",
        "def boolean_or(in_list):\n",
        "    in_list_clone = in_list.copy()\n",
        "    while len(in_list) != 1:\n",
        "        x = in_list.pop(0)\n",
        "        y = in_list.pop(0)\n",
        "        in_list.insert(0,(x or y))\n",
        "    print(f'boolean_or({in_list_clone}) ➞ {in_list[0]}')\n",
        "    \n",
        "def boolean_xor(in_list):\n",
        "    in_list_clone = in_list.copy()\n",
        "    while len(in_list) != 1:\n",
        "        x = in_list.pop(0)\n",
        "        y = in_list.pop(0)\n",
        "        in_list.insert(0,(x ^ y))\n",
        "    print(f'boolean_xor({in_list_clone}) ➞ {in_list[0]}')\n",
        "    \n",
        "boolean_and([True, True, False, True])\n",
        "boolean_or([True, True, False, False])\n",
        "boolean_xor([True, True, False, False])\n",
        "\n"
      ],
      "metadata": {
        "id": "kx9QUM-Vs09H",
        "colab": {
          "base_uri": "https://localhost:8080/"
        },
        "outputId": "156f0d57-9987-4f7f-f972-f45b9eef9b1c"
      },
      "execution_count": 5,
      "outputs": [
        {
          "output_type": "stream",
          "name": "stdout",
          "text": [
            "boolean_and([True, True, False, True]) ➞ False\n",
            "boolean_or([True, True, False, False]) ➞ True\n",
            "boolean_xor([True, True, False, False]) ➞ False\n"
          ]
        }
      ]
    },
    {
      "cell_type": "code",
      "source": [
        "# Q3. Create a function that creates a box based on dimension n.\n",
        "# Examples:\n",
        "# make_box(5) ➞ [\n",
        "#   \"#####\",\n",
        "#   \"#   #\",\n",
        "#   \"#   #\",\n",
        "#   \"#   #\",\n",
        "#   \"#####\"\n",
        "# ]\n",
        "# make_box(3) ➞ [\n",
        "#   \"###\",\n",
        "#   \"# #\",\n",
        "#   \"###\"\n",
        "# ]\n",
        "# make_box(2) ➞ [\n",
        "#   \"##\",\n",
        "#   \"##\"\n",
        "# ]\n",
        "\n",
        "# make_box(1) ➞ [\n",
        "#   \"#\"\n",
        "# ]\n",
        "\n",
        "def make_box(in_dimension):\n",
        "    out_list = []\n",
        "    for ele in range(in_dimension):\n",
        "        if ele == 0 or ele == in_dimension-1:\n",
        "            out_list.append('#'*in_dimension)\n",
        "        else:\n",
        "            out_list.append('#'+' '*(in_dimension-2)+'#')\n",
        "    for ele in out_list:\n",
        "        print(ele)\n",
        "    print()\n",
        "    \n",
        "make_box(5)   \n",
        "make_box(2)\n",
        "make_box(1)\n"
      ],
      "metadata": {
        "id": "4WRcpt7Ds1D5",
        "colab": {
          "base_uri": "https://localhost:8080/"
        },
        "outputId": "e88ee0dd-b283-40fb-f963-3fed1408d5fd"
      },
      "execution_count": 4,
      "outputs": [
        {
          "output_type": "stream",
          "name": "stdout",
          "text": [
            "#####\n",
            "#   #\n",
            "#   #\n",
            "#   #\n",
            "#####\n",
            "\n",
            "##\n",
            "##\n",
            "\n",
            "#\n",
            "\n"
          ]
        }
      ]
    },
    {
      "cell_type": "code",
      "source": [
        "# Q4. Given a common phrase, return False if any individual word in the phrase contains duplicate letters. Return True otherwise.\n",
        "# Examples:\n",
        "# no_duplicate_letters(\"Fortune favours the bold.\") ➞ True\n",
        "# no_duplicate_letters(\"You can lead a horse to water, but you can't make him drink.\") ➞ True\n",
        "# no_duplicate_letters(\"Look before you leap.\") ➞ False\n",
        "# # Duplicate letters in \"Look\" and \"before\".\n",
        "# no_duplicate_letters(\"An apple a day keeps the doctor away.\") ➞ False\n",
        "# # Duplicate letters in \"apple\", \"keeps\", \"doctor\", and \"away\".\n",
        "\n",
        "def no_duplicate_letters(in_string):\n",
        "    out_put = None\n",
        "    for ele in in_string.split(' '):\n",
        "        if len(ele) == len(set(ele)):\n",
        "            out_put = True\n",
        "        else:\n",
        "            out_put = False\n",
        "            break\n",
        "    print(f'no_duplicate_letters({in_string}) ➞ {out_put}')\n",
        "    \n",
        "no_duplicate_letters(\"Fortune favours the bold.\")\n",
        "no_duplicate_letters(\"You can lead a horse to water, but you can't make him drink.\")\n",
        "no_duplicate_letters(\"Look before you leap.\")\n",
        "no_duplicate_letters(\"An apple a day keeps the doctor away.\")\n"
      ],
      "metadata": {
        "id": "qkfkJzUas1JX",
        "colab": {
          "base_uri": "https://localhost:8080/"
        },
        "outputId": "7e80e825-be91-4001-e4ce-4cfb9082cf81"
      },
      "execution_count": 3,
      "outputs": [
        {
          "output_type": "stream",
          "name": "stdout",
          "text": [
            "no_duplicate_letters(Fortune favours the bold.) ➞ True\n",
            "no_duplicate_letters(You can lead a horse to water, but you can't make him drink.) ➞ True\n",
            "no_duplicate_letters(Look before you leap.) ➞ False\n",
            "no_duplicate_letters(An apple a day keeps the doctor away.) ➞ False\n"
          ]
        }
      ]
    },
    {
      "cell_type": "code",
      "source": [
        "# Q5. Write a regular expression that will match the states that voted yes to President Trump's impeachment. You must use RegEx positive lookahead.\n",
        "# Examples:\n",
        "# txt = \"Texas = no, California = yes, Florida = yes, Michigan = no\"\n",
        "# pattern = \"yourregularexpressionhere\"\n",
        "# re.findall(pattern, txt) ➞ [\"California\", \"Florida\"]\n",
        "\n",
        "import re\n",
        "txt = \"Texas = no, California = yes, Florida = yes, Michigan = no\"\n",
        "pattern = r'\\w+(?=\\s=\\syes*)'\n",
        "match = re.findall(pattern,txt)\n",
        "print(f're.findall{pattern,txt} ➞ {match}')"
      ],
      "metadata": {
        "id": "MC9t4taRs_Wu",
        "colab": {
          "base_uri": "https://localhost:8080/"
        },
        "outputId": "5f2ac003-7c30-4c4d-b51c-61b83573c224"
      },
      "execution_count": 2,
      "outputs": [
        {
          "output_type": "stream",
          "name": "stdout",
          "text": [
            "re.findall('\\\\w+(?=\\\\s=\\\\syes*)', 'Texas = no, California = yes, Florida = yes, Michigan = no') ➞ ['California', 'Florida']\n"
          ]
        }
      ]
    },
    {
      "cell_type": "code",
      "source": [
        ""
      ],
      "metadata": {
        "id": "-TVYCAjXASQa"
      },
      "execution_count": null,
      "outputs": []
    }
  ]
}