{
  "nbformat": 4,
  "nbformat_minor": 0,
  "metadata": {
    "colab": {
      "name": "Python_Assig2_Prog.ipynb",
      "provenance": [],
      "collapsed_sections": []
    },
    "kernelspec": {
      "name": "python3",
      "display_name": "Python 3"
    },
    "language_info": {
      "name": "python"
    }
  },
  "cells": [
    {
      "cell_type": "code",
      "execution_count": 28,
      "metadata": {
        "colab": {
          "base_uri": "https://localhost:8080/"
        },
        "id": "D5sadO-CiOAx",
        "outputId": "e690897d-66e0-4a7d-d8af-75c6cc1bbb25"
      },
      "outputs": [
        {
          "output_type": "stream",
          "name": "stdout",
          "text": [
            "Enter the Kilometer 15\n",
            "The milimeter is  9.320567883\n"
          ]
        }
      ],
      "source": [
        "1. Write a Python program to convert kilometers to miles?\n",
        "a=int(input(\"Enter the Kilometer \"))\n",
        "b=float(a*0.6213711922)\n",
        "\n",
        "print('The milimeter is ',b)"
      ]
    },
    {
      "cell_type": "code",
      "source": [
        "2. Write a Python program to convert Celsius to Fahrenheit?\n",
        "a=int(input(\"Enter the celsius \"))\n",
        "b=float((a*9/5)+32)\n",
        "\n",
        "print('The Fahrenheit is ',b,\"F\")"
      ],
      "metadata": {
        "colab": {
          "base_uri": "https://localhost:8080/"
        },
        "id": "ZiI4LTiqjw19",
        "outputId": "abadca4e-9965-4f21-cfc5-9144f32663f0"
      },
      "execution_count": 30,
      "outputs": [
        {
          "output_type": "stream",
          "name": "stdout",
          "text": [
            "Enter the celsius 8\n",
            "The Fahrenheit is  46.4 F\n"
          ]
        }
      ]
    },
    {
      "cell_type": "code",
      "source": [
        "3. Write a Python program to display calendar?\n",
        "import calendar\n",
        " \n",
        "yy = int(input(\"Enter the year \"))\n",
        "mm = int(input(\"Enter the month \"))\n",
        "# display the calendar\n",
        "print(calendar.month(yy, mm))"
      ],
      "metadata": {
        "colab": {
          "base_uri": "https://localhost:8080/"
        },
        "id": "iD7f_sSLnbwU",
        "outputId": "5d6d7577-2d71-49dc-c0be-7a63a90e919e"
      },
      "execution_count": 38,
      "outputs": [
        {
          "output_type": "stream",
          "name": "stdout",
          "text": [
            "Enter the year 2022\n",
            "Enter the month 5\n",
            "      May 2022\n",
            "Mo Tu We Th Fr Sa Su\n",
            "                   1\n",
            " 2  3  4  5  6  7  8\n",
            " 9 10 11 12 13 14 15\n",
            "16 17 18 19 20 21 22\n",
            "23 24 25 26 27 28 29\n",
            "30 31\n",
            "\n"
          ]
        }
      ]
    },
    {
      "cell_type": "code",
      "source": [
        "4. Write a Python program to solve quadratic equation?\n",
        "import math\n",
        "# function for finding roots  \n",
        "def findRoots(a, b, c):  \n",
        "    dis_form = b * b - 4 * a * c  \n",
        "    sqrt_val = math.sqrt(abs(dis_form))  \n",
        "    if dis_form > 0:  \n",
        "        print(\" real and different roots \")  \n",
        "        print((-b + sqrt_val) / (2 * a))  \n",
        "        print((-b - sqrt_val) / (2 * a))  \n",
        "  \n",
        "    elif dis_form == 0:  \n",
        "        print(\" real and same roots\")  \n",
        "        print(-b / (2 * a))  \n",
        "  \n",
        "  \n",
        "    else:  \n",
        "        print(\"Complex Roots\")  \n",
        "        print(- b / (2 * a), \" + i\", sqrt_val)  \n",
        "        print(- b / (2 * a), \" - i\", sqrt_val)  \n",
        "  \n",
        "  \n",
        "a = int(input('Enter a:'))  \n",
        "b = int(input('Enter b:'))  \n",
        "c = int(input('Enter c:'))  \n",
        "  \n",
        "# If a is 0, then incorrect equation  \n",
        "if a == 0:  \n",
        "    print(\"Input correct quadratic equation\")  \n",
        "  \n",
        "else:  \n",
        "    findRoots(a, b, c)  \n"
      ],
      "metadata": {
        "colab": {
          "base_uri": "https://localhost:8080/"
        },
        "id": "kLSC7KdYpONF",
        "outputId": "cc94adad-4e77-4d1a-f51f-235d94bd5008"
      },
      "execution_count": 32,
      "outputs": [
        {
          "output_type": "stream",
          "name": "stdout",
          "text": [
            "Enter a:0\n",
            "Enter b:0\n",
            "Enter c:0\n",
            "Input correct quadratic equation\n"
          ]
        }
      ]
    },
    {
      "cell_type": "code",
      "source": [
        "5.Write a Python program to swap two variables without temp variable?\n",
        "a=5\n",
        "b=10\n",
        "print(\"Before swapping\",a,b)\n",
        "a=a+b\n",
        "b=a-b\n",
        "a=a-b\n",
        "print(\"After Swapping\",a,b)"
      ],
      "metadata": {
        "colab": {
          "base_uri": "https://localhost:8080/"
        },
        "id": "wDuY1zWJoRhd",
        "outputId": "0c2259ed-3642-4f43-8348-155adb5fea5b"
      },
      "execution_count": 6,
      "outputs": [
        {
          "output_type": "stream",
          "name": "stdout",
          "text": [
            "Before swapping 5 10\n",
            "After Swapping 10 5\n"
          ]
        }
      ]
    }
  ]
}