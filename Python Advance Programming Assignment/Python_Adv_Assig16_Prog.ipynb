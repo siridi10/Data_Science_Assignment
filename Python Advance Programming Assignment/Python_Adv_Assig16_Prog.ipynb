{
  "nbformat": 4,
  "nbformat_minor": 0,
  "metadata": {
    "colab": {
      "name": "Python_Adv_Assig16_Prog.ipynb",
      "provenance": [],
      "collapsed_sections": []
    },
    "kernelspec": {
      "name": "python3",
      "display_name": "Python 3"
    },
    "language_info": {
      "name": "python"
    }
  },
  "cells": [
    {
      "cell_type": "code",
      "execution_count": 1,
      "metadata": {
        "id": "vaYRbe4LsSdX",
        "colab": {
          "base_uri": "https://localhost:8080/"
        },
        "outputId": "8f5fc301-4bbd-4a30-a6b5-b5630dd681bb"
      },
      "outputs": [
        {
          "output_type": "stream",
          "name": "stdout",
          "text": [
            "valid_rondo(ABACADAEAFAGAHAIAJA) ➞ True\n",
            "valid_rondo(ABA) ➞ True\n",
            "valid_rondo(ABBACCA) ➞ False\n",
            "valid_rondo(ACAC) ➞ False\n",
            "valid_rondo(A) ➞ False\n"
          ]
        }
      ],
      "source": [
        "# Q1. Rondo Form is a type of musical structure, in which there is a recurring theme/refrain, notated as A. Here are the rules for valid rondo forms:\n",
        "\n",
        "# Rondo forms always start and end with an A section.\n",
        "# In between the A sections, there should be contrasting sections notated as B, then C, then D, etc... No letter should be skipped.\n",
        "# There shouldn't be any repeats in the sequence (such as ABBACCA).\n",
        "# Create a function which validates whether a given string is a valid Rondo Form.\n",
        "\n",
        "# Examples:\n",
        "# valid_rondo(\"ABACADAEAFAGAHAIAJA\") ➞ True\n",
        "# valid_rondo(\"ABA\") ➞ True\n",
        "# valid_rondo(\"ABBACCA\") ➞ False\n",
        "# valid_rondo(\"ACAC\") ➞ False\n",
        "# valid_rondo(\"A\") ➞ False\n",
        "\n",
        "def valid_rondo(in_string):\n",
        "    in_string_x = in_string.replace('A','')\n",
        "    in_string_x = list(in_string_x)\n",
        "    output = False\n",
        "    if len(in_string_x) == 1:\n",
        "            output= True\n",
        "    else:\n",
        "        for ele in range(len(in_string_x)-1):\n",
        "            if ord(in_string_x[ele]) < ord(in_string_x[ele+1]):\n",
        "                output= True\n",
        "            else:\n",
        "                output = False\n",
        "                break\n",
        "    print(f\"valid_rondo({in_string}) ➞ {output}\")\n",
        "    \n",
        "valid_rondo(\"ABACADAEAFAGAHAIAJA\")\n",
        "valid_rondo(\"ABA\")\n",
        "valid_rondo(\"ABBACCA\")\n",
        "valid_rondo(\"ACAC\")\n",
        "valid_rondo(\"A\")\n"
      ]
    },
    {
      "cell_type": "code",
      "source": [
        "# Q2. Create a function that returns the whole of the first sentence which contains a specific word. Include the full stop at the end of the sentence.\n",
        "\n",
        "# Examples:\n",
        "# txt = \"I have a cat. I have a mat. Things are going swell.\"\n",
        "# sentence_searcher(txt, \"have\") ➞ \"I have a cat.\"\n",
        "# sentence_searcher(txt, \"MAT\") ➞ \"I have a mat.\"\n",
        "# sentence_searcher(txt, \"things\") ➞ \"Things are going swell.\"\n",
        "# sentence_searcher(txt, \"flat\") ➞ \"\"\n",
        "\n",
        "def sentence_searcher(in_string, search_text):\n",
        "    output = '\"\"'\n",
        "    for ele in in_string.split(\". \"):\n",
        "        if len(ele.lower().replace(search_text.lower(),'')) != len(ele):\n",
        "            output = ele\n",
        "            break\n",
        "    print(f'sentence_searcher{in_string,search_text} ➞ {output}')\n",
        "\n",
        "txt = \"I have a cat. I have a mat. Things are going swell.\"\n",
        "\n",
        "sentence_searcher(txt, \"have\")\n",
        "sentence_searcher(txt, \"MAT\")\n",
        "sentence_searcher(txt, \"are\")\n",
        "sentence_searcher(txt, \"flat\")"
      ],
      "metadata": {
        "id": "kx9QUM-Vs09H",
        "colab": {
          "base_uri": "https://localhost:8080/"
        },
        "outputId": "2117c509-f3cb-4238-af24-76f58b7b0e55"
      },
      "execution_count": 4,
      "outputs": [
        {
          "output_type": "stream",
          "name": "stdout",
          "text": [
            "sentence_searcher('I have a cat. I have a mat. Things are going swell.', 'have') ➞ I have a cat\n",
            "sentence_searcher('I have a cat. I have a mat. Things are going swell.', 'MAT') ➞ I have a mat\n",
            "sentence_searcher('I have a cat. I have a mat. Things are going swell.', 'are') ➞ Things are going swell.\n",
            "sentence_searcher('I have a cat. I have a mat. Things are going swell.', 'flat') ➞ \"\"\n"
          ]
        }
      ]
    },
    {
      "cell_type": "code",
      "source": [
        "# Q3. Given a number, find the \"round \"of each digit of the number. An integer is called \"round\" if all its digits except the leftmost (most significant) are equal to zero.\n",
        "\n",
        "# - Round numbers: 4000, 1, 9, 800, 90\n",
        "# - Not round numbers: 110, 707, 222, 1001\n",
        "\n",
        "# Create a function that takes a number and returns the \"round\" of each digit (except if the digit is zero) as a string. Check out the following examples for more clarification.\n",
        "# Examples:\n",
        "# sum_round(101) ➞ \"1 100\"\n",
        "# sum_round(1234) ➞ \"4 30 200 1000\"\n",
        "# sum_round(54210) ➞ \"10 200 4000 50000\"\n",
        "\n",
        "def sum_round(in_num):\n",
        "    output = []\n",
        "    in_num = str(in_num)\n",
        "    for ele in range(len(in_num)):\n",
        "        if in_num[ele] != '0':\n",
        "            output.append(in_num[ele]+len(in_num[ele+1:])*'0')\n",
        "    print(f'sum_round({in_num}) ➞ {\" \".join(output[::-1])}')\n",
        "        \n",
        "sum_round(101)\n",
        "sum_round(1234)\n",
        "sum_round(54210)\n"
      ],
      "metadata": {
        "id": "4WRcpt7Ds1D5",
        "colab": {
          "base_uri": "https://localhost:8080/"
        },
        "outputId": "f9245d43-f10b-4d5b-b092-e8470b852610"
      },
      "execution_count": 5,
      "outputs": [
        {
          "output_type": "stream",
          "name": "stdout",
          "text": [
            "sum_round(101) ➞ 1 100\n",
            "sum_round(1234) ➞ 4 30 200 1000\n",
            "sum_round(54210) ➞ 10 200 4000 50000\n"
          ]
        }
      ]
    },
    {
      "cell_type": "code",
      "source": [
        "# Q4. Your task, is to create N x N multiplication table, of size n provided in parameter. For example, when n is 5, the multiplication table is:\n",
        "\n",
        "# 1, 2, 3, 4, 5\n",
        "# 2, 4, 6, 8, 10\n",
        "# 3, 6, 9, 12, 15\n",
        "# 4, 8, 12, 16, 20\n",
        "# 5, 10, 15, 20, 25\n",
        "# This example will result in:[[1, 2, 3, 4, 5], [2, 4, 6, 8, 10], [3, 6, 9, 12, 15], [4, 8, 12, 16, 20], [5, 10, 15, 20, 25]]\n",
        "\n",
        "# Examples:\n",
        "\n",
        "# multiplication_table(1) ➞ [[1]]\n",
        "# multiplication_table(3) ➞ [[1, 2, 3], [2, 4, 6], [3, 6, 9]]\n",
        "\n",
        "def multiplication_table(in_num):\n",
        "    out_list =[]\n",
        "    for a in range(1,in_num+1):\n",
        "        temp_list = []\n",
        "        for b in range(1,in_num+1):\n",
        "            temp_list.append(a*b)\n",
        "        out_list.append(temp_list)\n",
        "    print(f'multiplication_table({in_num}) ➞ {out_list}')\n",
        "        \n",
        "multiplication_table(3) \n",
        "multiplication_table(1)\n",
        "multiplication_table(5)\n"
      ],
      "metadata": {
        "id": "qkfkJzUas1JX",
        "colab": {
          "base_uri": "https://localhost:8080/"
        },
        "outputId": "a4755cba-7b81-4d28-f122-3a1c87dbae38"
      },
      "execution_count": 6,
      "outputs": [
        {
          "output_type": "stream",
          "name": "stdout",
          "text": [
            "multiplication_table(3) ➞ [[1, 2, 3], [2, 4, 6], [3, 6, 9]]\n",
            "multiplication_table(1) ➞ [[1]]\n",
            "multiplication_table(5) ➞ [[1, 2, 3, 4, 5], [2, 4, 6, 8, 10], [3, 6, 9, 12, 15], [4, 8, 12, 16, 20], [5, 10, 15, 20, 25]]\n"
          ]
        }
      ]
    },
    {
      "cell_type": "code",
      "source": [
        "# Q5. Create a function that returns True if two lines rhyme and False otherwise. For the purposes of this exercise, two lines rhyme if the last word from each sentence contains the same vowels.\n",
        "\n",
        "# Examples:\n",
        "\n",
        "# does_rhyme(\"Sam I am!\", \"Green eggs and ham.\") ➞ True\n",
        "# does_rhyme(\"Sam I am!\", \"Green eggs and HAM.\") ➞ True\n",
        "# does_rhyme(\"You are off to the races\", \"a splendid day.\") ➞ False\n",
        "# does_rhyme(\"and frequently do?\", \"you gotta move.\") ➞ False\n",
        "\n",
        "def does_rhyme(in_one,in_two):\n",
        "    vowels = 'aeiou'\n",
        "    output= False\n",
        "    in_one_rhyme = [x.lower() for x in in_one.split(\" \")[-1] if x.lower() in vowels]\n",
        "    in_two_rhyme = [x.lower() for x in in_two.split(\" \")[-1] if x.lower() in vowels]\n",
        "    if in_one_rhyme == in_two_rhyme:\n",
        "        output = True\n",
        "    print(f'does_rhyme{in_one,in_two} ➞ {output}')\n",
        "    \n",
        "does_rhyme(\"Sam I am!\", \"Green eggs and ham.\")\n",
        "does_rhyme(\"Sam I am!\", \"Green eggs and HAM.\")\n",
        "does_rhyme(\"You are off to the races\", \"a splendid day.\")\n",
        "does_rhyme(\"and frequently do?\", \"you gotta move.\")\n"
      ],
      "metadata": {
        "id": "MC9t4taRs_Wu",
        "colab": {
          "base_uri": "https://localhost:8080/"
        },
        "outputId": "bca83f40-e3a6-417e-a16b-35024223c16b"
      },
      "execution_count": 7,
      "outputs": [
        {
          "output_type": "stream",
          "name": "stdout",
          "text": [
            "does_rhyme('Sam I am!', 'Green eggs and ham.') ➞ True\n",
            "does_rhyme('Sam I am!', 'Green eggs and HAM.') ➞ True\n",
            "does_rhyme('You are off to the races', 'a splendid day.') ➞ False\n",
            "does_rhyme('and frequently do?', 'you gotta move.') ➞ False\n"
          ]
        }
      ]
    },
    {
      "cell_type": "code",
      "source": [
        ""
      ],
      "metadata": {
        "id": "-TVYCAjXASQa"
      },
      "execution_count": null,
      "outputs": []
    }
  ]
}