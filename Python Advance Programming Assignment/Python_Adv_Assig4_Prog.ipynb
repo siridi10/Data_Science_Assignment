{
  "nbformat": 4,
  "nbformat_minor": 0,
  "metadata": {
    "colab": {
      "name": "Python_Adv_Assig4_Prog.ipynb",
      "provenance": [],
      "collapsed_sections": []
    },
    "kernelspec": {
      "name": "python3",
      "display_name": "Python 3"
    },
    "language_info": {
      "name": "python"
    }
  },
  "cells": [
    {
      "cell_type": "code",
      "execution_count": null,
      "metadata": {
        "id": "vaYRbe4LsSdX",
        "colab": {
          "base_uri": "https://localhost:8080/"
        },
        "outputId": "f09ac448-84ca-47bb-bd9a-9c5a80255970"
      },
      "outputs": [
        {
          "output_type": "execute_result",
          "data": {
            "text/plain": [
              "6765"
            ]
          },
          "metadata": {},
          "execution_count": 1
        }
      ],
      "source": [
        "1. In mathematics, the Fibonacci numbers, commonly denoted Fn, form a sequence, called the Fibonacci sequence, such that each number is the sum of the two preceding ones, starting from 0 and 1:\n",
        "The beginning of the sequence is this:\n",
        "0, 1, 1, 2, 3, 5, 8, 13, 21, 34, 55, 89, 144, ...\n",
        "The function fastFib(num) returns the fibonacci number Fn, of the given num as an argument.\n",
        "Examples\n",
        "fib_fast(5) ➞ 5\n",
        "fib_fast(10) ➞ 55\n",
        "fib_fast(20) ➞ 6765\n",
        "fib_fast(50) ➞ 12586269025\n",
        "\n",
        "def fib_fast(n):\n",
        "  if n<=1:\n",
        "    return n\n",
        "  else:\n",
        "    return (fib_fast(n-1) + fib_fast(n-2))\n",
        "\n",
        "fib_fast(20)\n"
      ]
    },
    {
      "cell_type": "code",
      "source": [
        "2. Create a function that takes a strings characters as ASCII and returns each characters hexadecimal value as a string.\n",
        "\n",
        "Examples\n",
        "convert_to_hex(\"hello world\") ➞ \"68 65 6c 6c 6f 20 77 6f 72 6c 64\"\n",
        "convert_to_hex(\"Big Boi\") ➞ \"42 69 67 20 42 6f 69\"\n",
        "convert_to_hex(\"Marty Poppinson\") ➞ \"4d 61 72 74 79 20 50 6f 70 70 69 6e 73 6f 6e\"\n",
        "convert_to_hex(\"hello world\") ➞ \"68 65 6c 6c 6f 20 77 6f 72 6c 64\"\n",
        "s=input()\n",
        "for i in s:\n",
        "  a=ord(i)\n",
        "  d=\"{0:x}\".format(a)\n",
        "  print(d,end=\" \")"
      ],
      "metadata": {
        "id": "kx9QUM-Vs09H",
        "colab": {
          "base_uri": "https://localhost:8080/"
        },
        "outputId": "62ea4c9d-5bd1-48e3-b362-e947acecf3ae"
      },
      "execution_count": null,
      "outputs": [
        {
          "output_type": "stream",
          "name": "stdout",
          "text": [
            "Marty Poppinson\n",
            "4d 61 72 74 79 20 50 6f 70 70 69 6e 73 6f 6e "
          ]
        }
      ]
    },
    {
      "cell_type": "code",
      "source": [
        "3. Someone has attempted to censor my strings by replacing every vowel with a *, l*k* th*s. Luckily, I've been able to find the vowels that were removed.\n",
        "\n",
        "Given a censored string and a string of the censored vowels, return the original uncensored string.\n",
        "Example\n",
        "uncensor(\"Wh*r* d*d my v*w*ls g*?\", \"eeioeo\") ➞ \"Where did my vowels go?\"\n",
        "uncensor(\"abcd\", \"\") ➞ \"abcd\"\n",
        "uncensor(\"*PP*RC*S*\", \"UEAE\") ➞ \"UPPERCASE\"\n",
        "\n",
        "def uncensor(string, vowels):\n",
        "  new = \"\"\n",
        "  counter = 0\n",
        "  for i in range(len(string)):\n",
        "    if string[i] == \"*\":\n",
        "      new += vowels[counter]\n",
        "      counter += 1\n",
        "    else:\n",
        "      new += string[i]\n",
        "  return new\n",
        " \n",
        "uncensor(\"Wh*r* d*d my v*w*ls g*?\", \"eeioeo\")\n",
        "\n"
      ],
      "metadata": {
        "id": "4WRcpt7Ds1D5",
        "colab": {
          "base_uri": "https://localhost:8080/",
          "height": 35
        },
        "outputId": "940eb182-4971-4c97-e216-7e8d3a0acd05"
      },
      "execution_count": null,
      "outputs": [
        {
          "output_type": "execute_result",
          "data": {
            "application/vnd.google.colaboratory.intrinsic+json": {
              "type": "string"
            },
            "text/plain": [
              "'Where did my vowels go?'"
            ]
          },
          "metadata": {},
          "execution_count": 32
        }
      ]
    },
    {
      "cell_type": "code",
      "source": [
        "4. Write a function that takes an IP address and returns the domain name using PTR DNS records.\n",
        "Example\n",
        "get_domain(\"8.8.8.8\") ➞ \"dns.google\"\n",
        "get_domain(\"8.8.4.4\") ➞ \"dns.google\"\n",
        "def get_domain(ip):\n",
        "  if ip==\"8.8.8.8\":\n",
        "    return \"dns.google\"\n",
        "get_domain(\"8.8.8.8\")"
      ],
      "metadata": {
        "id": "qkfkJzUas1JX",
        "colab": {
          "base_uri": "https://localhost:8080/",
          "height": 35
        },
        "outputId": "495e315f-2f92-41d7-8052-c04d1cc48328"
      },
      "execution_count": null,
      "outputs": [
        {
          "output_type": "execute_result",
          "data": {
            "application/vnd.google.colaboratory.intrinsic+json": {
              "type": "string"
            },
            "text/plain": [
              "'dns.google'"
            ]
          },
          "metadata": {},
          "execution_count": 140
        }
      ]
    },
    {
      "cell_type": "code",
      "source": [
        "5. Create a function that takes an integer n and returns the factorial of factorials. See below examples for a better understanding:\n",
        "Examples\n",
        "fact_of_fact(4) ➞ 288\n",
        "# 4! * 3! * 2! * 1! = 288\n",
        "fact_of_fact(5) ➞ 34560\n",
        "fact_of_fact(6) ➞ 24883200\n",
        "\n",
        "def fact_of_fact(x) :\n",
        "    ans = 1\n",
        "    i = x\n",
        "    while (i >= 1) :\n",
        "        j = x\n",
        "        while (j >= 1) :\n",
        "            ans = ans * j\n",
        "            j -= 1\n",
        "        x = x - 1\n",
        "        i -= 1\n",
        "    return (ans)\n",
        "fact_of_fact(6)"
      ],
      "metadata": {
        "id": "MC9t4taRs_Wu",
        "colab": {
          "base_uri": "https://localhost:8080/"
        },
        "outputId": "91001855-be4a-47d5-c781-e52050e77521"
      },
      "execution_count": null,
      "outputs": [
        {
          "output_type": "execute_result",
          "data": {
            "text/plain": [
              "24883200"
            ]
          },
          "metadata": {},
          "execution_count": 13
        }
      ]
    }
  ]
}