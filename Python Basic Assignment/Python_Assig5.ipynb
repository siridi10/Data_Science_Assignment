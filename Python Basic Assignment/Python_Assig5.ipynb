{
  "nbformat": 4,
  "nbformat_minor": 0,
  "metadata": {
    "colab": {
      "name": "Python_Assig5.ipynb",
      "provenance": []
    },
    "kernelspec": {
      "name": "python3",
      "display_name": "Python 3"
    },
    "language_info": {
      "name": "python"
    }
  },
  "cells": [
    {
      "cell_type": "code",
      "execution_count": null,
      "metadata": {
        "id": "o5dFwMwLr0Gn"
      },
      "outputs": [],
      "source": [
        "1. What does an empty dictionary's code look like?\n",
        "d={}"
      ]
    },
    {
      "cell_type": "code",
      "source": [
        "2. What is the value of a dictionary value with the key 'foo' and the value 42?\n",
        "42"
      ],
      "metadata": {
        "id": "ZJsMuVLcsnsU"
      },
      "execution_count": null,
      "outputs": []
    },
    {
      "cell_type": "code",
      "source": [
        "3. What is the most significant distinction between a dictionary and a list?\n",
        "The most significant distinction is that items in dictionaries are accessed via keys and not via their position.\n",
        "In list we can access the items by index numbers."
      ],
      "metadata": {
        "id": "cQdFncK4snub"
      },
      "execution_count": null,
      "outputs": []
    },
    {
      "cell_type": "code",
      "source": [
        "4. What happens if you try to access spam['foo'] if spam is {'bar': 100}?\n",
        "There is no difference. The in operator checks whether a value exists as a key in the dictionary."
      ],
      "metadata": {
        "id": "tZocwhHCsnxf"
      },
      "execution_count": null,
      "outputs": []
    },
    {
      "cell_type": "code",
      "source": [
        "5. If a dictionary is stored in spam, what is the difference between the expressions 'cat' in spam and 'cat' in spam.keys()?\n",
        "no difference\n",
        "'cat' in spam checks whether there is a 'cat' key in the dictionary, while 'cat' in spam. keys() checks whether there is a value 'cat' for one of the keys in spam"
      ],
      "metadata": {
        "id": "xjIYnPuOsnz5"
      },
      "execution_count": null,
      "outputs": []
    },
    {
      "cell_type": "code",
      "source": [
        "6. If a dictionary is stored in spam, what is the difference between the expressions 'cat' in spam and 'cat' in spam.values()?\n",
        "no difference \n",
        "'cat' in spam checks whether there is a 'cat' key in the dictionary, while 'cat' in spam. values() checks whether there is a value 'cat' for one of the keys in spam "
      ],
      "metadata": {
        "id": "MVshh9_fsn3z"
      },
      "execution_count": null,
      "outputs": []
    },
    {
      "cell_type": "code",
      "source": [
        "7. What is a shortcut for the following code?\n",
        "if 'color' not in spam:\n",
        "spam['color'] = 'black'\n",
        "\n",
        "spam.setdefault('color', 'black')"
      ],
      "metadata": {
        "id": "OK--dKFzsn-8"
      },
      "execution_count": null,
      "outputs": []
    },
    {
      "cell_type": "code",
      "source": [
        "8. How do you \"pretty print\" dictionary values using which module and function?\n",
        "\n",
        "pprint.pprint()"
      ],
      "metadata": {
        "colab": {
          "base_uri": "https://localhost:8080/"
        },
        "id": "KhcFoc9BsoAh",
        "outputId": "d2e0adb2-ea7c-4c5e-d6ff-cab7db7a9240"
      },
      "execution_count": 1,
      "outputs": [
        {
          "output_type": "stream",
          "name": "stdout",
          "text": [
            "Object `function` not found.\n"
          ]
        }
      ]
    }
  ]
}