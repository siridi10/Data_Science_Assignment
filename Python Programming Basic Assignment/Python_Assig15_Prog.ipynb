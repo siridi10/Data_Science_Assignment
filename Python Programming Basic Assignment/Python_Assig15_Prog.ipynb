{
  "nbformat": 4,
  "nbformat_minor": 0,
  "metadata": {
    "colab": {
      "name": "Python_Assig15_Prog.ipynb",
      "provenance": [],
      "collapsed_sections": []
    },
    "kernelspec": {
      "name": "python3",
      "display_name": "Python 3"
    },
    "language_info": {
      "name": "python"
    }
  },
  "cells": [
    {
      "cell_type": "code",
      "execution_count": 57,
      "metadata": {
        "id": "D5sadO-CiOAx",
        "colab": {
          "base_uri": "https://localhost:8080/"
        },
        "outputId": "5b508ca2-675f-4c9f-bb52-6bea729ecf13"
      },
      "outputs": [
        {
          "output_type": "stream",
          "name": "stdout",
          "text": [
            "100\n",
            "0,35,70\n"
          ]
        }
      ],
      "source": [
        "Question 1:\n",
        "Please write a program using generator to print the numbers which can be divisible by 5 and 7 between 0 and n in comma separated form while n is input by console.\n",
        "Example:\n",
        "If the following n is given as input to the program:\n",
        "100\n",
        "Then, the output of the program should be:\n",
        "0,35,70\n",
        "\n",
        "def generate(n):\n",
        "    for i in range(n+1):\n",
        "        if i % 35 == 0:    # 5*7 = 35, if a number is divisible by a & b then it is also divisible by a*b\n",
        "            yield i\n",
        "\n",
        "n = int(input())\n",
        "res = [str(i) for i in generate(n)]\n",
        "print(\",\".join(res))"
      ]
    },
    {
      "cell_type": "code",
      "source": [
        "Question 2:\n",
        "Please write a program using generator to print the even numbers between 0 and n in comma separated form while n is input by console.\n",
        "Example:\n",
        "If the following n is given as input to the program:\n",
        "10\n",
        "Then, the output of the program should be:\n",
        "0,2,4,6,8,10\n",
        "\n",
        "def generate(n):\n",
        "    for i in range(n+1):\n",
        "        if i % 2 == 0:    # 5*7 = 35, if a number is divisible by a & b then it is also divisible by a*b\n",
        "            yield i\n",
        "\n",
        "n = int(input())\n",
        "res = [str(i) for i in generate(n)]\n",
        "print(\",\".join(res))\n"
      ],
      "metadata": {
        "id": "3YNpMEvlp5l7",
        "colab": {
          "base_uri": "https://localhost:8080/"
        },
        "outputId": "dfd8e3a1-fbde-410f-88a5-70c58dea6358"
      },
      "execution_count": 58,
      "outputs": [
        {
          "output_type": "stream",
          "name": "stdout",
          "text": [
            "10\n",
            "0,2,4,6,8,10\n"
          ]
        }
      ]
    },
    {
      "cell_type": "code",
      "source": [
        "Question 3:\n",
        "The Fibonacci Sequence is computed based on the following formula:\n",
        "f(n)=0 if n=0\n",
        "f(n)=1 if n=1\n",
        "f(n)=f(n-1)+f(n-2) if n>1\n",
        "Please write a program using list comprehension to print the Fibonacci Sequence in comma separated form with a given n input by console.\n",
        "Example:\n",
        "If the following n is given as input to the program:\n",
        "7\n",
        "\n",
        "Then, the output of the program should be:\n",
        "0,1,1,2,3,5,8,13\n",
        "\n",
        "def f(n):\n",
        "    if n < 2:\n",
        "        fibo[n] = n\n",
        "        return fibo[n]\n",
        "    fibo[n] = f(n-1) + f(n-2)\n",
        "    return fibo[n]\n",
        "\n",
        "n = int(input())\n",
        "fibo = [0]*(n+1)  \n",
        "f(n)              \n",
        "fibo = [str(i) for i in fibo]   \n",
        "ans = \",\".join(fibo)\n",
        "print(ans)"
      ],
      "metadata": {
        "id": "u7O6EKlhrMW_",
        "colab": {
          "base_uri": "https://localhost:8080/"
        },
        "outputId": "afd2ce68-d2df-46aa-afd2-4c294858432d"
      },
      "execution_count": 55,
      "outputs": [
        {
          "output_type": "stream",
          "name": "stdout",
          "text": [
            "7\n",
            "0,1,1,2,3,5,8,13\n"
          ]
        }
      ]
    },
    {
      "cell_type": "code",
      "source": [
        "Question 4:\n",
        "Assuming that we have some email addresses in the \"username@companyname.com\" format, please write program to print the user name of a given email address. Both user names and company names are composed of letters only.\n",
        "Example:\n",
        "If the following email address is given as input to the program:\n",
        "john@google.com\n",
        "Then, the output of the program should be:\n",
        "john\n",
        "import re\n",
        "email = \"john@google.com elise@python.com\"\n",
        "pattern = \"\\w+@(\\w+).com\"\n",
        "ans = re.findall(pattern,email)\n",
        "print(ans)\n"
      ],
      "metadata": {
        "id": "jMVooa_dqkia",
        "colab": {
          "base_uri": "https://localhost:8080/"
        },
        "outputId": "f892e462-edb5-4dea-b263-ad009ed5534e"
      },
      "execution_count": 53,
      "outputs": [
        {
          "output_type": "stream",
          "name": "stdout",
          "text": [
            "['google', 'python']\n"
          ]
        }
      ]
    },
    {
      "cell_type": "code",
      "source": [
        "Question 5:\n",
        "Define a class named Shape and its subclass Square. The Square class has an init function which takes a length as argument. Both classes have a area function which can print the area of the shape where Shape's area is 0 by default.\n",
        "\n",
        "class Shape():\n",
        "    def __init__(self):\n",
        "        pass\n",
        "    def area(self):\n",
        "        return 0\n",
        "class Square(Shape):\n",
        "    def __init__(self,length = 0):\n",
        "        Shape.__init__(self)\n",
        "        self.length = length\n",
        "    def area(self):\n",
        "        return self.length*self.length\n",
        "Asqr = Square(5)\n",
        "print(Asqr.area())      \n",
        "print(Square().area())"
      ],
      "metadata": {
        "id": "0ioohkbAt2bY",
        "colab": {
          "base_uri": "https://localhost:8080/"
        },
        "outputId": "6b5954a4-ef8c-490c-a7f0-0d8a7ff49187"
      },
      "execution_count": 46,
      "outputs": [
        {
          "output_type": "stream",
          "name": "stdout",
          "text": [
            "25\n",
            "0\n"
          ]
        }
      ]
    }
  ]
}