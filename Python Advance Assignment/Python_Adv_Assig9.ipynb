{
  "nbformat": 4,
  "nbformat_minor": 0,
  "metadata": {
    "colab": {
      "name": "Python_Adv_Assig9.ipynb",
      "provenance": []
    },
    "kernelspec": {
      "name": "python3",
      "display_name": "Python 3"
    },
    "language_info": {
      "name": "python"
    }
  },
  "cells": [
    {
      "cell_type": "code",
      "execution_count": null,
      "metadata": {
        "id": "OUuNxFb4sssz"
      },
      "outputs": [],
      "source": [
        "Q1. In Python 3.X, what are the names and functions of string object types?\n",
        "\n",
        "The following are the names and functions of string object types in Python 3.X\n",
        "\n",
        "<stirng>.isdecimal() -> Returns True if all characters in a string are decimal.\n",
        "<string>.isalnum() -> Returns True if all characters in the string are AlphaNumeric.\n",
        "<string>.istitle() -> Returns True if first character in a string is in Uppercase.\n",
        "<string>.partition(<sub_string>) -> Splits string at first occurance of sub string and returns a tuple of 3 elements.\n",
        "<string>.rpartition(<sub_string>) -> Splits string at last occurance of sub string and returns a tuple of 3 elements.\n",
        "<string>.isidentifier() -> Returns True if give string is a valid identifier name.\n",
        "len(<string>) -> Returns the length of the given string.\n",
        "<string>.index(<sub_string>) -> Returns the lowest index of substring if substring is found in the string.\n",
        "<string>.rindex(<sub_string>) -> Returns the highest index of substring if substring is found in the string.\n",
        "max(<string>) -> Returns the highest Alphabetical Character in the string as per ASCII.\n",
        "min(<string>) -> Returns the lowest Alphabetical Character in the string as per ASCII.\n",
        "<string>.splitlines() -> Returns a list of lines in the string.\n",
        "<string>.capitalize() -> Returns the string with first character capitalized.\n",
        "<string>.upper() -> Returns the string with all characters in uppercase.\n",
        "<string>.lower() -> Returns the string with all characters in lowercase\n",
        "<string>.casefold() -> Returns the string in lowercase which can be used for caseless comparisions.\n",
        "<string>.expandtabs(no_of_spaces) -> Replaces tabs in a string with specified no of spaces default is 8\n",
        "<string>.find(<sub_string>) -> Returns lowest index of substring if substring is found in the string else returns -1.\n",
        "<string>.rfind(<sub_string>) -> Returns highest index of substring if substring is found in the string else returns -1.\n",
        "<string>.count(<char>) -> Returns the no of occurances of the char in the given string.\n",
        "<string>.split(<sep>) -> Returns list of words seperated by given sep else seperated by whitespace.\n",
        "<string>.rsplit(<sep>) -> Returns list of words seperated by given sep else seperated by whitespace scanning from end.\n",
        "<string>.lstrip() -> Returns a copy of where leading whitespaces are removed.\n",
        "<string>.rstrip() -> Returns a copy of where trailed whitespaces are removed.\n",
        "<string>.strip() -> Returns a copy of where both leading and trailing whitespaces are removed.\n",
        "<string>.swapcase() -> Swaps lowercase characters with uppercase and vice versa.\n",
        "<sep>.join(<list>) -> Concatenates a list or tuple of words with intervening occuernces of sep.\n",
        "<string>.translate(<mapping_table>) -> translates the characters using table.\n",
        "<string>.maketrans(<dict>) -> Creating a mapping translation tbale usable for <string>.translate(<mapping_table>)\n",
        "<string>.replace(<char_1>,<char_2>) -> Replace all occurances of char_1 with char_2 in string.\n",
        "<string>.encode() -> Encodes string into any encoding supported by python. Default encoding is UTF-8.\n",
        "<string>.ljust(<no_of_spaces>) -> Left-justify in a field of given width.\n",
        "<string>.rjust(<no_of_spaces>) -> Right-justify in a field of given width.\n",
        "<string>.center(<no_of_spaces>) -> Center-justify in a field of given width.\n",
        "<stirng>.zfill(<length>) -> Zfill adds zeros to the begining of string until the specified length is reached."
      ]
    },
    {
      "cell_type": "code",
      "source": [
        "Q2. How do the string forms in Python 3.X vary in terms of operations?\n",
        "In Python3 default format of strings is Unicode Whereas in Pyton2 we need to explicitly mention Unicode value using u.\n"
      ],
      "metadata": {
        "id": "Yb7yWcmbtIF0"
      },
      "execution_count": null,
      "outputs": []
    },
    {
      "cell_type": "code",
      "source": [
        "Q3. In Python 3.X, how do you put non-ASCII Unicode characters in a string?\n",
        "\n",
        "Solution :- In Python 3.x unidecode() method from unidecode library can be used to put non-ASCII Unicode Characters in a string.\n",
        "\n"
      ],
      "metadata": {
        "id": "6LcMFaldtIIt"
      },
      "execution_count": null,
      "outputs": []
    },
    {
      "cell_type": "code",
      "source": [
        "Q4. In Python 3.X, what are the key differences between text-mode and binary-mode files?\n",
        "\n",
        "The major difference between these two is that a text file contains textual information in the form of alphabets, digits and special characters or symbols. On the other hand, a binary file contains bytes or a compiled version of a text file.\n",
        "\n",
        "When a file is opened in text mode, reading its data automatically decodes its content (as per the platform default or as per provided encoding), and returns it as a str; writing operation takes a str, and automatically encodes it before transferring to the file. Text mode files also support universal end-of-line translation, and encoding specification arguments.\n",
        "\n",
        "When a file is opened in binary mode by adding a b to the mode string argument in the open() call, reading its data does not decode it in any way, and simply returns its content raw and unchanged, as a bytes object; writing takes a bytes object and transfers it to the file unchanged. Binary-mode files also accept a bytearray object for the content to be written to the file.\n",
        "\n"
      ],
      "metadata": {
        "id": "fD0djZuBtIKx"
      },
      "execution_count": null,
      "outputs": []
    },
    {
      "cell_type": "code",
      "source": [
        "Q5. How can you interpret a Unicode text file containing text encoded in a different encoding than your platform's default?\n",
        "\n",
        "Solution :- Use of encode() and decode() method can be used to you interpret a Unicode text file containing text encoded in a different encoding than your platform's default, by default encoding parameter is UTF-8\n",
        "\n"
      ],
      "metadata": {
        "id": "6MGgCQ2StINa"
      },
      "execution_count": null,
      "outputs": []
    },
    {
      "cell_type": "code",
      "source": [
        "Q6. What is the best way to make a Unicode text file in a particular encoding format? \n",
        "Use str.encode() and file.write() to make a Unicode text file in a particular encoding format, default encoding format is UTF-18.\n",
        "\n",
        "Call str.encode(encoding) with encoding set to utf8 to encode str.\n",
        "Call open(file, mode) to open a file with mode set to wb . wb writes to files in binary mode & preserves UTF-8format.\n",
        "Call file.write(data) to write data to the file.\n"
      ],
      "metadata": {
        "id": "XzpVYa2haG1c"
      },
      "execution_count": null,
      "outputs": []
    },
    {
      "cell_type": "code",
      "source": [
        "Q7. What qualifies ASCII text as a form of Unicode text?\n",
        "Unicode represents most written languages in the world. ASCII has its equivalent in Unicode. The difference between ASCII and Unicode is that ASCII represents lowercase letters (a-z), uppercase letters (A-Z), digits (0–9) and symbols such as punctuation marks while Unicode represents letters of English, Arabic, Greek etc. mathematical symbols, historical scripts, emoji covering a wide range of characters than ASCII.\n",
        "\n"
      ],
      "metadata": {
        "id": "zAY4BsB1aLNS"
      },
      "execution_count": null,
      "outputs": []
    },
    {
      "cell_type": "code",
      "source": [
        "Q8. How much of an effect does the change in string types in Python 3.X have on your code?\n",
        "\n",
        "Solution :- Python 3 stores strings as Unicode by default whereas Python 2 requires you to mark a string with a u if you want to store it as Unicode. Unicode strings are more versatile than ASCII strings, which are the Python 3.X default, as they can store letters from foreign languages as well as emoji and the standard Roman letters and numerals."
      ],
      "metadata": {
        "id": "KsHMQ1-taLZM"
      },
      "execution_count": null,
      "outputs": []
    }
  ]
}