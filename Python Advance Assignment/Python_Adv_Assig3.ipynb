{
  "nbformat": 4,
  "nbformat_minor": 0,
  "metadata": {
    "colab": {
      "name": "Python_Adv_Assig3.ipynb",
      "provenance": []
    },
    "kernelspec": {
      "name": "python3",
      "display_name": "Python 3"
    },
    "language_info": {
      "name": "python"
    }
  },
  "cells": [
    {
      "cell_type": "code",
      "execution_count": null,
      "metadata": {
        "id": "OUuNxFb4sssz"
      },
      "outputs": [],
      "source": [
        "1. What is the concept of an abstract superclass?\n",
        " A common superclass for several subclasses. Factor up common behavior. \n",
        " Define the methods they all respond to. Methods that subclasses should implement are declared abstract.\n"
      ]
    },
    {
      "cell_type": "code",
      "source": [
        "2. What happens when a class statement's top level contains a basic assignment statement?\n",
        "An assignment statement evaluates the expression list (remember that this can be a single expression or a comma-separated list, the latter yielding a tuple) and assigns the single resulting object to each of the target lists, from left to right."
      ],
      "metadata": {
        "id": "Yb7yWcmbtIF0"
      },
      "execution_count": null,
      "outputs": []
    },
    {
      "cell_type": "code",
      "source": [
        "3. Why does a class need to manually call a superclass's __init__ method?\n",
        "In order to offset this inactivation, something special is required: \n",
        "calling explicitly the base-class' __init__ , in order to KEEP , NOT TO ADD, the initialization performed by the base-class' __init__ ."
      ],
      "metadata": {
        "id": "6LcMFaldtIIt"
      },
      "execution_count": null,
      "outputs": []
    },
    {
      "cell_type": "code",
      "source": [
        "4. How can you augment, instead of completely replacing, an inherited method?\n",
        "To augument instead of completely replacing an inherited method, redefine it in a subclass,but call back the superclass of the method from new version of method in subclass\n",
        "pass the self instance to superclass version of method manually:\n",
        "superclass.method(self,..).\n"
      ],
      "metadata": {
        "id": "fD0djZuBtIKx"
      },
      "execution_count": null,
      "outputs": []
    },
    {
      "cell_type": "code",
      "source": [
        "5. How is the local scope of a class different from that of a function?\n",
        "declaring a variable inside a function inside a class : only that function can access it (its in that functions scope):"
      ],
      "metadata": {
        "id": "6MGgCQ2StINa"
      },
      "execution_count": null,
      "outputs": []
    }
  ]
}