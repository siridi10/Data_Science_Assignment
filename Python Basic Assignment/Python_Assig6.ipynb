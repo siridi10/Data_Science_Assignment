{
  "nbformat": 4,
  "nbformat_minor": 0,
  "metadata": {
    "colab": {
      "name": "Python_Assig6.ipynb",
      "provenance": []
    },
    "kernelspec": {
      "name": "python3",
      "display_name": "Python 3"
    },
    "language_info": {
      "name": "python"
    }
  },
  "cells": [
    {
      "cell_type": "code",
      "execution_count": null,
      "metadata": {
        "id": "o5dFwMwLr0Gn"
      },
      "outputs": [],
      "source": [
        "1. What are escape characters, and how do you use them?\n",
        "the backslash \"\\\" is a special character, also called the \"escape\" character."
      ]
    },
    {
      "cell_type": "code",
      "source": [
        "2. What do the escape characters n and t stand for?\n",
        "n stand for new line-->\\n\n",
        "t stand for tab-->\\t"
      ],
      "metadata": {
        "id": "ZJsMuVLcsnsU"
      },
      "execution_count": null,
      "outputs": []
    },
    {
      "cell_type": "code",
      "source": [
        "3. What is the way to include backslash characters in a string?\n",
        "if we want an actual backslash in the string we have to write two: \\\\ "
      ],
      "metadata": {
        "id": "cQdFncK4snub"
      },
      "execution_count": null,
      "outputs": []
    },
    {
      "cell_type": "code",
      "source": [
        "4. The string \"Howl's Moving Castle\" is a correct value. Why isn't the single quote character in the word Howl's not escaped a problem?\n",
        "because we kept the string in double quotes(\" \")."
      ],
      "metadata": {
        "id": "tZocwhHCsnxf"
      },
      "execution_count": null,
      "outputs": []
    },
    {
      "cell_type": "code",
      "source": [
        "5. How do you write a string of newlines if you don't want to use the n character?\n",
        "we can just write print statement\n",
        "print(\" \")"
      ],
      "metadata": {
        "id": "xjIYnPuOsnz5"
      },
      "execution_count": null,
      "outputs": []
    },
    {
      "cell_type": "code",
      "source": [
        "6. What are the values of the given expressions?\n",
        "'Hello, world!'[1]\n",
        "'e'\n",
        "\n",
        "'Hello, world!'[0:5]\n",
        "'Hello'\n",
        "\n",
        "'Hello, world!'[:5]\n",
        "'Hello'\n",
        "\n",
        "'Hello, world!'[3:]\n",
        "'lo, world!'\n"
      ],
      "metadata": {
        "id": "MVshh9_fsn3z"
      },
      "execution_count": null,
      "outputs": []
    },
    {
      "cell_type": "code",
      "source": [
        "7. What are the values of the following expressions?\n",
        "'Hello'.upper()\n",
        "'HELLO'\n",
        "\n",
        "'Hello'.upper().isupper()\n",
        "True\n",
        "\n",
        "'Hello'.upper().lower()\n",
        "'hello'"
      ],
      "metadata": {
        "id": "OK--dKFzsn-8"
      },
      "execution_count": null,
      "outputs": []
    },
    {
      "cell_type": "code",
      "source": [
        "8. What are the values of the following expressions?\n",
        "'Remember, remember, the fifth of July.'.split()\n",
        "['Remember,', 'remember,', 'the', 'fifth', 'of', 'July.']\n",
        "\n",
        "'-'.join('There can only one.'.split())\n",
        "'There-can-only-one.'"
      ],
      "metadata": {
        "id": "KhcFoc9BsoAh"
      },
      "execution_count": null,
      "outputs": []
    },
    {
      "cell_type": "code",
      "source": [
        "9. What are the methods for right-justifying, left-justifying, and centering a string?\n",
        "right-justifying --> str.rjust(s, width[, fillchar])\n",
        "left-justifying --> str.ljust(s, width[, fillchar])\n",
        "centering a string --> str.center(s, width[, fillchar])"
      ],
      "metadata": {
        "id": "BCdIVs3C66gs"
      },
      "execution_count": null,
      "outputs": []
    },
    {
      "cell_type": "code",
      "source": [
        "10. What is the best way to remove whitespace characters from the start or end?\n",
        "we can use trim method for removing whitespace\n",
        "for start trimStart()\n",
        "for end trimEnd()"
      ],
      "metadata": {
        "id": "oU8KI99F66ie"
      },
      "execution_count": null,
      "outputs": []
    }
  ]
}