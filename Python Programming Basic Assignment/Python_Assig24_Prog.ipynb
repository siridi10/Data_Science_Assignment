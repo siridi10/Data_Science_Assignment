{
  "cells": [
    {
      "cell_type": "code",
      "execution_count": 18,
      "metadata": {
        "colab": {
          "base_uri": "https://localhost:8080/"
        },
        "id": "0ioohkbAt2bY",
        "outputId": "bd3cb8d2-2806-44b0-8ad1-d7cd37e9f2e1"
      },
      "outputs": [
        {
          "output_type": "stream",
          "name": "stdout",
          "text": [
            "[1, 2, 3, 40, 5, 6, 7, 80, 9, 10, 11, 120, 13, 14, 15, 160, 17, 18, 19, 200, 21, 22, 23, 240, 25]\n"
          ]
        }
      ],
      "source": [
        "Question1\n",
        "Create a function that takes an integer and returns a list from 1 to the given number, where:\n",
        "1.\tIf the number can be divided evenly by 4, amplify it by 10 (i.e. return 10 times the number).\n",
        "2.\tIf the number cannot be divided evenly by 4, simply return the number.\n",
        "Examples\n",
        "amplify(4) ➞ [1, 2, 3, 40]\n",
        "amplify(3) ➞ [1, 2, 3]\n",
        "amplify(25) ➞ [1, 2, 3, 40, 5, 6, 7, 80, 9, 10, 11, 120, 13, 14, 15, 160, 17, 18, 19, 200, 21, 22, 23, 240, 25]\n",
        "Notes\n",
        "•\tThe given integer will always be equal to or greater than 1.\n",
        "•\tInclude the number (see example above).\n",
        "•\tTo perform this problem with its intended purpose, try doing it with list comprehensions. If that's too difficult, just solve the challenge any way you can.\n",
        "\n",
        "\n",
        "a=25\n",
        "amplify = [i*10 if (i%4==0) else i  for i in range(1,a+1)]\n",
        "print(amplify)"
      ]
    },
    {
      "cell_type": "code",
      "execution_count": 19,
      "metadata": {
        "colab": {
          "base_uri": "https://localhost:8080/"
        },
        "id": "D5sadO-CiOAx",
        "outputId": "8ee3c2db-b2f7-4537-9759-e9a823ab762f"
      },
      "outputs": [
        {
          "output_type": "stream",
          "name": "stdout",
          "text": [
            "[3, 3, 3, 7, 3, 3] ➞ 7\n",
            "[0, 0, 0.77, 0, 0] ➞ 0.77\n",
            "[0, 1, 1, 1, 1, 1, 1, 1] ➞ 0\n"
          ]
        }
      ],
      "source": [
        "Question2\n",
        "Create a function that takes a list of numbers and return the number that's unique.\n",
        "Examples\n",
        "unique([3, 3, 3, 7, 3, 3]) ➞ 7\n",
        "unique([0, 0, 0.77, 0, 0]) ➞ 0.77\n",
        "unique([0, 1, 1, 1, 1, 1, 1, 1]) ➞ 0\n",
        "Notes\n",
        "Test cases will always have exactly one unique number while all others are the same.\n",
        "\n",
        "def unique(in_list):\n",
        "    out_num = ''\n",
        "    for ele in set(in_list):\n",
        "        if in_list.count(ele) == 1:\n",
        "            out_num = ele\n",
        "    print(f'{in_list} ➞ {out_num}')\n",
        "\n",
        "unique([3, 3, 3, 7, 3, 3])\n",
        "unique([0, 0, 0.77, 0, 0])\n",
        "unique([0, 1, 1, 1, 1, 1, 1, 1])"
      ]
    },
    {
      "cell_type": "code",
      "execution_count": 20,
      "metadata": {
        "colab": {
          "base_uri": "https://localhost:8080/"
        },
        "id": "3YNpMEvlp5l7",
        "outputId": "c43a9ac7-6b39-44a3-ce4c-dd3a0538992a"
      },
      "outputs": [
        {
          "output_type": "stream",
          "name": "stdout",
          "text": [
            "Radius ➞ 380\n",
            "Perimeter ➞ 28\n"
          ]
        }
      ],
      "source": [
        "Question3\n",
        "Your task is to create a Circle constructor that creates a circle with a radius provided by an argument. The circles constructed must have two getters getArea() (PIr^2) and getPerimeter() (2PI*r) which give both respective areas and perimeter (circumference).\n",
        "For help with this class, I have provided you with a Rectangle constructor which you can use as a base example.\n",
        "Examples\n",
        "circy = Circle(11)\n",
        "circy.getArea()\n",
        "\n",
        "# Should return 380.132711084365\n",
        "\n",
        "circy = Circle(4.44)\n",
        "circy.getPerimeter()\n",
        "\n",
        "# Should return 27.897342763877365\n",
        "Notes\n",
        "Round results up to the nearest integer.\n",
        "\n",
        "\n",
        "3.Your task is to create a Circle constructor that creates a circle with a radius provided by an argument. The circles constructed must have two getters getArea() (PIr^2) and getPerimeter() (2PI*r) which give both respective areas and perimeter (circumference). For help with this class, I have provided you with a Rectangle constructor which you can use as a base example ?\n",
        "Examples:\n",
        "circy = Circle(11)\n",
        "circy.getArea()\n",
        "\n",
        "# Should return 380.132711084365\n",
        "circy = Circle(4.44)\n",
        "circy.getPerimeter()\n",
        "\n",
        "# Should return 27.897342763877365\n",
        "\n",
        "Notes:\n",
        "Round results up to the nearest integer.\n",
        "\n",
        "import math\n",
        "\n",
        "class Circle:\n",
        "    def __init__(self, radius):\n",
        "        self.radius = radius\n",
        "    def getArea(self):\n",
        "        print(f'Radius ➞ {round(math.pi*self.radius*self.radius)}')\n",
        "    def getPerimeter(self):\n",
        "        print(f'Perimeter ➞ {round(2*math.pi*self.radius)}')\n",
        "    \n",
        "circy = Circle(11)\n",
        "circy.getArea()\n",
        "\n",
        "circy = Circle(4.44)\n",
        "circy.getPerimeter()"
      ]
    },
    {
      "cell_type": "code",
      "execution_count": 21,
      "metadata": {
        "colab": {
          "base_uri": "https://localhost:8080/"
        },
        "id": "u7O6EKlhrMW_",
        "outputId": "13af31bf-77a7-41ab-dd1e-e92748306846"
      },
      "outputs": [
        {
          "output_type": "stream",
          "name": "stdout",
          "text": [
            "['Apple', 'Google', 'Microsoft']\n",
            "['Raphael', 'Leonardo', 'Donatello', 'Michelangelo']\n",
            "['Jung', 'Turing', 'Einstein']\n"
          ]
        }
      ],
      "source": [
        "Question4\n",
        "Create a function that takes a list of strings and return a list, sorted from shortest to longest.\n",
        "Examples\n",
        "sort_by_length([\"Google\", \"Apple\", \"Microsoft\"])\n",
        "➞ [\"Apple\", \"Google\", \"Microsoft\"]\n",
        "\n",
        "sort_by_length([\"Leonardo\", \"Michelangelo\", \"Raphael\", \"Donatello\"])\n",
        "➞ [\"Raphael\", \"Leonardo\", \"Donatello\", \"Michelangelo\"]\n",
        "\n",
        "sort_by_length([\"Turing\", \"Einstein\", \"Jung\"])\n",
        "➞ [\"Jung\", \"Turing\", \"Einstein\"]\n",
        "Notes\n",
        "All test cases contain lists with strings of different lengths, so you won't have to deal with multiple strings of the same length.\n",
        "\n",
        "def sort_by_length(in_list):\n",
        "    return (sorted(in_list,key=len))\n",
        "\n",
        "print(sort_by_length([\"Google\", \"Apple\", \"Microsoft\"]))\n",
        "print(sort_by_length([\"Leonardo\", \"Michelangelo\", \"Raphael\", \"Donatello\"]))\n",
        "print(sort_by_length([\"Turing\", \"Einstein\", \"Jung\"]))\n"
      ]
    },
    {
      "cell_type": "code",
      "execution_count": 22,
      "metadata": {
        "colab": {
          "base_uri": "https://localhost:8080/"
        },
        "id": "jMVooa_dqkia",
        "outputId": "1ac7e081-0ce8-401a-b226-adc04f352675"
      },
      "outputs": [
        {
          "output_type": "stream",
          "name": "stdout",
          "text": [
            "True\n",
            "True\n",
            "False\n"
          ]
        }
      ],
      "source": [
        "Question5\n",
        "Create a function that validates whether three given integers form a Pythagorean triplet. The sum of the squares of the two smallest integers must equal the square of the largest number to be validated.\n",
        "Examples\n",
        "is_triplet(3, 4, 5) ➞ True\n",
        "# 3² + 4² = 25\n",
        "# 5² = 25\n",
        "is_triplet(13, 5, 12) ➞ True\n",
        "# 5² + 12² = 169\n",
        "# 13² = 169\n",
        "is_triplet(1, 2, 3) ➞ False\n",
        "# 1² + 2² = 5\n",
        "# 3² = 9\n",
        "Notes\n",
        "Numbers may not be given in a sorted order.\n",
        "\n",
        "def is_triplet(a,b,c):\n",
        "    if ((a**2+b**2) == (c**2)):\n",
        "        return True\n",
        "    else:\n",
        "        return False\n",
        "        \n",
        "print(is_triplet(3, 4, 5))\n",
        "print(is_triplet(3, 4, 5))\n",
        "print(is_triplet(1, 2, 3))"
      ]
    },
    {
      "cell_type": "code",
      "source": [
        ""
      ],
      "metadata": {
        "id": "AiwJeOIE2s3V"
      },
      "execution_count": null,
      "outputs": []
    }
  ],
  "metadata": {
    "colab": {
      "collapsed_sections": [],
      "name": "Python_Assig24_Prog.ipynb",
      "provenance": []
    },
    "kernelspec": {
      "display_name": "Python 3",
      "name": "python3"
    },
    "language_info": {
      "name": "python"
    }
  },
  "nbformat": 4,
  "nbformat_minor": 0
}