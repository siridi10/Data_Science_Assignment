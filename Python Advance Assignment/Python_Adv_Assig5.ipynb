{
  "nbformat": 4,
  "nbformat_minor": 0,
  "metadata": {
    "colab": {
      "name": "Python_Adv_Assig5.ipynb",
      "provenance": []
    },
    "kernelspec": {
      "name": "python3",
      "display_name": "Python 3"
    },
    "language_info": {
      "name": "python"
    }
  },
  "cells": [
    {
      "cell_type": "code",
      "execution_count": null,
      "metadata": {
        "id": "OUuNxFb4sssz"
      },
      "outputs": [],
      "source": [
        "Q1. What is the meaning of multiple inheritance?\n",
        "Ans: Inheritence is nothing but reusability the code of Parent class by the child class. \n",
        "Similary when a child class inherits its properties from multiple Parent classes this scenario is called Multiple Inheritence\n",
        "\n",
        "class Parent_one:\n",
        "    pass\n",
        "class Parent_two:\n",
        "    pass\n",
        "class child(Parent_one,Parent_two):\n",
        "    pass\n"
      ]
    },
    {
      "cell_type": "code",
      "source": [
        "Q2. What is the concept of delegation?\n",
        "Ans: Delegation provides a proxy object for any class thay you want on top of the main class. its like a wrapper to your class so that you can access limited resources of the main class.\n",
        "\n",
        "it Wraps the object of main class into a smaller object with limited access\n",
        "\n",
        "Simply Delegation means that you can include a instance of another class as an instance variable, and forward messages to the instance.\n",
        "\n",
        "class Myclass:\n",
        "    def sayHi(self):\n",
        "        print('Hey iam back')\n",
        "    def whoAmI(self):\n",
        "        print('Iam the main class')\n",
        "\n",
        "class NewClass:\n",
        "    def __init__(self,obj):\n",
        "        self.main = obj\n",
        "    def welcome(self):\n",
        "        self.main.sayHi()\n",
        "\n",
        "m = Myclass()        \n",
        "n = NewClass(m)\n",
        "m.sayHi()\n",
        "n.main.sayHi()\n",
        "n.welcome()\n",
        "n.main.whoAmI()\n"
      ],
      "metadata": {
        "id": "Yb7yWcmbtIF0",
        "colab": {
          "base_uri": "https://localhost:8080/"
        },
        "outputId": "f4cedaa2-5d24-44c1-bb38-1e83f43b5e81"
      },
      "execution_count": 1,
      "outputs": [
        {
          "output_type": "stream",
          "name": "stdout",
          "text": [
            "Hey iam back\n",
            "Hey iam back\n",
            "Hey iam back\n",
            "Iam the main class\n"
          ]
        }
      ]
    },
    {
      "cell_type": "code",
      "source": [
        "Q3. What is the concept of composition?\n",
        "Ans: In the concept of Composition, a class refers to one or more other classes by using instances of those classes as a instance variable. irrespective of inheritence in this approach all the parent class members are not inherited into child class, but only required methods from a class are used by using class instances.\n",
        "\n",
        "class Salary:\n",
        "    def __init__(self,pay):\n",
        "        self.pay = pay\n",
        "    def get_total(self):\n",
        "        return self.pay*12\n",
        "    \n",
        "class Employee:\n",
        "    def __init__(self,pay,bonus):\n",
        "        self.pay = pay\n",
        "        self.bonus = bonus\n",
        "        self.obj_salary = Salary(self.pay)\n",
        "    def annual_salary(self):\n",
        "        return f'Total Salary : {str(self.obj_salary.get_total())}'\n",
        "\n",
        "obj_emp = Employee(800,500)\n",
        "print(obj_emp.annual_salary())\n"
      ],
      "metadata": {
        "id": "6LcMFaldtIIt",
        "colab": {
          "base_uri": "https://localhost:8080/"
        },
        "outputId": "af505a51-3a43-4288-90a8-ecb7fbcc5456"
      },
      "execution_count": 2,
      "outputs": [
        {
          "output_type": "stream",
          "name": "stdout",
          "text": [
            "Total Salary : 9600\n"
          ]
        }
      ]
    },
    {
      "cell_type": "code",
      "source": [
        "Q4. What are bound methods and how do we use them?\n",
        "Ans: If a function is an attribute of class and it is accessed via the instances, they are called bound methods. A bound method is one that has self as its first argument. Since these are dependent on the instance of classes, these are also known as instance methods.\n",
        "\n",
        "class Test:\n",
        "    def method_one(self): # bound method\n",
        "        print(\"Called method_one\")\n",
        "    @classmethod\n",
        "    def method_two(cls): # unbound method\n",
        "        print(\"Called method_two\")\n",
        "    @staticmethod\n",
        "    def method_three(): # static method\n",
        "        print(\"Called method_three\")\n",
        "\n",
        "test = Test()\n",
        "test.method_one() # accessing through instance object\n",
        "test.method_two() # accessing through instance object\n",
        "Test.method_two() # accessing directly through class\n",
        "Test.method_three() # accessing directly through class\n",
        "Called method_one\n",
        "Called method_two\n",
        "Called method_two\n",
        "Called method_three"
      ],
      "metadata": {
        "id": "fD0djZuBtIKx"
      },
      "execution_count": null,
      "outputs": []
    },
    {
      "cell_type": "code",
      "source": [
        "Q5. What is the purpose of pseudoprivate attributes?\n",
        "Ans: Pseudoprivate attributes are also useful in larger frameworks or tools, both to avoid introducing new method names that might accidentally hide definitions elsewhere in the class tree and to reduce the chance of internal methods being replaced by names defined lower in the tree. If a method is intended for use only within a class that may be mixed into other classes, the double underscore prefix ensures that the method won't interfere with other names in the tree, especially in multiple-inheritance scenarios\n",
        "\n",
        "Pseudoprivate names also prevent subclasses from accidentally redefining the internal method's names,\n",
        "\n",
        "class Super:\n",
        "    def method(self): # A real application method\n",
        "        pass\n",
        "class Tool:\n",
        "    def _method(self): # becomes _Tool_method\n",
        "        pass\n",
        "    def other(self): # uses internal method\n",
        "        self._method()\n",
        "class Subl(Tool,Super):\n",
        "    def actions(self):\n",
        "        self.method()\n",
        "class Sub2(Tool):\n",
        "    def __init__(self):\n",
        "        self.method = 99"
      ],
      "metadata": {
        "id": "6MGgCQ2StINa"
      },
      "execution_count": null,
      "outputs": []
    }
  ]
}