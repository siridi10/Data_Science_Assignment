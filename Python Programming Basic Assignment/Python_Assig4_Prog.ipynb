{
  "nbformat": 4,
  "nbformat_minor": 0,
  "metadata": {
    "colab": {
      "name": "Python_Assig4_Prog.ipynb",
      "provenance": [],
      "collapsed_sections": []
    },
    "kernelspec": {
      "name": "python3",
      "display_name": "Python 3"
    },
    "language_info": {
      "name": "python"
    }
  },
  "cells": [
    {
      "cell_type": "code",
      "execution_count": 3,
      "metadata": {
        "id": "D5sadO-CiOAx",
        "colab": {
          "base_uri": "https://localhost:8080/"
        },
        "outputId": "2692f3bf-ed9e-443c-a2a0-d1146e1141dc"
      },
      "outputs": [
        {
          "output_type": "stream",
          "name": "stdout",
          "text": [
            "Enter a number 0\n",
            "Sorry zero doesn't have any factorial\n"
          ]
        }
      ],
      "source": [
        "1. Write a Python Program to Find the Factorial of a Number?\n",
        "n=int(input(\"Enter a number \"))\n",
        "fact=1\n",
        "if(n<=0):\n",
        "  print(\"Sorry zero doesn't have any factorial\")\n",
        "else:\n",
        "  for i in range(1,n+1):\n",
        "    fact=fact*i\n",
        "  print(\"The factorial of\",n,\"is\",fact)"
      ]
    },
    {
      "cell_type": "code",
      "source": [
        "2. Write a Python Program to Display the multiplication Table?\n",
        "n=int(input(\"Enter a number \"))\n",
        "for i in range(1,11):\n",
        "  print(\"The table of \",n,\"*\",i,\"is\",i*n)"
      ],
      "metadata": {
        "id": "ARjVPYFpLhNi",
        "colab": {
          "base_uri": "https://localhost:8080/"
        },
        "outputId": "1f29829c-5933-4dc0-8622-5e63a8602764"
      },
      "execution_count": 11,
      "outputs": [
        {
          "output_type": "stream",
          "name": "stdout",
          "text": [
            "Enter a number 5\n",
            "The table of  5 * 1 is 5\n",
            "The table of  5 * 2 is 10\n",
            "The table of  5 * 3 is 15\n",
            "The table of  5 * 4 is 20\n",
            "The table of  5 * 5 is 25\n",
            "The table of  5 * 6 is 30\n",
            "The table of  5 * 7 is 35\n",
            "The table of  5 * 8 is 40\n",
            "The table of  5 * 9 is 45\n",
            "The table of  5 * 10 is 50\n"
          ]
        }
      ]
    },
    {
      "cell_type": "code",
      "source": [
        "3. Write a Python Program to Print the Fibonacci sequence?\n",
        "n=int(input(\"Enter a number \"))\n",
        "n1,n2,count=0,1,0\n",
        "if n<=0:\n",
        "  print(\"enter a postive number\")\n",
        "elif n==1:\n",
        "  print(\"the fibonacci is\",n)\n",
        "else:\n",
        "  while(count<n):\n",
        "    print(n1,end=\" \")\n",
        "    sum=n1+n2\n",
        "    n1=n2\n",
        "    n2=sum\n",
        "    count += 1"
      ],
      "metadata": {
        "id": "kV_65k7OLhPG",
        "colab": {
          "base_uri": "https://localhost:8080/"
        },
        "outputId": "aa59ab7b-237f-41b8-dbe9-feca188ca40b"
      },
      "execution_count": 16,
      "outputs": [
        {
          "output_type": "stream",
          "name": "stdout",
          "text": [
            "Enter a number 5\n",
            "0 1 1 2 3 "
          ]
        }
      ]
    },
    {
      "cell_type": "code",
      "source": [
        "4. Write a Python Program to Check Armstrong Number?\n",
        "n=int(input(\"Enter a number \"))\n",
        "sum = 0\n",
        "temp = n\n",
        "while temp > 0:\n",
        "   digit = temp % 10\n",
        "   sum += digit ** 3\n",
        "   temp //= 10\n",
        "if n == sum:\n",
        "   print(n,\"Armstrong number\")\n",
        "else:\n",
        "   print(n,\"not  Armstrong number\")\n"
      ],
      "metadata": {
        "id": "aCVBE_rMLhkd",
        "colab": {
          "base_uri": "https://localhost:8080/"
        },
        "outputId": "52b3441d-0ed6-4a9a-bef7-2ababced8674"
      },
      "execution_count": 17,
      "outputs": [
        {
          "output_type": "stream",
          "name": "stdout",
          "text": [
            "Enter a number 153\n",
            "153 Armstrong number\n"
          ]
        }
      ]
    },
    {
      "cell_type": "code",
      "source": [
        "5. Write a Python Program to Find Armstrong Number in an Interval?\n",
        "low=int(input(\"Enter a first number \"))\n",
        "high=int(input(\"Enter a last number \"))\n",
        "for i in range(low,high+1):\n",
        "  order = len(str(i))\n",
        "  sum = 0\n",
        "  temp = i\n",
        "  while temp > 0:\n",
        "      digit = temp % 10\n",
        "      sum += digit ** order\n",
        "      temp //= 10\n",
        "\n",
        "  if i == sum:\n",
        "      print(i)\n"
      ],
      "metadata": {
        "id": "9Vfa_YXULhxZ",
        "colab": {
          "base_uri": "https://localhost:8080/"
        },
        "outputId": "23b59b1a-95a2-42f1-9ec1-2aa34ae524f3"
      },
      "execution_count": 23,
      "outputs": [
        {
          "output_type": "stream",
          "name": "stdout",
          "text": [
            "Enter a first number 300\n",
            "Enter a last number 1000\n",
            "370\n",
            "371\n",
            "407\n"
          ]
        }
      ]
    },
    {
      "cell_type": "code",
      "source": [
        "6. Write a Python Program to Find the Sum of Natural Numbers\n",
        "n=int(input(\"Enter a number \"))\n",
        "if n<0:\n",
        "  print(\"enter postive number\")\n",
        "else:\n",
        "  sum=0\n",
        "  while(n>0):\n",
        "    sum=sum+n\n",
        "    n=n-1\n",
        "  print(\"The Sum of Natural Numbers is \",sum)"
      ],
      "metadata": {
        "id": "5iaWIjWQRxDV",
        "colab": {
          "base_uri": "https://localhost:8080/"
        },
        "outputId": "5892b6f2-a287-4500-d088-51271a1cf53a"
      },
      "execution_count": 28,
      "outputs": [
        {
          "output_type": "stream",
          "name": "stdout",
          "text": [
            "Enter a number 13\n",
            "The Sum of Natural Numbers is  91\n"
          ]
        }
      ]
    }
  ]
}