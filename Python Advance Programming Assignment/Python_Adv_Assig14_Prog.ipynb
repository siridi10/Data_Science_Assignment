{
  "nbformat": 4,
  "nbformat_minor": 0,
  "metadata": {
    "colab": {
      "name": "Python_Adv_Assig14_Prog.ipynb",
      "provenance": [],
      "collapsed_sections": []
    },
    "kernelspec": {
      "name": "python3",
      "display_name": "Python 3"
    },
    "language_info": {
      "name": "python"
    }
  },
  "cells": [
    {
      "cell_type": "code",
      "execution_count": 2,
      "metadata": {
        "id": "vaYRbe4LsSdX",
        "colab": {
          "base_uri": "https://localhost:8080/"
        },
        "outputId": "69b74c64-e5a3-4e84-8b64-fa5fc1457cb6"
      },
      "outputs": [
        {
          "output_type": "stream",
          "name": "stdout",
          "text": [
            "show_the_love([4, 1, 4]) ➞ [3.0, 3.0, 3.0]\n",
            "show_the_love([16, 10, 8]) ➞ [12.0, 7.5, 14.5]\n",
            "show_the_love([2, 100]) ➞ [27.0, 75.0]\n"
          ]
        }
      ],
      "source": [
        "# Q1. Given a list of numbers, create a function that removes 25% from every number in the list except the smallest number, and adds the total amount removed to the smallest number.\n",
        "\n",
        "# Examples:\n",
        "\n",
        "# show_the_love([4, 1, 4]) ➞ [3, 3, 3]\n",
        "# show_the_love([16, 10, 8]) ➞ [12, 7.5, 14.5]\n",
        "# show_the_love([2, 100]) ➞ [27, 75]\n",
        "\n",
        "def show_the_love(in_list):\n",
        "    out_list = in_list.copy()\n",
        "    sum_num = 0\n",
        "    for ele in range(len(out_list)):\n",
        "        if out_list[ele] is not min(out_list):\n",
        "            sum_num += out_list[ele]/4\n",
        "            out_list[ele] =  out_list[ele]-(out_list[ele]/4)\n",
        "    out_list[out_list.index(min(out_list))] = sum_num +min(out_list)\n",
        "    print(f'show_the_love({in_list}) ➞ {out_list}')\n",
        "            \n",
        "show_the_love([4, 1, 4])\n",
        "show_the_love([16, 10, 8])\n",
        "show_the_love([2, 100])"
      ]
    },
    {
      "cell_type": "code",
      "source": [
        "# Q2. Create a function that takes in two words as input and returns a list of three elements, in the following order:\n",
        "# 1.Shared letters between two words. 2.Letters unique to word 1. 3.Letters unique to word 2.\n",
        "# Each element should have unique letters, and have each letter be alphabetically sorted.\n",
        "# Examples:\n",
        "# letters(\"sharp\", \"soap\") ➞ [\"aps\", \"hr\", \"o\"]\n",
        "# letters(\"board\", \"bored\") ➞ [\"bdor\", \"a\", \"e\"]\n",
        "# letters(\"happiness\", \"envelope\") ➞ [\"enp\", \"ahis\", \"lov\"]\n",
        "# letters(\"kerfuffle\", \"fluffy\") ➞ [\"flu\", \"ekr\", \"y\"]\n",
        "# Even with multiple matching letters (e.g. 3 f's), there should\n",
        "# only exist a single \"f\" in your first element.\n",
        "# letters(\"match\", \"ham\") ➞ [\"ahm\", \"ct\", \"\"]\n",
        "# \"ham\" does not contain any letters that are not found already\n",
        "# in \"match\".\n",
        "\n",
        "def letters(s_one,s_two):\n",
        "    s_one_set = set(s_one)\n",
        "    s_two_set = set(s_two)\n",
        "    out_list = []\n",
        "    out_list.append(''.join(sorted(s_one_set.intersection(s_two_set))))\n",
        "    out_list.append(''.join(sorted(s_one_set.difference(s_two_set))))\n",
        "    out_list.append(''.join(sorted(s_two_set.difference(s_one_set)))) \n",
        "    print(f'letters{s_one,s_two} ➞ {out_list}')\n",
        "    \n",
        "letters(\"sharp\", \"soap\")\n",
        "letters(\"board\", \"bored\")\n",
        "letters(\"happiness\", \"envelope\")\n",
        "letters(\"kerfuffle\", \"fluffy\")\n",
        "letters(\"match\", \"ham\")"
      ],
      "metadata": {
        "id": "kx9QUM-Vs09H",
        "colab": {
          "base_uri": "https://localhost:8080/"
        },
        "outputId": "75e082e7-20fe-4b96-ed50-334ff85cf28e"
      },
      "execution_count": 3,
      "outputs": [
        {
          "output_type": "stream",
          "name": "stdout",
          "text": [
            "letters('sharp', 'soap') ➞ ['aps', 'hr', 'o']\n",
            "letters('board', 'bored') ➞ ['bdor', 'a', 'e']\n",
            "letters('happiness', 'envelope') ➞ ['enp', 'ahis', 'lov']\n",
            "letters('kerfuffle', 'fluffy') ➞ ['flu', 'ekr', 'y']\n",
            "letters('match', 'ham') ➞ ['ahm', 'ct', '']\n"
          ]
        }
      ]
    },
    {
      "cell_type": "code",
      "source": [
        "# Q3. Write a function that pairs the first number in an array with the last, the second number with the second to last, etc.\n",
        "\n",
        "# Examples:\n",
        "\n",
        "# pairs([1, 2, 3, 4, 5, 6, 7]) ➞ [[1, 7], [2, 6], [3, 5], [4, 4]]\n",
        "# pairs([1, 2, 3, 4, 5, 6]) ➞ [[1, 6], [2, 5], [3, 4]]\n",
        "# pairs([5, 9, 8, 1, 2]) ➞ [[5, 2], [9, 1], [8, 8]]\n",
        "# pairs([]) ➞ []\n",
        "\n",
        "def pairs(in_list):\n",
        "    in_list_clone = in_list.copy()\n",
        "    output = []\n",
        "    while True:\n",
        "        if len(in_list) > 0:\n",
        "            if len(in_list) == 1:\n",
        "                output.append([in_list[0],in_list.pop(0)])\n",
        "            else:\n",
        "                output.append([in_list.pop(0),in_list.pop(-1)])\n",
        "        else:\n",
        "            break\n",
        "    print(f'pairs({in_list_clone}) ➞ {output}')\n",
        "            \n",
        "pairs([1, 2, 3, 4, 5, 6, 7])\n",
        "pairs([1, 2, 3, 4, 5, 6])\n",
        "pairs([5, 9, 8, 1, 2])\n",
        "pairs([])"
      ],
      "metadata": {
        "id": "4WRcpt7Ds1D5",
        "colab": {
          "base_uri": "https://localhost:8080/"
        },
        "outputId": "46655a6d-660f-43b0-b1bf-56dde0d6456d"
      },
      "execution_count": 4,
      "outputs": [
        {
          "output_type": "stream",
          "name": "stdout",
          "text": [
            "pairs([1, 2, 3, 4, 5, 6, 7]) ➞ [[1, 7], [2, 6], [3, 5], [4, 4]]\n",
            "pairs([1, 2, 3, 4, 5, 6]) ➞ [[1, 6], [2, 5], [3, 4]]\n",
            "pairs([5, 9, 8, 1, 2]) ➞ [[5, 2], [9, 1], [8, 8]]\n",
            "pairs([]) ➞ []\n"
          ]
        }
      ]
    },
    {
      "cell_type": "code",
      "source": [
        "# Q4. Write a function that adds two numbers. The catch, however, is that the numbers will be strings.\n",
        "\n",
        "# Examples:\n",
        "\n",
        "# add_str_nums(\"4\", \"5\") ➞ \"9\"\n",
        "# add_str_nums(\"abcdefg\", \"3\") ➞ \"-1\"\n",
        "# add_str_nums(\"1\", \"\") ➞ \"1\"\n",
        "# add_str_nums(\"1874682736267235927359283579235789257\", \"32652983572985729\") ➞ \"1874682736267235927391936562808774986\"\n",
        "\n",
        "def add_str_nums(in_one,in_two):\n",
        "    in_one = in_one if len(in_one) > 0 else \"0\"\n",
        "    in_two = in_two if len(in_two) > 0 else \"0\"\n",
        "    if in_one.isdigit() == False or in_two.isdigit() == False:\n",
        "        output = -1\n",
        "    else: \n",
        "        output = int(in_one)+int(in_two)\n",
        "    print(f'add_str_nums{in_one,in_two} ➞ {str(output)}')\n",
        "        \n",
        "add_str_nums(\"4\", \"5\")\n",
        "add_str_nums(\"abcdefg\", \"3\")\n",
        "add_str_nums(\"1\", \"\")\n",
        "add_str_nums(\"1874682736267235927359283579235789257\", \"32652983572985729\")"
      ],
      "metadata": {
        "id": "qkfkJzUas1JX",
        "colab": {
          "base_uri": "https://localhost:8080/"
        },
        "outputId": "d7e30b2c-36fe-47bc-eded-e65c896e9a10"
      },
      "execution_count": 5,
      "outputs": [
        {
          "output_type": "stream",
          "name": "stdout",
          "text": [
            "add_str_nums('4', '5') ➞ 9\n",
            "add_str_nums('abcdefg', '3') ➞ -1\n",
            "add_str_nums('1', '0') ➞ 1\n",
            "add_str_nums('1874682736267235927359283579235789257', '32652983572985729') ➞ 1874682736267235927391936562808774986\n"
          ]
        }
      ]
    },
    {
      "cell_type": "code",
      "source": [
        "# Q5.lPaeesh le pemu mnxit ehess rtnisg! Oh, sorry, that was supposed to say: Please help me unmix these strings!\n",
        "\n",
        "# Somehow my strings have all become mixed up; every pair of characters has been swapped. Help me undo this so I can understand my strings again.\n",
        "\n",
        "# Examples:\n",
        "\n",
        "# unmix(\"123456\") ➞ \"214365\"\n",
        "# unmix(\"hTsii  s aimex dpus rtni.g\") ➞ \"This is a mixed up string.\"\n",
        "# unmix(\"badce\") ➞ \"abcde\"\n",
        "def unmix(in_string):\n",
        "    output = ''\n",
        "    for ele in range(0,len(in_string)-1,2):\n",
        "        output += in_string[ele+1]+in_string[ele]\n",
        "        if (len(in_string)%2 != 0 and ele == len(in_string)//2 ):\n",
        "            output += in_string[-1]       \n",
        "    print(f'unmix({in_string}) ➞ {output}')\n",
        "\n",
        "unmix(\"123456\")\n",
        "unmix(\"hTsii  s aimex dpus rtni.g\")\n",
        "unmix(\"badce\")"
      ],
      "metadata": {
        "id": "MC9t4taRs_Wu",
        "colab": {
          "base_uri": "https://localhost:8080/"
        },
        "outputId": "7d64bc46-05a8-4136-ef3f-eece8cbc0be0"
      },
      "execution_count": 6,
      "outputs": [
        {
          "output_type": "stream",
          "name": "stdout",
          "text": [
            "unmix(123456) ➞ 214365\n",
            "unmix(hTsii  s aimex dpus rtni.g) ➞ This is a mixed up string.\n",
            "unmix(badce) ➞ abcde\n"
          ]
        }
      ]
    },
    {
      "cell_type": "code",
      "source": [
        ""
      ],
      "metadata": {
        "id": "-TVYCAjXASQa"
      },
      "execution_count": null,
      "outputs": []
    }
  ]
}