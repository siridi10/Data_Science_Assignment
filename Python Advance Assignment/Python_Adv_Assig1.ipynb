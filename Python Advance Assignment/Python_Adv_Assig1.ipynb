{
  "nbformat": 4,
  "nbformat_minor": 0,
  "metadata": {
    "colab": {
      "name": "Python_Adv_Assig1.ipynb",
      "provenance": []
    },
    "kernelspec": {
      "name": "python3",
      "display_name": "Python 3"
    },
    "language_info": {
      "name": "python"
    }
  },
  "cells": [
    {
      "cell_type": "code",
      "execution_count": null,
      "metadata": {
        "id": "OUuNxFb4sssz"
      },
      "outputs": [],
      "source": [
        "Q1. What is the purpose of Python's OOP?\n",
        "code reusability, easy to implement and easy to divide the work \n",
        " It aims to implement real-world entities like inheritance, polymorphisms, encapsulation, etc."
      ]
    },
    {
      "cell_type": "code",
      "source": [
        "Q2. Where does an inheritance search look for an attribute?\n",
        "search of the tree from bottom to top looking for the lowest occurrence of an attribute name."
      ],
      "metadata": {
        "id": "Yb7yWcmbtIF0"
      },
      "execution_count": null,
      "outputs": []
    },
    {
      "cell_type": "code",
      "source": [
        "Q3. How do you distinguish between a class object and an instance object?\n",
        "In class object:\n",
        "it is blue print\n",
        "it deals with logical entity\n",
        "It doesn't allocate memory\n",
        "In instance objec:\n",
        "It is full copy of code\n",
        "It deals with physical entity\n",
        "It allocate memory\n"
      ],
      "metadata": {
        "id": "6LcMFaldtIIt"
      },
      "execution_count": null,
      "outputs": []
    },
    {
      "cell_type": "code",
      "source": [
        "Q4. What makes the first argument in a class’s method function special?\n",
        "The first argument of every class method, including init, is always a reference to the current instance of the class"
      ],
      "metadata": {
        "id": "fD0djZuBtIKx"
      },
      "execution_count": null,
      "outputs": []
    },
    {
      "cell_type": "code",
      "source": [
        "Q5. What is the purpose of the __init__ method?\n",
        "it is a inbuilt method to give input for the argument while intiliazing\n",
        "we can say it is a constructor too"
      ],
      "metadata": {
        "id": "6MGgCQ2StINa"
      },
      "execution_count": null,
      "outputs": []
    },
    {
      "cell_type": "code",
      "source": [
        "Q6. What is the process for creating a class instance?\n",
        "\n",
        "It can also be used to create new object instances (instantiation) of that class. The procedure to create an object is similar to a function call.\n",
        "This will create a new object instance named harry. We can access the attributes of objects using the object name prefix.\n",
        "Attributes may be data or method. Methods of an object are corresponding functions of that class."
      ],
      "metadata": {
        "id": "AuJasajttIsu"
      },
      "execution_count": null,
      "outputs": []
    },
    {
      "cell_type": "code",
      "source": [
        "Q7. What is the process for creating a class?\n",
        "To create a class we need to use keyword class and it must be ended with semicolon\n",
        "In class we can pass some parematers too\n",
        "we need to create a object to modifiy the properties\n",
        "\n",
        "eg \n",
        "class sirid:\n",
        "    def nath(a):\n",
        "      pass\n",
        "a=5"
      ],
      "metadata": {
        "id": "ItZD0M__tIvO"
      },
      "execution_count": null,
      "outputs": []
    },
    {
      "cell_type": "code",
      "source": [
        "Q8. How would you define the superclasses of a class?\n",
        "A class which inherits similar type of actions from subclasses is called superclasses\n",
        "The superclass is also known as the parent class or base class."
      ],
      "metadata": {
        "id": "bMwtqTeatIx0"
      },
      "execution_count": null,
      "outputs": []
    }
  ]
}