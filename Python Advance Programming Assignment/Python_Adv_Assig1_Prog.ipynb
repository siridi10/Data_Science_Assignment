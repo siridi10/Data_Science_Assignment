{
  "nbformat": 4,
  "nbformat_minor": 0,
  "metadata": {
    "colab": {
      "name": "Python_Adv_Assig1_Prog.ipynb",
      "provenance": [],
      "collapsed_sections": []
    },
    "kernelspec": {
      "name": "python3",
      "display_name": "Python 3"
    },
    "language_info": {
      "name": "python"
    }
  },
  "cells": [
    {
      "cell_type": "code",
      "execution_count": 1,
      "metadata": {
        "id": "vaYRbe4LsSdX"
      },
      "outputs": [],
      "source": [
        "# 1. Write a function that takes a list of lists and returns the value of all of the symbols in it, where each symbol adds or takes something from the total score. Symbol values:\n",
        "# # = 5\n",
        "# O = 3\n",
        "# X = 1\n",
        "# ! = -1\n",
        "# !! = -3\n",
        "# !!! = -5\n",
        "\n",
        "# A list of lists containing 2 #s, a O, and a !!! would equal (0 + 5 + 5 + 3 - 5) 8.\n",
        "# If the final score is negative, return 0 (e.g. 3 #s, 3 !!s, 2 !!!s and a X would be (0 + 5 + 5 + 5 - 3 - 3 - 3 - 5 - 5 + 1) -3, so return 0.\n",
        "# Examples\n",
        "\n",
        "# check_score([\n",
        "# [\"#\", \"!\"],\n",
        "# [\"!!\", \"X\"]\n",
        "# ]) ➞ 2\n",
        "\n",
        "# check_score([\n",
        "# [\"!!!\", \"O\", \"!\"],\n",
        "# [\"X\", \"#\", \"!!!\"],\n",
        "# [\"!!\", \"X\", \"O\"]\n",
        "# ]) ➞ 0\n",
        "\n",
        "\n",
        "def check_score(ls):\n",
        "    score = 0\n",
        "    for i in ls:\n",
        "        for j in i:\n",
        "            if j == '#':\n",
        "                score += 5\n",
        "            elif j == 'O':\n",
        "                score += 3\n",
        "            elif j == 'X':\n",
        "                score += 1\n",
        "            elif j == '!':\n",
        "                score += -1\n",
        "            elif j == '!!':\n",
        "                score += -3\n",
        "            elif j == '!!!':\n",
        "                score += -5    \n",
        "    if score < 0:\n",
        "        return 0\n",
        "    else:\n",
        "        return score"
      ]
    },
    {
      "cell_type": "code",
      "source": [
        "#example 1\n",
        "test1 = [['#', '!'], ['!!', 'X']]\n",
        "\n",
        "check_score(test1)"
      ],
      "metadata": {
        "colab": {
          "base_uri": "https://localhost:8080/"
        },
        "id": "Q-mxAda1oq3F",
        "outputId": "9a950014-fc80-4dbe-c464-45241cd12659"
      },
      "execution_count": 2,
      "outputs": [
        {
          "output_type": "execute_result",
          "data": {
            "text/plain": [
              "2"
            ]
          },
          "metadata": {},
          "execution_count": 2
        }
      ]
    },
    {
      "cell_type": "code",
      "source": [
        "# 2. Create a function that takes a variable number of arguments, each argument representing the number of items in a group, and returns the number of permutations (combinations) of items that you could get by taking one item from each group.\n",
        "# Examples\n",
        "# combinations(2, 3) ➞ 6\n",
        "# combinations(3, 7, 4) ➞ 84\n",
        "# combinations(2, 3, 4, 5) ➞ 120\n",
        "\n",
        "def combination(*args):\n",
        "    result = 1\n",
        "    for i in args:\n",
        "        result = result * i\n",
        "        \n",
        "    return result"
      ],
      "metadata": {
        "id": "kx9QUM-Vs09H"
      },
      "execution_count": 3,
      "outputs": []
    },
    {
      "cell_type": "code",
      "source": [
        "#example 1\n",
        "combination(3,7,4)"
      ],
      "metadata": {
        "colab": {
          "base_uri": "https://localhost:8080/"
        },
        "id": "Yfnf9DpZo2bs",
        "outputId": "04827b0d-824a-4703-d7ed-df8161102a16"
      },
      "execution_count": 4,
      "outputs": [
        {
          "output_type": "execute_result",
          "data": {
            "text/plain": [
              "84"
            ]
          },
          "metadata": {},
          "execution_count": 4
        }
      ]
    },
    {
      "cell_type": "code",
      "source": [
        "# 3. Create a function that takes a string as an argument and returns the Morse code equivalent.\n",
        "# Examples\n",
        "# encode_morse(\"EDABBIT CHALLENGE\") ➞ \". -.. .- -... -... .. -   -.-. .... .- .-.. .-.. . -. --. .\"\n",
        "# encode_morse(\"HELP ME !\") ➞ \".... . .-.. .--.   -- .   -.-.--\"\n",
        "# This dictionary can be used for coding:\n",
        "char_to_dots = {\n",
        "'A': '.-', 'B': '-...', 'C': '-.-.', 'D': '-..', 'E': '.', 'F': '..-.',\n",
        "'G': '--.', 'H': '....', 'I': '..', 'J': '.---', 'K': '-.-', 'L': '.-..',\n",
        "'M': '--', 'N': '-.', 'O': '---', 'P': '.--.', 'Q': '--.-', 'R': '.-.',\n",
        "'S': '...', 'T': '-', 'U': '..-', 'V': '...-', 'W': '.--', 'X': '-..-',\n",
        "'Y': '-.--', 'Z': '--..', '': '', '0': '-----',\n",
        "'1': '.----', '2': '..---', '3': '...--', '4': '....-', '5': '.....',\n",
        "'6': '-....', '7': '--...', '8': '---..', '9': '----.',\n",
        "'&': '.-...', \"'\": '.----.', '@': '.--.-.', ')': '-.--.-', '(': '-.--.',\n",
        "':': '---...', ',': '--..--', '=': '-...-', '!': '-.-.--', '.': '.-.-.-',\n",
        "'-': '-....-', '+': '.-.-.', '\"': '.-..-.', '?': '..--..', '/': '-..-.'\n",
        "}\n",
        "\n",
        "def encode_morse(code):\n",
        "    encode = \"\" \n",
        "    for i in code:\n",
        "        encode = encode + char_to_dots[i]\n",
        "        \n",
        "    return encode"
      ],
      "metadata": {
        "id": "4WRcpt7Ds1D5"
      },
      "execution_count": 5,
      "outputs": []
    },
    {
      "cell_type": "code",
      "source": [
        "#test case\n",
        "encode_morse(\"SIRIDI\")"
      ],
      "metadata": {
        "colab": {
          "base_uri": "https://localhost:8080/",
          "height": 35
        },
        "id": "v1iXcNdcpTeD",
        "outputId": "bd448bca-29c6-4217-88e0-75e49bee5e83"
      },
      "execution_count": 6,
      "outputs": [
        {
          "output_type": "execute_result",
          "data": {
            "application/vnd.google.colaboratory.intrinsic+json": {
              "type": "string"
            },
            "text/plain": [
              "'......-...-....'"
            ]
          },
          "metadata": {},
          "execution_count": 6
        }
      ]
    },
    {
      "cell_type": "code",
      "source": [
        "# 4.  Write a function that takes a number and returns True if it's a prime; False otherwise. The number can be 2^64-1 (2 to the power of 63, not XOR). \n",
        "#With the standard technique it would be O(2^64-1), which is much too large for the 10 second time limit.\n",
        "# Examples\n",
        "# prime(7) ➞ True\n",
        "# prime(56963) ➞ True\n",
        "# prime(5151512515524) ➞ False\n",
        "\n",
        "def prime(num):\n",
        "    isPrime = True\n",
        "    d = 2\n",
        "    while(d*d <= num):\n",
        "        if(num%d==0):\n",
        "            isPrime = False\n",
        "            break\n",
        "        d = d + 1\n",
        "    return isPrime"
      ],
      "metadata": {
        "id": "qkfkJzUas1JX"
      },
      "execution_count": 7,
      "outputs": []
    },
    {
      "cell_type": "code",
      "source": [
        "#testcase\n",
        "prime(1015)"
      ],
      "metadata": {
        "colab": {
          "base_uri": "https://localhost:8080/"
        },
        "id": "BlCZlGN9pskk",
        "outputId": "7eea18a9-e546-4627-f086-8cddf74b2fc0"
      },
      "execution_count": 8,
      "outputs": [
        {
          "output_type": "execute_result",
          "data": {
            "text/plain": [
              "False"
            ]
          },
          "metadata": {},
          "execution_count": 8
        }
      ]
    },
    {
      "cell_type": "code",
      "source": [
        "# 5.  Create a function that converts a word to a bitstring and then to a boolean list based on the following criteria:\n",
        "# 1. Locate the position of the letter in the English alphabet (from 1 to 26).\n",
        "# 2. Odd positions will be represented as 1 and 0 otherwise.\n",
        "# 3. Convert the represented positions to boolean values, 1 for True and 0 for False.\n",
        "# 4. Store the conversions into an array.\n",
        "# Examples\n",
        "# to_boolean_list(\"deep\") ➞ [False, True, True, False]\n",
        "# # deep converts to 0110\n",
        "# # d is the 4th alphabet - 0\n",
        "# # e is the 5th alphabet - 1\n",
        "# # e is the 5th alphabet - 1\n",
        "# # p is the 16th alphabet - 0\n",
        "# to_boolean_list(\"loves\") ➞ [False, True, False, True, True]\n",
        "# to_boolean_list(\"tesh\") ➞ [False, True, True, False]\n",
        "\n",
        "\n",
        "def to_boolean_list(word):\n",
        "    word_l = []\n",
        "    word_b = []\n",
        "    for i in word:\n",
        "        word_l.append(ord(i)%2)\n",
        "        word_b.append(bool(ord(i)%2))\n",
        "        \n",
        "    print(word_l)\n",
        "    print(word_b)"
      ],
      "metadata": {
        "id": "MC9t4taRs_Wu"
      },
      "execution_count": 9,
      "outputs": []
    },
    {
      "cell_type": "code",
      "source": [
        "to_boolean_list(\"siridi\")"
      ],
      "metadata": {
        "colab": {
          "base_uri": "https://localhost:8080/"
        },
        "id": "N75di0skrUf4",
        "outputId": "62295961-9fbc-4d05-e67d-1eed3f92191c"
      },
      "execution_count": 12,
      "outputs": [
        {
          "output_type": "stream",
          "name": "stdout",
          "text": [
            "[1, 1, 0, 1, 0, 1]\n",
            "[True, True, False, True, False, True]\n"
          ]
        }
      ]
    },
    {
      "cell_type": "code",
      "source": [
        ""
      ],
      "metadata": {
        "id": "zrWsM_w2rbsy"
      },
      "execution_count": null,
      "outputs": []
    }
  ]
}