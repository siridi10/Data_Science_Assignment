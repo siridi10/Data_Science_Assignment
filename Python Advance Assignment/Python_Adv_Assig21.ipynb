{
  "nbformat": 4,
  "nbformat_minor": 0,
  "metadata": {
    "colab": {
      "name": "Python_Adv_Assig21.ipynb",
      "provenance": []
    },
    "kernelspec": {
      "name": "python3",
      "display_name": "Python 3"
    },
    "language_info": {
      "name": "python"
    }
  },
  "cells": [
    {
      "cell_type": "code",
      "execution_count": null,
      "metadata": {
        "id": "OUuNxFb4sssz"
      },
      "outputs": [],
      "source": [
        "Q1. What is a probability distribution, exactly? If the values are meant to be random, how can you predict them at all ?\n",
        "A probability distribution describes how a random variable is distributed.\n",
        "It tells us which values a random variable is most likely to take on and which values are less likely. Based on the previous data and the occurences of the random event, we can predict the outcome in terms of probabilities.\n",
        "\n",
        "Q2. Is there a distinction between true random numbers and pseudo-random numbers, if there is one? Why are the latter considered “good enough”?\n",
        "True Random Numbers are true physical values while pseudo-random numbers are generated internally by a program . Latter is considered good enough as they have sort of uniform distribution.\n",
        "\n",
        "Q3. What are the two main factors that influence the behaviour of a \"normal\" probability distribution ?\n",
        "Normal Probability Distribution are influenced by two factors mean and the variance.\n",
        "\n",
        "Q4. Provide a real-life example of a normal distribution ?\n",
        "A Real-life example of a normal distribution are heights or blood pressure measurements\n",
        "\n",
        "Q5. In the short term, how can you expect a probability distribution to behave? What do you think will happen as the number of trials grows ?\n",
        " Variance will decrease with number of trials\n",
        "\n",
        "Q6. What kind of object can be shuffled by using random.shuffle ?\n",
        "lists (list), strings (str) and tuples (tuple) objects can be shuffled by using random.shuffle.\n",
        "\n",
        "Q7. Describe the math package's general categories of functions ?\n",
        "The Math package's general categories of functions are:\n",
        "Trigonometric functions\n",
        "Quadratic functions\n",
        "Exponential functions\n",
        "Hyperbolic functions\n",
        "Periodic functions\n",
        "Arithmetic functions\n",
        "Logarithimic functions\n",
        "Conversions to Integer\n",
        "\n",
        "Q8. What is the relationship between exponentiation and logarithms ?\n",
        "Exponentiation and logarithms are inverse of each other.\n",
        "\n",
        "Q9. What are the three logarithmic functions that Python supports ? Solution :- The Three Logarithmic Functions that Python supports are:\n",
        "log2(x) - logarithmic value of x to base 2\n",
        "log10(x) - logarithmic value of x to base 10\n",
        "log1p(a) - This function is used to compute logarithm(1+a) ."
      ]
    }
  ]
}