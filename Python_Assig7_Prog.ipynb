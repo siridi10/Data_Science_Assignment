{
  "nbformat": 4,
  "nbformat_minor": 0,
  "metadata": {
    "colab": {
      "name": "Python_Assig7_Prog.ipynb",
      "provenance": [],
      "collapsed_sections": []
    },
    "kernelspec": {
      "name": "python3",
      "display_name": "Python 3"
    },
    "language_info": {
      "name": "python"
    }
  },
  "cells": [
    {
      "cell_type": "code",
      "execution_count": 16,
      "metadata": {
        "id": "D5sadO-CiOAx",
        "colab": {
          "base_uri": "https://localhost:8080/"
        },
        "outputId": "8743d0fa-99d2-4bcd-e2a7-32638b0f4e98"
      },
      "outputs": [
        {
          "output_type": "stream",
          "name": "stdout",
          "text": [
            "The sum of array is  379\n"
          ]
        }
      ],
      "source": [
        "# 1.\tWrite a Python Program to find sum of array?\n",
        "arr=[12,34,5,6,65,78,89,90]\n",
        "sum=0\n",
        "for i in range(0,len(arr)):\n",
        "  sum=sum+arr[i]\n",
        "print(\"The sum of array is \",str(sum))\n"
      ]
    },
    {
      "cell_type": "code",
      "source": [
        "# 2.\tWrite a Python Program to find largest element in an array?\n",
        "arr=[12,34,5,6,65,78,89,90]\n",
        "print(\"The largest element is\",max(arr))"
      ],
      "metadata": {
        "id": "ARjVPYFpLhNi",
        "colab": {
          "base_uri": "https://localhost:8080/"
        },
        "outputId": "1825436a-fe8d-42bf-a83b-d1b95b9797e2"
      },
      "execution_count": 1,
      "outputs": [
        {
          "output_type": "stream",
          "name": "stdout",
          "text": [
            "The largest element is 90\n"
          ]
        }
      ]
    },
    {
      "cell_type": "code",
      "source": [
        "# 3.\tWrite a Python Program for array rotation?\n",
        "my_list = [11, 12, 23, 34, 65]\n",
        "n = 3\n",
        "\n",
        "print(\"The list is : \")\n",
        "for i in range(0, len(my_list)):\n",
        "   print(my_list[i],end=\" \")\n",
        "for i in range(0, n):\n",
        "   first_elem = my_list[0]\n",
        "   for j in range(0, len(my_list)-1):\n",
        "      my_list[j] = my_list[j+1]\n",
        "\n",
        "   my_list[len(my_list)-1] = first_elem\n",
        "print()\n",
        "print(\"Array after left rotating is : \")\n",
        "for i in range(0, len(my_list)):\n",
        "   print(my_list[i],end=\" \")"
      ],
      "metadata": {
        "colab": {
          "base_uri": "https://localhost:8080/"
        },
        "id": "h9UwC5gjhfKQ",
        "outputId": "02631168-562e-4947-9d1e-337e0d6012fe"
      },
      "execution_count": 21,
      "outputs": [
        {
          "output_type": "stream",
          "name": "stdout",
          "text": [
            "The list is : \n",
            "11 12 23 34 65 \n",
            "Array after left rotating is : \n",
            "34 65 11 12 23 "
          ]
        }
      ]
    },
    {
      "cell_type": "code",
      "source": [
        "# 4.\tWrite a Python Program to Split the array and add the first part to the end?\n",
        "def SplitArray(arr, n, k):\n",
        "\tfor i in range(0, k):\n",
        "\t\tx = arr[0]\n",
        "\t\tfor j in range(0, n-1):\n",
        "\t\t\tarr[j] = arr[j + 1]\n",
        "\t\tarr[n-1] = x\t\t\n",
        "arr = [15, 40, 15, 16, 50, 36]\n",
        "print(\"Before Spliting of array\")\n",
        "print(arr)\n",
        "n = len(arr)\n",
        "position = 2\n",
        "SplitArray(arr, n, position)\n",
        "print(\"After Spliting of array\")\n",
        "for i in range(0, n):\n",
        "\tprint(arr[i],end=\" \")"
      ],
      "metadata": {
        "id": "aCVBE_rMLhkd",
        "colab": {
          "base_uri": "https://localhost:8080/"
        },
        "outputId": "f2fd77ea-1ac0-4f2e-e88e-4fcfcc67ab6b"
      },
      "execution_count": 29,
      "outputs": [
        {
          "output_type": "stream",
          "name": "stdout",
          "text": [
            "Before Spliting of array\n",
            "[15, 40, 15, 16, 50, 36]\n",
            "After Spliting of array\n",
            "15 16 50 36 15 40 "
          ]
        }
      ]
    },
    {
      "cell_type": "code",
      "source": [
        "# 5.\tWrite a Python Program to check if given array is Monotonic?\n",
        "def ismonotone(a):\n",
        "    n=len(a)\n",
        "    if n==1:\n",
        "        return True\n",
        "    else:\n",
        "        if all(a[i]>=a[i+1] for i in range(0,n-1) or a[i]<=a[i+1] for i in range(0,n-1)):\n",
        "            return True\n",
        "        else:\n",
        "            return False\n",
        "A = [6, 5, 4, 2]\n",
        "print(ismonotone(A))\n",
        "b = [6, 2, 4, 2]\n",
        "print(ismonotone(b))\n",
        "c=[4,3,2]\n",
        "print(ismonotone(c))\n",
        "d=[1]\n",
        "print(ismonotone(d))"
      ],
      "metadata": {
        "id": "9Vfa_YXULhxZ",
        "colab": {
          "base_uri": "https://localhost:8080/"
        },
        "outputId": "7b5decdf-3f14-4bef-b427-3f073548ac35"
      },
      "execution_count": 30,
      "outputs": [
        {
          "output_type": "stream",
          "name": "stdout",
          "text": [
            "True\n",
            "False\n",
            "True\n",
            "True\n"
          ]
        }
      ]
    }
  ]
}