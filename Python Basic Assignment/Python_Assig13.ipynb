{
  "nbformat": 4,
  "nbformat_minor": 0,
  "metadata": {
    "colab": {
      "name": "Python_Assig13.ipynb",
      "provenance": []
    },
    "kernelspec": {
      "name": "python3",
      "display_name": "Python 3"
    },
    "language_info": {
      "name": "python"
    }
  },
  "cells": [
    {
      "cell_type": "code",
      "execution_count": null,
      "metadata": {
        "id": "o5dFwMwLr0Gn"
      },
      "outputs": [],
      "source": [
        "1. What advantages do Excel spreadsheets have over CSV spreadsheets?\n",
        "Ans: The Advantages of Excel over CSV are:\n",
        "Excel (XLS and XLSX) file formats are better for storing and analysing complex data.\n",
        "An Excel not only stores data but can also do operations on the data using macros, formulas etc\n",
        "CSV files are plain-text files, Does not contain formatting, formulas, macros, etc. It is also known as flat files"
      ]
    },
    {
      "cell_type": "code",
      "source": [
        "2.What do you pass to csv.reader() and csv.writer() to create reader and writer objects?\n",
        "import csv\n",
        "with open('text.csv','r') as file:\n",
        "    csv_file = csv.reader(file,delimiter=',')\n",
        "    for ele in csv_file:\n",
        "        print(ele)\n",
        "['name,department,birthday month']\n",
        "['John Smith,Accounting,November']\n",
        "['Erica Meyers,IT,March']"
      ],
      "metadata": {
        "id": "ZJsMuVLcsnsU"
      },
      "execution_count": null,
      "outputs": []
    },
    {
      "cell_type": "code",
      "source": [
        "3. What modes do File objects for reader and writer objects need to be opened in?\n",
        "Ans: For csv.reader(iterable_file_object), the file objects needed to be opened in read mode mode='r' Whereas for csv.writer(iterable_file_object) the file objects needed to be opened in write mode mode='w'"
      ],
      "metadata": {
        "id": "cQdFncK4snub"
      },
      "execution_count": null,
      "outputs": []
    },
    {
      "cell_type": "code",
      "source": [
        "4. What method takes a list argument and writes it to a CSV file?\n",
        "Ans: csv.writer class provides two methods for writing to CSV. They are writerow() and writerows(). writerow() method writes a single row at a time. Whereas writerows() method is used to write multiple rows at a time."
      ],
      "metadata": {
        "id": "tZocwhHCsnxf"
      },
      "execution_count": null,
      "outputs": []
    },
    {
      "cell_type": "code",
      "source": [
        "5. What do the keyword arguments delimiter and line terminator do?\n",
        "Here ',' is Delimiter. We can use any Character as per our needs if required. Similarly Line Terminator comes at end of line by default it is newline and can be changed accourding to Requirement."
      ],
      "metadata": {
        "id": "nWOUMDa49gDK"
      },
      "execution_count": null,
      "outputs": []
    },
    {
      "cell_type": "code",
      "source": [
        "6. What function takes a string of JSON data and returns a Python data structure?\n",
        "Ans: loads() method takes a string of JSON data and returns a Python data structure"
      ],
      "metadata": {
        "id": "qCOsfnCPZNNy"
      },
      "execution_count": null,
      "outputs": []
    },
    {
      "cell_type": "code",
      "source": [
        "7. What function takes a Python data structure and returns a string of JSON data?\n",
        "Ans: dumps() method takes a python data structure and returns a string of JSON data"
      ],
      "metadata": {
        "id": "5Bygs1qAZNQY"
      },
      "execution_count": null,
      "outputs": []
    }
  ]
}