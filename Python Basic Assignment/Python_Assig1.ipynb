{
  "nbformat": 4,
  "nbformat_minor": 0,
  "metadata": {
    "colab": {
      "name": "Python_Assig1.ipynb",
      "provenance": [],
      "collapsed_sections": []
    },
    "kernelspec": {
      "name": "python3",
      "display_name": "Python 3"
    },
    "language_info": {
      "name": "python"
    }
  },
  "cells": [
    {
      "cell_type": "code",
      "execution_count": null,
      "metadata": {
        "id": "D5sadO-CiOAx"
      },
      "outputs": [],
      "source": [
        "1. In the below elements which of them are values or an expression? eg:- values can be integer or string and expressions will be mathematical operators.\n",
        "* expression\n",
        "'hello' values\n",
        "-87.8 values\n",
        "- expression\n",
        "/ expression\n",
        "+\texpression\n",
        "6 values\n"
      ]
    },
    {
      "cell_type": "code",
      "source": [
        "2. What is the difference between string and variable?\n",
        "variable is used to allocate some information in memory\n",
        "string is used to store what type of information needed\n"
      ],
      "metadata": {
        "id": "ZiI4LTiqjw19"
      },
      "execution_count": null,
      "outputs": []
    },
    {
      "cell_type": "code",
      "source": [
        "3. Describe three different data types.\n",
        "1.Integers – This value is represented by int class. It can store positive or negative whole numbers without any fractions or decimals.\n",
        "2.Float – This value is represented by float class. It is a real number with floating point representation like decimal\n",
        "3.Complex Numbers – Complex number is represented by complex class. For example – 2+3j one part complex and other have imaginary"
      ],
      "metadata": {
        "id": "iD7f_sSLnbwU"
      },
      "execution_count": null,
      "outputs": []
    },
    {
      "cell_type": "code",
      "source": [
        "4.what is an expression made up of? What do all expressions do?\n",
        "expression are made up of mixture of operators,variable and methods.\n",
        "The work of expressions are to evaluate or calculate the method and forward to next step"
      ],
      "metadata": {
        "id": "wDuY1zWJoRhd"
      },
      "execution_count": null,
      "outputs": []
    },
    {
      "cell_type": "code",
      "source": [
        "5. This assignment statements, like spam = 10. What is the difference between an expression and a statement?\n",
        "When there is a expression the interpreter will evaluate it\n",
        "while coming to statement the interpreter doesn't do anything"
      ],
      "metadata": {
        "id": "kLSC7KdYpONF"
      },
      "execution_count": null,
      "outputs": []
    },
    {
      "cell_type": "code",
      "source": [
        "6. After running the following code, what does the variable bacon contain?\n",
        "bacon = 22\n",
        "bacon + 1\n",
        "\n",
        "output =23"
      ],
      "metadata": {
        "colab": {
          "base_uri": "https://localhost:8080/"
        },
        "id": "VBcLlLCBpRNX",
        "outputId": "4e54b590-e63a-4cbe-c000-a57b789c58c7"
      },
      "execution_count": 1,
      "outputs": [
        {
          "output_type": "execute_result",
          "data": {
            "text/plain": [
              "23"
            ]
          },
          "metadata": {},
          "execution_count": 1
        }
      ]
    },
    {
      "cell_type": "code",
      "source": [
        "7. What should the values of the following two terms be?\n",
        "'spam' + 'spamspam' = spamspamspam\n",
        "'spam' * 3 = spamspamspam  \n"
      ],
      "metadata": {
        "id": "QYfxKG-lpReD"
      },
      "execution_count": null,
      "outputs": []
    },
    {
      "cell_type": "code",
      "source": [
        "8. Why is eggs a valid variable name while 100 is invalid?\n",
        "because variable sshoule be start with Uppercase or lowercase aplhabet and some special characters (_) not with numbers,so egg is valid meanwhile 100 is invalid "
      ],
      "metadata": {
        "id": "m6vLBzCjpSAb"
      },
      "execution_count": null,
      "outputs": []
    },
    {
      "cell_type": "code",
      "source": [
        "9. What three functions can be used to get the integer, floating-point number, or string version of a value?\n",
        " int() , float() and str( )"
      ],
      "metadata": {
        "id": "8eC1c28RpSMI"
      },
      "execution_count": null,
      "outputs": []
    },
    {
      "cell_type": "code",
      "source": [
        "10. Why does this expression cause an error? How can you fix it?\n",
        "'I have eaten ' + 99 + ' burritos.'\n",
        "The above expession is caused error because in python we can concatenate str to str not str to int.str (not \"int\") to str\n",
        "We can fix it by\n",
        "'I have eaten ' + str('99') + ' burritos.'"
      ],
      "metadata": {
        "id": "VW3EYijYpShx"
      },
      "execution_count": null,
      "outputs": []
    }
  ]
}