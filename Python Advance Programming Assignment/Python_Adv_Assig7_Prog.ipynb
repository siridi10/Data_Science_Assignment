{
  "nbformat": 4,
  "nbformat_minor": 0,
  "metadata": {
    "colab": {
      "name": "Python_Adv_Assig7_Prog.ipynb",
      "provenance": [],
      "collapsed_sections": []
    },
    "kernelspec": {
      "name": "python3",
      "display_name": "Python 3"
    },
    "language_info": {
      "name": "python"
    }
  },
  "cells": [
    {
      "cell_type": "code",
      "execution_count": 19,
      "metadata": {
        "id": "vaYRbe4LsSdX",
        "colab": {
          "base_uri": "https://localhost:8080/"
        },
        "outputId": "dc7e3bae-397d-4ce7-b842-f6b88d5a6847"
      },
      "outputs": [
        {
          "output_type": "stream",
          "name": "stdout",
          "text": [
            "2\n",
            "3\n",
            "5\n"
          ]
        }
      ],
      "source": [
        "# 1. Write a function that counts how many concentric layers a rug.\n",
        "# Examples:\n",
        "# count_layers([\"AAAA\",\"ABBA\",\"AAAA\"]) ➞ 2\n",
        "# count_layers([\"AAAAAAAAA\",\"ABBBBBBBA\",\"ABBAAABBA\",\"ABBBBBBBA\",\"AAAAAAAAA\"]) ➞ 3\n",
        "# count_layers([\"AAAAAAAAAAA\",\"AABBBBBBBAA\",\"AABCCCCCBAA\",\"AABCAAACBAA\",\"AABCADACBAA\",\"AABCAAACBAA\",\"AABCCCCCBAA\",\"AABBBBBBBAA\",\"AAAAAAAAAAA\"]) ➞ 5\n",
        "\n",
        "def count_layers(in_put):\n",
        "  out=[]\n",
        "  for i in in_put:\n",
        "    if i not in out:\n",
        "      out.append(i)\n",
        "  return(len(out))\n",
        "print(count_layers([\"AAAA\",\"ABBA\",\"AAAA\"]))\n",
        "print(count_layers([\"AAAAAAAAA\",\"ABBBBBBBA\",\"ABBAAABBA\",\"ABBBBBBBA\",\"AAAAAAAAA\"]))\n",
        "print(count_layers([\"AAAAAAAAAAA\",\"AABBBBBBBAA\",\"AABCCCCCBAA\",\"AABCAAACBAA\",\"AABCADACBAA\",\"AABCAAACBAA\",\"AABCCCCCBAA\",\"AABBBBBBBAA\",\"AAAAAAAAAAA\"]))"
      ]
    },
    {
      "cell_type": "code",
      "source": [
        "# 2. There are many different styles of music and many albums exhibit multiple styles. Create a function that takes a list of musical styles from albums and returns how many styles are unique.\n",
        "# Examples:\n",
        "# unique_styles([\n",
        "#   \"Dub,Dancehall\",\n",
        "#   \"Industrial,Heavy Metal\",\n",
        "#   \"Techno,Dubstep\",\n",
        "#   \"Synth-pop,Euro-Disco\",\n",
        "#   \"Industrial,Techno,Minimal\"\n",
        "# ]) ➞ 9\n",
        "# unique_styles([\n",
        "#   \"Soul\",\n",
        "#   \"House,Folk\",\n",
        "#   \"Trance,Downtempo,Big Beat,House\",\n",
        "#   \"Deep House\",\n",
        "#   \"Soul\"\n",
        "# ]) ➞ 7\n",
        "\n",
        "def unique_styles(in_lst):\n",
        "  out=[]\n",
        "  for i in in_lst:\n",
        "    for sub_i in i.split(','):\n",
        "      out.append(sub_i)\n",
        "  return len(set(out))\n",
        "\n",
        "print(unique_styles([\n",
        "  \"Dub,Dancehall\",\n",
        "  \"Industrial,Heavy Metal\",\n",
        "  \"Techno,Dubstep\",\n",
        "  \"Synth-pop,Euro-Disco\",\n",
        "  \"Industrial,Techno,Minimal\"\n",
        "]))\n",
        "print(unique_styles([\"Soul\",\"House,Folk\",\"Trance,Downtempo,Big Beat,House\",\"Deep House\",\"Soul\"]))"
      ],
      "metadata": {
        "id": "kx9QUM-Vs09H",
        "colab": {
          "base_uri": "https://localhost:8080/"
        },
        "outputId": "f80e22d5-2c65-4aba-aca1-e0cc335f1001"
      },
      "execution_count": 23,
      "outputs": [
        {
          "output_type": "stream",
          "name": "stdout",
          "text": [
            "9\n",
            "7\n"
          ]
        }
      ]
    },
    {
      "cell_type": "code",
      "source": [
        "# 3. Create a function that finds a target number in a list of prime numbers. Implement a binary search algorithm in your function. The target number will be from 2 through 97. If the target is prime then return \"yes\" else return \"no\".\n",
        "# Examples:\n",
        "# primes = [2, 3, 5, 7, 11, 13, 17, 19, 23, 29, 31, 37, 41, 43, 47, 53, 59, 61, 67, 71, 73, 79, 83, 89, 97]\n",
        "# is_prime(primes, 3) ➞ \"yes\"\n",
        "# is_prime(primes, 4) ➞ \"no\"\n",
        "# is_prime(primes, 67) ➞ \"yes\"\n",
        "# is_prime(primes, 36) ➞ \"no\"\n",
        "\n",
        "primes = [2, 3, 5, 7, 11, 13, 17, 19, 23, 29, 31, 37, 41, 43, 47, 53, 59, 61, 67, 71, 73, 79, 83, 89, 97]\n",
        "\n",
        "def is_prime(in_list,in_num):\n",
        "    output = 'No'\n",
        "    start_point = 0\n",
        "    end_point = len(in_list) - 1\n",
        "    mid_point = 0\n",
        "    while start_point <= end_point:\n",
        "        mid_point = (end_point+start_point)//2\n",
        "        if in_list[mid_point] < in_num:\n",
        "            start_point = mid_point + 1\n",
        "        elif in_list[mid_point] > in_num:\n",
        "            end_point = mid_point - 1\n",
        "        else:\n",
        "            output = 'Yes'\n",
        "            break\n",
        "    return output\n",
        "\n",
        "print(is_prime(primes, 3))\n",
        "print(is_prime(primes, 4))\n",
        "print(is_prime(primes, 67))\n",
        "print(is_prime(primes, 36))"
      ],
      "metadata": {
        "id": "4WRcpt7Ds1D5",
        "colab": {
          "base_uri": "https://localhost:8080/"
        },
        "outputId": "6726de36-9ae4-444b-ad23-9219e1ac71bf"
      },
      "execution_count": 24,
      "outputs": [
        {
          "output_type": "stream",
          "name": "stdout",
          "text": [
            "Yes\n",
            "No\n",
            "Yes\n",
            "No\n"
          ]
        }
      ]
    },
    {
      "cell_type": "code",
      "source": [
        "# 4. Create a function that takes in n, a, b and returns the number of positive values raised to the nth power that lie in the range [a, b], inclusive.\n",
        "# Examples:\n",
        "# power_ranger(2, 49, 65) ➞ 2\n",
        "# # 2 squares (n^2) lie between 49 and 65, 49 (7^2) and 64 (8^2)\n",
        "\n",
        "# power_ranger(3, 1, 27) ➞ 3\n",
        "# # 3 cubes (n^3) lie between 1 and 27, 1 (1^3), 8 (2^3) and 27 (3^3)\n",
        "\n",
        "# power_ranger(10, 1, 5) ➞ 1\n",
        "# # 1 value raised to the 10th power lies between 1 and 5, 1 (1^10)\n",
        "\n",
        "# power_ranger(5, 31, 33) ➞ 1\n",
        "# power_ranger(4, 250, 1300) ➞ 3\n",
        "\n",
        "import math\n",
        "def power_ranger(in_base,in_min,in_max):\n",
        "    output = []\n",
        "    for ele in range(in_min,in_max+1):\n",
        "        root = round(math.exp(math.log(ele)/in_base),1)\n",
        "        if str(root).split(\".\")[1] == '0':\n",
        "            output.append(int(root))\n",
        "    print(f'power_ranger{in_base,in_min,in_max} ➞ {len(set(output))}')\n",
        "\n",
        "power_ranger(2, 49, 65)\n",
        "power_ranger(3, 1, 27)\n",
        "power_ranger(10, 1, 5)\n",
        "power_ranger(5, 31, 33)\n",
        "power_ranger(4, 250, 1300)"
      ],
      "metadata": {
        "id": "qkfkJzUas1JX",
        "colab": {
          "base_uri": "https://localhost:8080/"
        },
        "outputId": "22474de8-5ca2-4b3b-86eb-b742cd505057"
      },
      "execution_count": 25,
      "outputs": [
        {
          "output_type": "stream",
          "name": "stdout",
          "text": [
            "power_ranger(2, 49, 65) ➞ 2\n",
            "power_ranger(3, 1, 27) ➞ 3\n",
            "power_ranger(10, 1, 5) ➞ 1\n",
            "power_ranger(5, 31, 33) ➞ 1\n",
            "power_ranger(4, 250, 1300) ➞ 3\n"
          ]
        }
      ]
    },
    {
      "cell_type": "code",
      "source": [
        "# 5. Given a number, return the difference between the maximum and minimum numbers that can be formed when the digits are rearranged.\n",
        "# Examples:\n",
        "# rearranged_difference(972882) ➞ 760833\n",
        "# # 988722 - 227889 = 760833\n",
        "# rearranged_difference(3320707) ➞ 7709823\n",
        "# # 7733200 - 23377 = 7709823\n",
        "# rearranged_difference(90010) ➞ 90981\n",
        "# # 91000 - 19 = 90981\n",
        "\n",
        "def rearranged_difference(in_num):\n",
        "    split_num = []\n",
        "    for ele in str(in_num):\n",
        "        split_num.append(ele)\n",
        "    min_num = int(''.join(sorted(split_num))) \n",
        "    max_num = int(''.join(sorted(split_num, reverse=True)))\n",
        "    print(f'rearranged_difference({in_num}) ➞ {max_num} - {min_num} ➞ {max_num-min_num}')\n",
        "    \n",
        "rearranged_difference(972882)    \n",
        "rearranged_difference(3320707)\n",
        "rearranged_difference(90010)"
      ],
      "metadata": {
        "id": "MC9t4taRs_Wu",
        "colab": {
          "base_uri": "https://localhost:8080/"
        },
        "outputId": "a837044f-c2d4-4799-89ff-a95528b5aeb5"
      },
      "execution_count": 26,
      "outputs": [
        {
          "output_type": "stream",
          "name": "stdout",
          "text": [
            "rearranged_difference(972882) ➞ 988722 - 227889 ➞ 760833\n",
            "rearranged_difference(3320707) ➞ 7733200 - 23377 ➞ 7709823\n",
            "rearranged_difference(90010) ➞ 91000 - 19 ➞ 90981\n"
          ]
        }
      ]
    },
    {
      "cell_type": "code",
      "source": [
        ""
      ],
      "metadata": {
        "id": "-TVYCAjXASQa"
      },
      "execution_count": null,
      "outputs": []
    }
  ]
}