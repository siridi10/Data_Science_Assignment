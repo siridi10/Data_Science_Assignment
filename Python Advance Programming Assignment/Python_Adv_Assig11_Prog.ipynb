{
  "nbformat": 4,
  "nbformat_minor": 0,
  "metadata": {
    "colab": {
      "name": "Python_Adv_Assig11_Prog.ipynb",
      "provenance": [],
      "collapsed_sections": []
    },
    "kernelspec": {
      "name": "python3",
      "display_name": "Python 3"
    },
    "language_info": {
      "name": "python"
    }
  },
  "cells": [
    {
      "cell_type": "code",
      "execution_count": null,
      "metadata": {
        "id": "vaYRbe4LsSdX",
        "colab": {
          "base_uri": "https://localhost:8080/"
        },
        "outputId": "42b8e490-eb5d-4623-8a2a-8a99fe25db6e"
      },
      "outputs": [
        {
          "output_type": "stream",
          "name": "stdout",
          "text": [
            "filter_primes([7, 9, 3, 9, 10, 11, 27]) ➞ [7, 3, 11]\n",
            "filter_primes([10007, 1009, 1007, 27, 147, 77, 1001, 70]) ➞ [10007, 1009]\n",
            "filter_primes([1009, 10, 10, 10, 3, 33, 9, 4, 1, 61, 63, 69, 1087, 1091, 1093, 1097]) ➞ [1009, 3, 61, 1087, 1091, 1093, 1097]\n"
          ]
        }
      ],
      "source": [
        "# 1. Create a function that takes a list and returns a new list containing only prime numbers.\n",
        "# Examples\n",
        "# filter_primes([7, 9, 3, 9, 10, 11, 27]) ➞ [7, 3, 11]\n",
        "# filter_primes([10007, 1009, 1007, 27, 147, 77, 1001, 70]) ➞ [10007, 1009]\n",
        "# filter_primes([1009, 10, 10, 10, 3, 33, 9, 4, 1, 61, 63, 69, 1087, 1091, 1093,\n",
        "# 1097]) ➞ [1009, 3, 61, 1087, 1091, 1093, 1097]\n",
        "\n",
        "def filter_primes(in_list):\n",
        "    out_list = []\n",
        "    for ele in in_list:\n",
        "        if ele in [2,3]:\n",
        "            out_list.append(ele)\n",
        "        elif ((ele+1)%6 == 0) or ((ele-1)%6 == 0) and ele != 1:\n",
        "            out_list.append(ele)\n",
        "    temp = out_list.copy()\n",
        "    for ele in temp:\n",
        "        for num in range(2,ele):\n",
        "            if ele%num == 0:\n",
        "                out_list.remove(ele)\n",
        "                break        \n",
        "    print(f'filter_primes({in_list}) ➞ {out_list}')\n",
        "    \n",
        "filter_primes([7, 9, 3, 9, 10, 11, 27])\n",
        "filter_primes([10007, 1009, 1007, 27, 147, 77, 1001, 70])\n",
        "filter_primes([1009, 10, 10, 10, 3, 33, 9, 4, 1, 61, 63, 69, 1087, 1091, 1093, 1097])\n"
      ]
    },
    {
      "cell_type": "code",
      "source": [
        "# Q2. Once a water balloon pops, is soaks the area around it. The ground gets drier the further away you travel from the balloon.\n",
        "# The effect of a water balloon popping can be modeled using a list. Create a function that takes a list which takes the pre-pop state and returns the state after the balloon is popped. The pre-pop state will contain at most a single balloon, whose size is represented by the only non-zero element.\n",
        "# Examples:\n",
        "# pop([0, 0, 0, 0, 4, 0, 0, 0, 0]) ➞ [0, 1, 2, 3, 4, 3, 2, 1, 0]\n",
        "# pop([0, 0, 0, 3, 0, 0, 0]) ➞ [0, 1, 2, 3, 2, 1, 0]\n",
        "# pop([0, 0, 2, 0, 0]) ➞ [0, 1, 2, 1, 0]\n",
        "# pop([0]) ➞ [0]\n",
        "\n",
        "def pop(in_list):\n",
        "    pop_number = sorted(in_list,reverse=True)[0]\n",
        "    output = []\n",
        "    if pop_number == 0:\n",
        "        output.append(0)\n",
        "    else:\n",
        "        output.extend([x for x in range((len(in_list)-1)//2)])\n",
        "        output.append(pop_number)\n",
        "        output.extend([((len(in_list)-2)//2)-x for x in range((len(in_list)-1)//2)])\n",
        "    print(f'pop({in_list}) ➞ {output}')\n",
        "    \n",
        "pop([0, 0, 0, 0, 4, 0, 0, 0, 0])\n",
        "pop([0, 0, 0, 3, 0, 0, 0])\n",
        "pop([0, 0, 2, 0, 0])\n",
        "pop([0])"
      ],
      "metadata": {
        "id": "kx9QUM-Vs09H",
        "colab": {
          "base_uri": "https://localhost:8080/"
        },
        "outputId": "f24d3957-d366-4b69-88fe-57fc284dd522"
      },
      "execution_count": null,
      "outputs": [
        {
          "output_type": "stream",
          "name": "stdout",
          "text": [
            "pop([0, 0, 0, 0, 4, 0, 0, 0, 0]) ➞ [0, 1, 2, 3, 4, 3, 2, 1, 0]\n",
            "pop([0, 0, 0, 3, 0, 0, 0]) ➞ [0, 1, 2, 3, 2, 1, 0]\n",
            "pop([0, 0, 2, 0, 0]) ➞ [0, 1, 2, 1, 0]\n",
            "pop([0]) ➞ [0]\n"
          ]
        }
      ]
    },
    {
      "cell_type": "code",
      "source": [
        "# Q3. \"Loves me, loves me not\" is a traditional game in which a person plucks off all the petals of a flower one by one, saying the phrase \"Loves me\" and \"Loves me not\" when determining whether the one that they love, loves them back.\n",
        "# Given a number of petals, return a string which repeats the phrases \"Loves me\" and \"Loves me not\" for every alternating petal, and return the last phrase in all caps. Remember to put a comma and space between phrases.\n",
        "# Examples:\n",
        "\n",
        "# loves_me(3) ➞ \"Loves me, Loves me not, LOVES ME\"\n",
        "# loves_me(6) ➞ \"Loves me, Loves me not, Loves me, Loves me not, Loves me, LOVES ME NOT\"\n",
        "# loves_me(1) ➞ \"LOVES ME\"\n",
        "\n",
        "def loves_me(in_put):\n",
        "  out_lst=[]\n",
        "  for ele in range(in_put):\n",
        "    if ele%2==0:\n",
        "      out_lst.append('Loves me')\n",
        "    else:\n",
        "      out_lst.append('Loves me not')\n",
        "  out_lst[-1]=out_lst[-1].upper()\n",
        "  print(f'loves_me({in_put}) ➞ {\", \".join(out_lst)}')\n",
        "loves_me(3)\n",
        "loves_me(6)\n",
        "loves_me(1)\n"
      ],
      "metadata": {
        "id": "4WRcpt7Ds1D5",
        "colab": {
          "base_uri": "https://localhost:8080/"
        },
        "outputId": "4b34deaa-0c8c-4a93-fd82-d1548f8f05fb"
      },
      "execution_count": null,
      "outputs": [
        {
          "output_type": "stream",
          "name": "stdout",
          "text": [
            "loves_me(3) ➞ Loves me, Loves me not, LOVES ME\n",
            "loves_me(6) ➞ Loves me, Loves me not, Loves me, Loves me not, Loves me, LOVES ME NOT\n",
            "loves_me(1) ➞ LOVES ME\n"
          ]
        }
      ]
    },
    {
      "cell_type": "code",
      "source": [
        "# Q4. Given a common phrase, return False if any individual word in the phrase contains duplicate letters. Return True otherwise.\n",
        "# Examples:\n",
        "# no_duplicate_letters(\"Fortune favours the bold.\") ➞ True\n",
        "# no_duplicate_letters(\"You can lead a horse to water, but you can't make him drink.\") ➞ True\n",
        "# no_duplicate_letters(\"Look before you leap.\") ➞ False\n",
        "# # Duplicate letters in \"Look\" and \"before\".\n",
        "# no_duplicate_letters(\"An apple a day keeps the doctor away.\") ➞ False\n",
        "# # Duplicate letters in \"apple\", \"keeps\", \"doctor\", and \"away\".\n",
        "\n",
        "def no_duplicate_letters(in_string):\n",
        "    out_put = None\n",
        "    for ele in in_string.split(' '):\n",
        "        if len(ele) == len(set(ele)):\n",
        "            out_put = True\n",
        "        else:\n",
        "            out_put = False\n",
        "            break\n",
        "    print(f'no_duplicate_letters({in_string}) ➞ {out_put}')\n",
        "    \n",
        "no_duplicate_letters(\"Fortune favours the bold.\")\n",
        "no_duplicate_letters(\"You can lead a horse to water, but you can't make him drink.\")\n",
        "no_duplicate_letters(\"Look before you leap.\")\n",
        "no_duplicate_letters(\"An apple a day keeps the doctor away.\")\n"
      ],
      "metadata": {
        "id": "qkfkJzUas1JX",
        "colab": {
          "base_uri": "https://localhost:8080/"
        },
        "outputId": "7e80e825-be91-4001-e4ce-4cfb9082cf81"
      },
      "execution_count": null,
      "outputs": [
        {
          "output_type": "stream",
          "name": "stdout",
          "text": [
            "no_duplicate_letters(Fortune favours the bold.) ➞ True\n",
            "no_duplicate_letters(You can lead a horse to water, but you can't make him drink.) ➞ True\n",
            "no_duplicate_letters(Look before you leap.) ➞ False\n",
            "no_duplicate_letters(An apple a day keeps the doctor away.) ➞ False\n"
          ]
        }
      ]
    },
    {
      "cell_type": "code",
      "source": [
        "# Q5. Write a regular expression that will match the states that voted yes to President Trump's impeachment. You must use RegEx positive lookahead.\n",
        "# Examples:\n",
        "# txt = \"Texas = no, California = yes, Florida = yes, Michigan = no\"\n",
        "# pattern = \"yourregularexpressionhere\"\n",
        "# re.findall(pattern, txt) ➞ [\"California\", \"Florida\"]\n",
        "\n",
        "import re\n",
        "txt = \"Texas = no, California = yes, Florida = yes, Michigan = no\"\n",
        "pattern = r'\\w+(?=\\s=\\syes*)'\n",
        "match = re.findall(pattern,txt)\n",
        "print(f're.findall{pattern,txt} ➞ {match}')"
      ],
      "metadata": {
        "id": "MC9t4taRs_Wu",
        "colab": {
          "base_uri": "https://localhost:8080/"
        },
        "outputId": "5f2ac003-7c30-4c4d-b51c-61b83573c224"
      },
      "execution_count": null,
      "outputs": [
        {
          "output_type": "stream",
          "name": "stdout",
          "text": [
            "re.findall('\\\\w+(?=\\\\s=\\\\syes*)', 'Texas = no, California = yes, Florida = yes, Michigan = no') ➞ ['California', 'Florida']\n"
          ]
        }
      ]
    },
    {
      "cell_type": "code",
      "source": [
        ""
      ],
      "metadata": {
        "id": "-TVYCAjXASQa"
      },
      "execution_count": null,
      "outputs": []
    }
  ]
}