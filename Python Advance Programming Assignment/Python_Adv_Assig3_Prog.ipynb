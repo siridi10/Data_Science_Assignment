{
  "nbformat": 4,
  "nbformat_minor": 0,
  "metadata": {
    "colab": {
      "name": "Python_Adv_Assig3_Prog.ipynb",
      "provenance": [],
      "collapsed_sections": []
    },
    "kernelspec": {
      "name": "python3",
      "display_name": "Python 3"
    },
    "language_info": {
      "name": "python"
    }
  },
  "cells": [
    {
      "cell_type": "code",
      "execution_count": 3,
      "metadata": {
        "id": "vaYRbe4LsSdX",
        "colab": {
          "base_uri": "https://localhost:8080/"
        },
        "outputId": "13c90b07-86ad-44a5-ec3e-bf872e06aac3"
      },
      "outputs": [
        {
          "name": "stdout",
          "output_type": "stream",
          "text": [
            "Selection\n",
            "1.Add\n",
            "2.Mul\n",
            "3.Div\n",
            "4.Sub\n",
            "Enter choice(1/2/3/4): 1\n",
            "Enter first number: 34\n",
            "Enter second number: 0\n",
            "34.0 + 0.0 = 34.0\n",
            "Let's do next calculation? (yes/no): 3\n",
            "Invalid Input\n",
            "Enter choice(1/2/3/4): 3\n",
            "Enter first number: 23\n",
            "Enter second number: 0\n",
            "-1\n",
            "Let's do next calculation? (yes/no): no\n"
          ]
        }
      ],
      "source": [
        "1. Create a function to perform basic arithmetic operations that includes addition, subtraction, multiplication and division on a string number (e.g. \"12 + 24\" or \"23 - 21\" or \"12 // 12\" or \"12 * 21\").\n",
        "Here, we have 1 followed by a space, operator followed by another space and 2. For the challenge, we are going to have only two numbers between 1 valid operator. The return value should be a number.\n",
        "eval() is not allowed. In case of division, whenever the second number equals \"0\" return -1.\n",
        "\n",
        "def add(x,y):\n",
        "  return x+y\n",
        "def mul(x,y):\n",
        "  return x*y\n",
        "def div(x,y):\n",
        "  return x/y\n",
        "def sub(x,y):\n",
        "  return x-y\n",
        "\n",
        "print(\"Selection\")\n",
        "print(\"1.Add\")\n",
        "print(\"2.Mul\")\n",
        "print(\"3.Div\")\n",
        "print(\"4.Sub\")\n",
        "\n",
        "while True:\n",
        "  option = input(\"Enter choice(1/2/3/4): \")\n",
        "  if option in ('1', '2', '3', '4'):\n",
        "        num1 = float(input(\"Enter first number: \"))\n",
        "        num2 = float(input(\"Enter second number: \"))\n",
        "\n",
        "        if option == '1':\n",
        "            print(num1, \"+\", num2, \"=\", add(num1, num2))\n",
        "\n",
        "        elif option == '2':\n",
        "            print(num1, \"*\", num2, \"=\", mul(num1, num2))\n",
        "\n",
        "        elif option == '3':\n",
        "          if num2==0:\n",
        "            print( -1)\n",
        "          else:\n",
        "            print(num1, \"/\", num2, \"=\", div(num1, num2))\n",
        "\n",
        "        elif option == '4':\n",
        "            print(num1, \"-\", num2, \"=\", sub(num1, num2))\n",
        "        \n",
        "\n",
        "        next_calculation = input(\"Let's do next calculation? (yes/no): \")\n",
        "        if next_calculation == \"no\":\n",
        "          break\n",
        "        else:\n",
        "          print(\"Invalid Input\")"
      ]
    },
    {
      "cell_type": "code",
      "source": [
        "2. Write a function that takes the coordinates of three points in the form of a 2d array and returns the perimeter of the triangle. The given points are the vertices of a triangle on a two-dimensional plane.\n",
        "\n",
        "Examples\n",
        "\n",
        "perimeter( [ [15, 7], [5, 22], [11, 1] ] ) ➞ 47.08\n",
        "\n",
        "perimeter( [ [0, 0], [0, 1], [1, 0] ] ) ➞ 3.42\n",
        "\n",
        "perimeter( [ [-10, -10], [10, 10 ], [-10, 10] ] ) ➞ 68.28\n",
        "\n",
        "import math\n",
        "class JavaCode :\n",
        "    @staticmethod\n",
        "    def main( args) :\n",
        "        x2 = 0\n",
        "        temp = 0.0\n",
        "        print(\"Enter 2D array size : \", end =\"\")\n",
        "        sc =  \"Python-inputs\"\n",
        "        rows = input()\n",
        "        columns = input()\n",
        "        k = 0\n",
        "        while (k <= 2) :\n",
        "            print(\"Enter array elements : \")\n",
        "            twoD = [[0] * (columns) for _ in range(rows)]\n",
        "            i = 0\n",
        "            while (i < rows) :\n",
        "                j = 0\n",
        "                while (j < columns) :\n",
        "                    twoD[i][j] = input()\n",
        "                    j += 1\n",
        "                i += 1\n",
        "            print(\"\\nData you entered : \\n\", end =\"\")\n",
        "            for x in twoD :\n",
        "                for y in x :\n",
        "                    print(str(y) + \"        \", end =\"\")\n",
        "                print()\n",
        "            xv = 0\n",
        "            while (xv < rows) :\n",
        "                # System.out.println(twoD[xv][0]);\n",
        "                # System.out.println(twoD[xv+1][0]);\n",
        "                print(\"coorinate minus values \" + str((twoD[0][xv] - twoD[1][xv])))\n",
        "                x1 = (twoD[0][xv] - twoD[1][xv]) * (twoD[0][xv] - twoD[1][xv])\n",
        "                print(\"coorinate minus values squares\" + str(x1))\n",
        "                x2 = x2 + x1\n",
        "                print(\"coorinate minus values squares total\" + str(x2))\n",
        "                xv += 1\n",
        "            temp = temp + Single(mathsqrt(x2))\n",
        "            x2 = 0\n",
        "            print(\"squre root of values\" + str(temp))\n",
        "            k += 1\n",
        "        print(\"final answer \" + str(temp))\n",
        "    \n",
        "\n",
        "if __name__==\"__main__\":\n",
        "    JavaCode.main([])\n",
        "\n",
        " "
      ],
      "metadata": {
        "id": "kx9QUM-Vs09H"
      },
      "execution_count": 2,
      "outputs": []
    },
    {
      "cell_type": "code",
      "source": [
        "3. A city skyline can be represented as a 2-D list with 1s representing buildings. In the example below, the height of the tallest building is 4 (second-most right column).\n",
        "\n",
        "[[0, 0, 0, 0, 0, 0],\n",
        "[0, 0, 0, 0, 1, 0],\n",
        "[0, 0, 1, 0, 1, 0],\n",
        "[0, 1, 1, 1, 1, 0],\n",
        "[1, 1, 1, 1, 1, 1]]\n",
        "\n",
        "Create a function that takes a skyline (2-D list of 0's and 1's) and returns the height of the tallest skyscraper.\n",
        "\n",
        "Examples\n",
        "\n",
        "tallest_skyscraper([\n",
        "[0, 0, 0, 0],\n",
        "[0, 1, 0, 0],\n",
        "[0, 1, 1, 0],\n",
        "[1, 1, 1, 1]\n",
        "]) ➞ 3\n",
        "\n",
        "tallest_skyscraper([\n",
        "[0, 1, 0, 0],\n",
        "[0, 1, 0, 0],\n",
        "[0, 1, 1, 0],\n",
        "[1, 1, 1, 1]\n",
        "]) ➞ 4\n",
        "\n",
        "tallest_skyscraper([\n",
        "[0, 0, 0, 0],\n",
        "[0, 0, 0, 0],\n",
        "[1, 1, 1, 0],\n",
        "[1, 1, 1, 1]\n",
        "]) ➞ 2\n",
        "\n",
        "\n",
        "class TwoDArrayInput :\n",
        "    @staticmethod\n",
        "    def main( args) :\n",
        "        print(\"Enter 2D array size : \", end =\"\")\n",
        "        high1value = 0\n",
        "        low = 0\n",
        "        sc =  \"Python-inputs\"\n",
        "        rows = input()\n",
        "        columns = input()\n",
        "        count = 0\n",
        "        finalvaluev = 0\n",
        "        print(\"Enter array elements : \")\n",
        "        twoD = [[0] * (columns) for _ in range(rows)]\n",
        "        i = 0\n",
        "        while (i < rows) :\n",
        "            j = 0\n",
        "            while (j < columns) :\n",
        "                twoD[i][j] = input()\n",
        "                j += 1\n",
        "            i += 1\n",
        "        print(\"\\nData you entered : \\n\", end =\"\")\n",
        "        for x in twoD :\n",
        "            for y in x :\n",
        "                print(str(y) + \"        \", end =\"\")\n",
        "            print()\n",
        "        j = 0\n",
        "        while (j < columns) :\n",
        "            i = 0\n",
        "            while (i < rows) :\n",
        "                if (twoD[i][j] == 1) :\n",
        "                    count = count + 1\n",
        "                i += 1\n",
        "            print(\"total 1 in \" + str(j) + \" cloumn \" + str(count))\n",
        "            high1value = count\n",
        "            count = 0\n",
        "            if (high1value >= low) :\n",
        "                low = high1value\n",
        "            j += 1\n",
        "        print(\"final anwser \" + str(low))\n",
        "    \n",
        "\n",
        "if __name__==\"__main__\":\n",
        "    TwoDArrayInput.main([])"
      ],
      "metadata": {
        "id": "4WRcpt7Ds1D5",
        "colab": {
          "base_uri": "https://localhost:8080/"
        },
        "outputId": "9088ff25-5cab-4462-9289-e168d4c10fa3"
      },
      "execution_count": null,
      "outputs": [
        {
          "output_type": "execute_result",
          "data": {
            "text/plain": [
              "False"
            ]
          },
          "metadata": {},
          "execution_count": 17
        }
      ]
    },
    {
      "cell_type": "code",
      "source": [
        "4. A financial institution provides professional services to banks and claims charges from the customers based on the number of man-days provided. Internally, it has set a scheme to motivate and reward staff to meet and exceed targeted billable utilization and revenues by paying a bonus for each day claimed from customers in excess of a threshold target.\n",
        "\n",
        "This quarterly scheme is calculated with a threshold target of 32 days per quarter, and the incentive payment for each billable day in excess of such threshold target is shown as follows:\n",
        "\n",
        "Days\t                             Bonus\n",
        "0 to 32 days\t                   Zero\n",
        "33 to 40 days\t         SGD$325 per billable day\n",
        "41 to 48 days\t         SGD$550 per billable day\n",
        "Greater than 48 days      SGD$600 per billable day\n",
        "\n",
        "Please note that incentive payment is calculated progressively. As an example, if an employee reached total billable days of 45 in a quarter, his/her incentive payment is computed as follows:\n",
        "\n",
        "32*0 + 8*325 + 5*550 = 5350\n",
        "\n",
        "Write a function to read the billable days of an employee and return the bonus he/she has obtained in that quarter.\n",
        "\n",
        "Examples\n",
        "\n",
        "bonus(15) ➞ 0\n",
        "\n",
        "bonus(37) ➞ 1625\n",
        "\n",
        "bonus(50) ➞ 8200\n",
        "\n",
        "def fun4(num):\n",
        "  x=0\n",
        "  if (num<=32):\n",
        "    return x\n",
        "  elif (num>=33 and num<=40):\n",
        "    num = num -32\n",
        "    x=x+(num*325)\n",
        "    return x  \n",
        "  elif (num>=41 and num<=48):\n",
        "    num = num -40\n",
        "    x=x+2600+(num*550)\n",
        "    return x \n",
        "  else:\n",
        "    num = num -48\n",
        "    x=x+7000+(num*600)\n",
        "    return x \n",
        "\n",
        "fun4(37)\n"
      ],
      "metadata": {
        "id": "qkfkJzUas1JX",
        "colab": {
          "base_uri": "https://localhost:8080/"
        },
        "outputId": "1eeec311-97df-4a60-f7e6-f994d43a0812"
      },
      "execution_count": 2,
      "outputs": [
        {
          "output_type": "execute_result",
          "data": {
            "text/plain": [
              "1625"
            ]
          },
          "metadata": {},
          "execution_count": 2
        }
      ]
    },
    {
      "cell_type": "code",
      "source": [
        "5. A number is said to be Disarium if the sum of its digits raised to their\n",
        "respective positions is the number itself.\n",
        "Create a function that determines whether a number is a Disarium or not.\n",
        "\n",
        "\n",
        "def is_disarium(n):    \n",
        "    length = 0;    \n",
        "    while(n != 0):    \n",
        "        length = length + 1;    \n",
        "        n = n//10;    \n",
        "    return length;\n",
        "num = int(input(\"Enter a number \"));\n",
        "rem = sum = 0;    \n",
        "len = is_disarium(num); \n",
        "n = num;    \n",
        "while(num > 0):    \n",
        "    rem = num%10;    \n",
        "    sum = sum + int(rem**len);    \n",
        "    num = num//10;    \n",
        "    len = len - 1;       \n",
        "if(sum == n):    \n",
        "    print(True)    \n",
        "else:    \n",
        "    print(False)\n"
      ],
      "metadata": {
        "id": "MC9t4taRs_Wu",
        "colab": {
          "base_uri": "https://localhost:8080/"
        },
        "outputId": "b577cb27-35a5-49a8-f54b-cff83a7d3eb3"
      },
      "execution_count": 2,
      "outputs": [
        {
          "output_type": "stream",
          "name": "stdout",
          "text": [
            "Enter a number 466\n",
            "False\n"
          ]
        }
      ]
    }
  ]
}