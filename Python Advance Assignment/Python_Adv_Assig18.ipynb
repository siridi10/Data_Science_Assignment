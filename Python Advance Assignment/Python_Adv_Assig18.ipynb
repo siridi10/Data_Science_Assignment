{
  "nbformat": 4,
  "nbformat_minor": 0,
  "metadata": {
    "colab": {
      "name": "Python_Adv_Assig18.ipynb",
      "provenance": []
    },
    "kernelspec": {
      "name": "python3",
      "display_name": "Python 3"
    },
    "language_info": {
      "name": "python"
    }
  },
  "cells": [
    {
      "cell_type": "code",
      "execution_count": null,
      "metadata": {
        "id": "OUuNxFb4sssz"
      },
      "outputs": [],
      "source": [
        "Q1. Describe the differences between text and binary files in a single paragraph.\n",
        "\n",
        "The differences between Text Files and Binary Files are:\n",
        "Text files are special subset of binary files that are used to store human readable characters as a rich text document or plain text document. Text files also store data in sequential bytes but bits in text file represents characters.\n",
        "Binary files are those typical files that store data in the form of sequence of bytes grouped into eight bits or sometimes sixteen bits. These bits represent custom data and such files can store multiple types of data (images, audio, text, etc) under a single file.\n"
      ]
    },
    {
      "cell_type": "code",
      "source": [
        "Q2. What are some scenarios where using text files will be the better option? When would you like to use binary files instead of text files?\n",
        "Text files are less prone to get corrupted as any undesired change may just show up once the file is opened and then can easily be removed. Whereas Use binary files instead of text files for image data.\n"
      ],
      "metadata": {
        "id": "Yb7yWcmbtIF0"
      },
      "execution_count": null,
      "outputs": []
    },
    {
      "cell_type": "code",
      "source": [
        "Q3. What are some of the issues with using binary operations to read and write a Python integer directly to disc?\n",
        "When we read or write a python integer using binary operations\n",
        "Binary operations deal with raw data One needs to identify how many bytes one would read or write.\n",
        "\n"
      ],
      "metadata": {
        "id": "6LcMFaldtIIt"
      },
      "execution_count": null,
      "outputs": []
    },
    {
      "cell_type": "code",
      "source": [
        "Q4. Describe a benefit of using the with keyword instead of explicitly opening a file ?\n",
        " hen a file is opened using the with keyword, if some exceptions occur after opening a file, or at the end of the file it automatically does the closing of the file. There by not leaving an file in open mode and there would no need to explicitly close a file.\n"
      ],
      "metadata": {
        "id": "HiQpvgtWbM2x"
      },
      "execution_count": null,
      "outputs": []
    },
    {
      "cell_type": "code",
      "source": [
        "Q5. Does Python have the trailing newline while reading a line of text? Does Python append a newline when you write a line of text?\n",
        "Yes, Python have the trailing newline while reading a line of text. When we write a newline has to be provided in python excpicitly.\n",
        "\n",
        "Q6. What file operations enable for random-access operation?\n",
        "The file operations enable for random-access operation are seek() and tell()\n",
        "\n",
        "Q7. When do you think you'll use the struct package the most?\n",
        "The struct package is mostly used while converting a common python types into C language types.\n",
        "\n",
        "Q8. When is pickling the best option?\n",
        "Pickling is best option for creating a new binary file using python.\n",
        "\n",
        "Q9. When will it be best to use the shelve package?\n",
        "\n",
        "Shelve package is used to pickle data but treats the entire file as dictionary.\n",
        "\n",
        "Q10. What is a special restriction when using the shelve package, as opposed to using other data dictionaries?\n",
        "\n",
        "Only string data type can be used as key in this special dictionary object, whereas any picklable Python object can be used as value."
      ],
      "metadata": {
        "id": "_1NPCRsyZJhs"
      },
      "execution_count": null,
      "outputs": []
    }
  ]
}