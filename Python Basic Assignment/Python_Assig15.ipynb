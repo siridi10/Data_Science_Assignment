{
  "nbformat": 4,
  "nbformat_minor": 0,
  "metadata": {
    "colab": {
      "name": "Python_Assig15.ipynb",
      "provenance": []
    },
    "kernelspec": {
      "name": "python3",
      "display_name": "Python 3"
    },
    "language_info": {
      "name": "python"
    }
  },
  "cells": [
    {
      "cell_type": "code",
      "execution_count": 1,
      "metadata": {
        "id": "o5dFwMwLr0Gn",
        "colab": {
          "base_uri": "https://localhost:8080/"
        },
        "outputId": "ab3c21c4-b9a7-4353-8fd1-9810de149640"
      },
      "outputs": [
        {
          "output_type": "stream",
          "name": "stdout",
          "text": [
            "3600\n"
          ]
        }
      ],
      "source": [
        "# 1.How many seconds are in an hour? Use the interactive interpreter as a calculator and multiply the number of seconds in a minute (60) by the number of minutes in an hour (also 60).\n",
        "print(60*60)\n"
      ]
    },
    {
      "cell_type": "code",
      "source": [
        "# 2. Assign the result from the previous task (seconds in an hour) to a variable called seconds_per_hour.\n",
        "seconds_per_hour = 60*60\n",
        "print(seconds_per_hour)"
      ],
      "metadata": {
        "id": "ZJsMuVLcsnsU",
        "colab": {
          "base_uri": "https://localhost:8080/"
        },
        "outputId": "18eeabfd-0dc2-4be9-8418-a894767d7b72"
      },
      "execution_count": 2,
      "outputs": [
        {
          "output_type": "stream",
          "name": "stdout",
          "text": [
            "3600\n"
          ]
        }
      ]
    },
    {
      "cell_type": "code",
      "source": [
        "# 3. How many seconds do you think there are in a day? Make use of the variables seconds per hour and minutes per hour.\n",
        "minutes_per_hour = 60\n",
        "print(seconds_per_hour*24)"
      ],
      "metadata": {
        "id": "cQdFncK4snub",
        "colab": {
          "base_uri": "https://localhost:8080/"
        },
        "outputId": "5c9521d9-dd2b-462c-ea78-d0d3e28dd356"
      },
      "execution_count": 3,
      "outputs": [
        {
          "output_type": "stream",
          "name": "stdout",
          "text": [
            "86400\n"
          ]
        }
      ]
    },
    {
      "cell_type": "code",
      "source": [
        "# 4. Calculate seconds per day again, but this time save the result in a variable called seconds_per_day\n",
        "seconds_per_day = 24*60*60\n",
        "print(seconds_per_day)"
      ],
      "metadata": {
        "id": "tZocwhHCsnxf",
        "colab": {
          "base_uri": "https://localhost:8080/"
        },
        "outputId": "45acad96-30c0-4a71-932c-9eb1d431f8d0"
      },
      "execution_count": 4,
      "outputs": [
        {
          "output_type": "stream",
          "name": "stdout",
          "text": [
            "86400\n"
          ]
        }
      ]
    },
    {
      "cell_type": "code",
      "source": [
        "# 5. Divide seconds_per_day by seconds_per_hour. Use floating-point (/) division.\n",
        "print(seconds_per_day/seconds_per_hour)"
      ],
      "metadata": {
        "id": "nWOUMDa49gDK",
        "colab": {
          "base_uri": "https://localhost:8080/"
        },
        "outputId": "048fbc5e-537e-4958-bd2a-9a04ddb71905"
      },
      "execution_count": 5,
      "outputs": [
        {
          "output_type": "stream",
          "name": "stdout",
          "text": [
            "24.0\n"
          ]
        }
      ]
    },
    {
      "cell_type": "code",
      "source": [
        "# 6. Divide seconds_per_day by seconds_per_hour, using integer (//) division. Did this number agree with the floating-point value from the previous question, aside from the final .0?\n",
        "print(seconds_per_day//seconds_per_hour, end='')\n",
        "print(' -> yes this values agree with the floating point value from the previous question')"
      ],
      "metadata": {
        "id": "qCOsfnCPZNNy",
        "colab": {
          "base_uri": "https://localhost:8080/"
        },
        "outputId": "469e2f92-4617-4e65-dde3-aa1d451a8cff"
      },
      "execution_count": 6,
      "outputs": [
        {
          "output_type": "stream",
          "name": "stdout",
          "text": [
            "24 -> yes this values agree with the floating point value from the previous question\n"
          ]
        }
      ]
    },
    {
      "cell_type": "code",
      "source": [
        "# 7. Write a generator, genPrimes, that returns the sequence of prime numbers on successive calls to its next() method: 2, 3, 5, 7, 11, ...\n",
        "def genPrimes():\n",
        "    n = 0\n",
        "    while True:\n",
        "        if n == 2 or n == 3 :\n",
        "            yield n\n",
        "        elif ((n-1)%6 == 0 or (n+1)%6 == 0) and n !=1:\n",
        "            yield n\n",
        "        n = n+1\n",
        "        \n",
        "output = genPrimes()\n",
        "for ele in range(5):\n",
        "    print(next(output))"
      ],
      "metadata": {
        "id": "5Bygs1qAZNQY",
        "colab": {
          "base_uri": "https://localhost:8080/"
        },
        "outputId": "67c92f63-fc42-424c-c1a5-ca35fda9d256"
      },
      "execution_count": 7,
      "outputs": [
        {
          "output_type": "stream",
          "name": "stdout",
          "text": [
            "2\n",
            "3\n",
            "5\n",
            "7\n",
            "11\n"
          ]
        }
      ]
    },
    {
      "cell_type": "code",
      "source": [
        ""
      ],
      "metadata": {
        "id": "imbio1bpMQ8C"
      },
      "execution_count": null,
      "outputs": []
    }
  ]
}