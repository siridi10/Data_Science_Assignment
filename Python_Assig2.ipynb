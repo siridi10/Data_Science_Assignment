{
  "nbformat": 4,
  "nbformat_minor": 0,
  "metadata": {
    "colab": {
      "name": "Python_Assig2.ipynb",
      "provenance": [],
      "collapsed_sections": []
    },
    "kernelspec": {
      "name": "python3",
      "display_name": "Python 3"
    },
    "language_info": {
      "name": "python"
    }
  },
  "cells": [
    {
      "cell_type": "code",
      "execution_count": null,
      "metadata": {
        "id": "D5sadO-CiOAx"
      },
      "outputs": [],
      "source": [
        "1.What are the two values of the Boolean data type? How do you write them?\n",
        "Two values are True and False\n"
      ]
    },
    {
      "cell_type": "code",
      "source": [
        "2. What are the three different types of Boolean operators?\n",
        "The three basic boolean operators are AND, OR, and NOT."
      ],
      "metadata": {
        "id": "ZiI4LTiqjw19"
      },
      "execution_count": null,
      "outputs": []
    },
    {
      "cell_type": "code",
      "source": [
        "3. Make a list of each Boolean operator and it's truth tables (i.e. every possible combination of Boolean\n",
        "values for the operator and what it evaluate ).\n",
        " \n",
        "Here 0=false and 1=true\n",
        "\n",
        "AND Operator\n",
        "0 0 0\n",
        "0 1 0\n",
        "1 0 0\n",
        "1 1 1\n",
        "\n",
        "OR Operotor\n",
        "0 0 0\n",
        "0 1 1\n",
        "1 0 1\n",
        "1 1 1\n",
        "\n",
        "NOT Operator\n",
        "0 1\n",
        "1 0"
      ],
      "metadata": {
        "id": "iD7f_sSLnbwU"
      },
      "execution_count": null,
      "outputs": []
    },
    {
      "cell_type": "code",
      "source": [
        "4. What are the values of the following expressions?\n",
        "(5 > 4) and (3 == 5) False\n",
        "not (5 > 4) False\n",
        "(5 > 4) or (3 == 5) True\n",
        "not ((5 > 4) or (3 == 5)) False\n",
        "(True and True) and (True == False) False\n",
        "(not False) or (not True) True"
      ],
      "metadata": {
        "id": "wDuY1zWJoRhd"
      },
      "execution_count": null,
      "outputs": []
    },
    {
      "cell_type": "code",
      "source": [
        "5. What are the six comparison operators?\n",
        "Less than\n",
        "Equal to\n",
        "Not Equal to\n",
        "Greater than\n",
        "greater than or equal to\n",
        "less than or equal to."
      ],
      "metadata": {
        "id": "kLSC7KdYpONF"
      },
      "execution_count": null,
      "outputs": []
    },
    {
      "cell_type": "code",
      "source": [
        "6. How do you tell the difference between the equal to and assignment operators?Describe a\n",
        "condition and when you would use one.\n",
        "\n",
        "= is an Assignment Operator it is used to assign the value of variable or expression,\n",
        "x=(a+b);\n",
        "y=x;\n",
        "The '==' operator checks whether the two given operands are equal or not. If so, it returns true.\n",
        "int x,y;\n",
        "x=10;\n",
        "y=10;\n",
        "if(x==y)\n",
        "    printf(\"True\");\n",
        "else\n",
        "    printf(\"False\");"
      ],
      "metadata": {
        "colab": {
          "base_uri": "https://localhost:8080/"
        },
        "id": "VBcLlLCBpRNX",
        "outputId": "4e54b590-e63a-4cbe-c000-a57b789c58c7"
      },
      "execution_count": 1,
      "outputs": [
        {
          "output_type": "execute_result",
          "data": {
            "text/plain": [
              "23"
            ]
          },
          "metadata": {},
          "execution_count": 1
        }
      ]
    },
    {
      "cell_type": "code",
      "source": [
        "7. Identify the three blocks in this code:\n",
        "spam = 0\n",
        "if spam == 10:\n",
        "  print(\"eggs\")\n",
        "  if spam > 5:\n",
        "    print(\"bacon\")\n",
        "  else:\n",
        "    print(\"ham\")\n",
        "    print(\"spam\")\n",
        "print(\"spam\")"
      ],
      "metadata": {
        "id": "QYfxKG-lpReD"
      },
      "execution_count": null,
      "outputs": []
    },
    {
      "cell_type": "code",
      "source": [
        "#8. Write code that prints Hello if 1 is stored in spam, prints Howdy if 2 is stored in spam, and prints\n",
        "#Greetings! if anything else is stored in spam.\n",
        "\n",
        "spam = int(input())\n",
        "\n",
        "if spam == 1:\n",
        "    print('Hello')\n",
        "elif spam == 2:\n",
        "    print('Howdy')\n",
        "else:\n",
        "    print('Greetings!')"
      ],
      "metadata": {
        "colab": {
          "base_uri": "https://localhost:8080/"
        },
        "id": "m6vLBzCjpSAb",
        "outputId": "5f475990-923f-4d4a-9efd-443a8e0f18f5"
      },
      "execution_count": 1,
      "outputs": [
        {
          "output_type": "stream",
          "name": "stdout",
          "text": [
            "2\n",
            "Howdy\n"
          ]
        }
      ]
    },
    {
      "cell_type": "code",
      "source": [
        "9.If your programme is stuck in an endless loop, what keys you’ll press?\n",
        "ctrl+c"
      ],
      "metadata": {
        "id": "8eC1c28RpSMI"
      },
      "execution_count": null,
      "outputs": []
    },
    {
      "cell_type": "code",
      "source": [
        "10. How can you tell the difference between break and continue?\n",
        " break is used for immediate termination of loop.\n",
        " continue terminate the current iteration and resumes the control to the next iteration of the loop."
      ],
      "metadata": {
        "id": "VW3EYijYpShx"
      },
      "execution_count": null,
      "outputs": []
    },
    {
      "cell_type": "code",
      "source": [
        "11. In a for loop, what is the difference between range(10), range(0, 10), and range(0, 10, 1)?\n",
        "range(10)=it has one argument and it will stop when it reaches to the 10,it will print the output between the range.\n",
        "\n",
        "range(0, 10)=it has 2 argument,0 is starting point abd 10 is ending point,it will print the output between the range.\n",
        "\n",
        "range(0, 10, 1)=it has 3 argument,0 is starting point abd 10 is ending point,it will take 1 as steps to print the output."
      ],
      "metadata": {
        "id": "fJDo7XFH9892"
      },
      "execution_count": null,
      "outputs": []
    },
    {
      "cell_type": "code",
      "source": [
        "12. Write a short program that prints the numbers 1 to 10 using a for loop. Then write an equivalent\n",
        "program that prints the numbers 1 to 10 using a while loop.\n",
        "\n",
        "using for loop\n",
        "for i in range(1,11):\n",
        "    print(i)\n",
        "\n",
        "using while loop\n",
        "i = 1\n",
        "while i < 11:\n",
        "  print(i)\n",
        "  i += 1"
      ],
      "metadata": {
        "id": "hqBdTbBj-EpZ"
      },
      "execution_count": null,
      "outputs": []
    },
    {
      "cell_type": "code",
      "source": [
        "13. If you had a function named bacon() inside a module named spam, how would you call it after\n",
        "importing spam?\n",
        "This function can be called with spam.bacon()"
      ],
      "metadata": {
        "id": "O3tb1mZh-E3S"
      },
      "execution_count": null,
      "outputs": []
    }
  ]
}